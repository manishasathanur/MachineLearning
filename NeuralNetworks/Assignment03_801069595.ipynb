{
 "cells": [
  {
   "cell_type": "markdown",
   "metadata": {},
   "source": [
    "### Assignment 3 - Neural Networks"
   ]
  },
  {
   "cell_type": "markdown",
   "metadata": {},
   "source": [
    "Manisha Sathanur <br/>\n",
    "801069595"
   ]
  },
  {
   "cell_type": "markdown",
   "metadata": {},
   "source": [
    "# I. Overview\n",
    "\n",
    "The main objective of this assignment is to implement Non Linear Regression and  Nonlinear Logistic Regression models using Neural Networks and test it on my data to analyse its performance. We need to implement the NeuralNet Class which is used to implement the Neural network and build a fine regression model. The second objective is to implement cross validation from scratch and use it to find the best neural network model which best fits regression data. \n",
    "We need to Visualize the data, plot the distribution of data, preprocess the data and also Analyze the prediction results and compare the results with other linear regression model."
   ]
  },
  {
   "cell_type": "markdown",
   "metadata": {},
   "source": [
    "## Data Introduction\n",
    "__The dataset is a sample of the transactions made in a retail store taken from kaggle.\n",
    "The store wants to know  the customer purchase behaviour against different products. We can use \n",
    "regression problem where we are trying to predict the dependent variable (the amount of purchase) with the help of the information contained in the other variables.__"
   ]
  },
  {
   "cell_type": "markdown",
   "metadata": {},
   "source": [
    "### The dataset consists of the following attributes:\n",
    "- User_ID: id of User\n",
    "- Product_ID: Id Product\n",
    "- GenderBoolean: gender of each user\n",
    "- Age: customer age\n",
    "- OccupationId: Occupation of each customer\n",
    "- City_Category: There are 3 A, B and C. each custormer belongs to one of these 3\n",
    "- Stay_In_Current_City_Years: since when the custormer is staying in the current city. The values are 1, 2,3 or 4+\n",
    "- Marital_Status: marital status of each custormer is married or unmarried\n",
    "- Product_Category_1\n",
    "- Product_Category_2\n",
    "- Product_Category_3\n",
    "- Purchase: Purchase amount in dollars. This is the output variable."
   ]
  },
  {
   "cell_type": "markdown",
   "metadata": {},
   "source": [
    "## Data Reading \n",
    "Read data from .csv file using pandas"
   ]
  },
  {
   "cell_type": "code",
   "execution_count": 137,
   "metadata": {},
   "outputs": [],
   "source": [
    "import pandas as pd\n",
    "import numpy as np\n",
    "import seaborn as sb\n",
    "import matplotlib.pyplot as plt"
   ]
  },
  {
   "cell_type": "code",
   "execution_count": 138,
   "metadata": {},
   "outputs": [
    {
     "data": {
      "text/html": [
       "<div>\n",
       "<style scoped>\n",
       "    .dataframe tbody tr th:only-of-type {\n",
       "        vertical-align: middle;\n",
       "    }\n",
       "\n",
       "    .dataframe tbody tr th {\n",
       "        vertical-align: top;\n",
       "    }\n",
       "\n",
       "    .dataframe thead th {\n",
       "        text-align: right;\n",
       "    }\n",
       "</style>\n",
       "<table border=\"1\" class=\"dataframe\">\n",
       "  <thead>\n",
       "    <tr style=\"text-align: right;\">\n",
       "      <th></th>\n",
       "      <th>User_ID</th>\n",
       "      <th>Product_ID</th>\n",
       "      <th>Gender</th>\n",
       "      <th>Age</th>\n",
       "      <th>Occupation</th>\n",
       "      <th>City_Category</th>\n",
       "      <th>Stay_In_Current_City_Years</th>\n",
       "      <th>Marital_Status</th>\n",
       "      <th>Product_Category_1</th>\n",
       "      <th>Product_Category_2</th>\n",
       "      <th>Product_Category_3</th>\n",
       "      <th>Purchase</th>\n",
       "    </tr>\n",
       "  </thead>\n",
       "  <tbody>\n",
       "    <tr>\n",
       "      <th>0</th>\n",
       "      <td>1000001</td>\n",
       "      <td>P00069042</td>\n",
       "      <td>F</td>\n",
       "      <td>0-17</td>\n",
       "      <td>10</td>\n",
       "      <td>A</td>\n",
       "      <td>2</td>\n",
       "      <td>0</td>\n",
       "      <td>3</td>\n",
       "      <td>NaN</td>\n",
       "      <td>NaN</td>\n",
       "      <td>8370</td>\n",
       "    </tr>\n",
       "    <tr>\n",
       "      <th>1</th>\n",
       "      <td>1000001</td>\n",
       "      <td>P00248942</td>\n",
       "      <td>F</td>\n",
       "      <td>0-17</td>\n",
       "      <td>10</td>\n",
       "      <td>A</td>\n",
       "      <td>2</td>\n",
       "      <td>0</td>\n",
       "      <td>1</td>\n",
       "      <td>6.0</td>\n",
       "      <td>14.0</td>\n",
       "      <td>15200</td>\n",
       "    </tr>\n",
       "    <tr>\n",
       "      <th>2</th>\n",
       "      <td>1000001</td>\n",
       "      <td>P00087842</td>\n",
       "      <td>F</td>\n",
       "      <td>0-17</td>\n",
       "      <td>10</td>\n",
       "      <td>A</td>\n",
       "      <td>2</td>\n",
       "      <td>0</td>\n",
       "      <td>12</td>\n",
       "      <td>NaN</td>\n",
       "      <td>NaN</td>\n",
       "      <td>1422</td>\n",
       "    </tr>\n",
       "    <tr>\n",
       "      <th>3</th>\n",
       "      <td>1000001</td>\n",
       "      <td>P00085442</td>\n",
       "      <td>F</td>\n",
       "      <td>0-17</td>\n",
       "      <td>10</td>\n",
       "      <td>A</td>\n",
       "      <td>2</td>\n",
       "      <td>0</td>\n",
       "      <td>12</td>\n",
       "      <td>14.0</td>\n",
       "      <td>NaN</td>\n",
       "      <td>1057</td>\n",
       "    </tr>\n",
       "    <tr>\n",
       "      <th>4</th>\n",
       "      <td>1000002</td>\n",
       "      <td>P00285442</td>\n",
       "      <td>M</td>\n",
       "      <td>55+</td>\n",
       "      <td>16</td>\n",
       "      <td>C</td>\n",
       "      <td>4+</td>\n",
       "      <td>0</td>\n",
       "      <td>8</td>\n",
       "      <td>NaN</td>\n",
       "      <td>NaN</td>\n",
       "      <td>7969</td>\n",
       "    </tr>\n",
       "  </tbody>\n",
       "</table>\n",
       "</div>"
      ],
      "text/plain": [
       "   User_ID Product_ID Gender   Age  Occupation City_Category  \\\n",
       "0  1000001  P00069042      F  0-17          10             A   \n",
       "1  1000001  P00248942      F  0-17          10             A   \n",
       "2  1000001  P00087842      F  0-17          10             A   \n",
       "3  1000001  P00085442      F  0-17          10             A   \n",
       "4  1000002  P00285442      M   55+          16             C   \n",
       "\n",
       "  Stay_In_Current_City_Years  Marital_Status  Product_Category_1  \\\n",
       "0                          2               0                   3   \n",
       "1                          2               0                   1   \n",
       "2                          2               0                  12   \n",
       "3                          2               0                  12   \n",
       "4                         4+               0                   8   \n",
       "\n",
       "   Product_Category_2  Product_Category_3  Purchase  \n",
       "0                 NaN                 NaN      8370  \n",
       "1                 6.0                14.0     15200  \n",
       "2                 NaN                 NaN      1422  \n",
       "3                14.0                 NaN      1057  \n",
       "4                 NaN                 NaN      7969  "
      ]
     },
     "execution_count": 138,
     "metadata": {},
     "output_type": "execute_result"
    }
   ],
   "source": [
    "dataset=pd.read_csv(r'C:\\Users\\Manisha\\Desktop\\Subjects\\ML\\Assignment01_801069595\\blackfriday.csv')\n",
    "#dataset=pd.read_csv(\"blackfriday.csv\")\n",
    "dataset.head()"
   ]
  },
  {
   "cell_type": "markdown",
   "metadata": {},
   "source": [
    "### Obervation: the data set contains missing values NaN for Product_Category_1 and Product_Category_2. these values need to be handled as part of data preprossing."
   ]
  },
  {
   "cell_type": "markdown",
   "metadata": {},
   "source": [
    " ## DATA PREPROSSING\n",
    "- __Rename attribute names for consistency by removing special characters from them__ \n",
    "- __Change all variable types to number as we are dealing with regrression which would need values in the form of numbers__\n",
    "- __Handle missing values for Product_Category_1 and Product_Category_2__\n",
    "- __Change cityCategory to catogorical as we have 3 citites A, B and C the catogorical values would be 1, 2 and 3__ \n",
    "- __Change marital_status to binary that is married is 1 and unmarried is 0__\n",
    "- __Change the value of 4+ in the attribute stay_in_current_city_year to 4__"
   ]
  },
  {
   "cell_type": "code",
   "execution_count": 139,
   "metadata": {},
   "outputs": [
    {
     "data": {
      "text/plain": [
       "User_ID                         int64\n",
       "Product_ID                     object\n",
       "Gender                         object\n",
       "Age                            object\n",
       "Occupation                      int64\n",
       "City_Category                  object\n",
       "Stay_In_Current_City_Years     object\n",
       "Marital_Status                  int64\n",
       "Product_Category_1              int64\n",
       "Product_Category_2            float64\n",
       "Product_Category_3            float64\n",
       "Purchase                        int64\n",
       "dtype: object"
      ]
     },
     "execution_count": 139,
     "metadata": {},
     "output_type": "execute_result"
    }
   ],
   "source": [
    "dataset.dtypes"
   ]
  },
  {
   "cell_type": "code",
   "execution_count": 140,
   "metadata": {},
   "outputs": [],
   "source": [
    "#convert column headers to lower case\n",
    "#remove special characters from cloumn header and rename few cloumns \n",
    "dataset.columns = ['userid', 'productid', 'gender', 'age', 'occupation', 'citycategory',\n",
    "       'stayyearscity', 'maritalstatus', 'prodcat1',\n",
    "       'prodcat2', 'prodcat3', 'purchase']"
   ]
  },
  {
   "cell_type": "markdown",
   "metadata": {},
   "source": [
    "### Replace 0s and 1s in the Marital status column in order to make the attribute binary"
   ]
  },
  {
   "cell_type": "code",
   "execution_count": 141,
   "metadata": {},
   "outputs": [
    {
     "data": {
      "text/plain": [
       "userid             int64\n",
       "productid         object\n",
       "gender            object\n",
       "age               object\n",
       "occupation         int64\n",
       "citycategory      object\n",
       "stayyearscity     object\n",
       "maritalstatus     object\n",
       "prodcat1           int64\n",
       "prodcat2         float64\n",
       "prodcat3         float64\n",
       "purchase           int64\n",
       "dtype: object"
      ]
     },
     "execution_count": 141,
     "metadata": {},
     "output_type": "execute_result"
    }
   ],
   "source": [
    "dataset['maritalstatus'] = dataset['maritalstatus'].replace(0, 'Unmarried')\n",
    "dataset['maritalstatus'] = dataset['maritalstatus'].replace(1, 'Married')\n",
    "dataset.dtypes"
   ]
  },
  {
   "cell_type": "markdown",
   "metadata": {},
   "source": [
    "### The stayyearscity contians 4+ which needs to be replaced to 4 . This will make the attribute catagorical"
   ]
  },
  {
   "cell_type": "code",
   "execution_count": 142,
   "metadata": {},
   "outputs": [],
   "source": [
    "dataset_orig = dataset.copy()"
   ]
  },
  {
   "cell_type": "code",
   "execution_count": 143,
   "metadata": {},
   "outputs": [],
   "source": [
    "from sklearn.preprocessing import LabelEncoder\n",
    "encode_x = LabelEncoder()"
   ]
  },
  {
   "cell_type": "markdown",
   "metadata": {},
   "source": [
    "## Encoding the columns to make the data fit for regression"
   ]
  },
  {
   "cell_type": "code",
   "execution_count": 144,
   "metadata": {},
   "outputs": [],
   "source": [
    "# Encoding columns \n",
    "dataset['productid'] = encode_x.fit_transform(dataset['productid'])\n",
    "dataset['gender'] = encode_x.fit_transform(dataset['gender'])\n",
    "dataset['age'] = encode_x.fit_transform(dataset['age'])\n",
    "dataset['citycategory'] = encode_x.fit_transform(dataset['citycategory'])\n",
    "dataset['maritalstatus'] = encode_x.fit_transform(dataset['maritalstatus'])\n",
    "dataset['stayyearscity'] = encode_x.fit_transform(dataset['stayyearscity'])"
   ]
  },
  {
   "cell_type": "markdown",
   "metadata": {},
   "source": [
    "__replacing the 'NaN' with 0s and can be assumed as 'missing' category value__"
   ]
  },
  {
   "cell_type": "code",
   "execution_count": 145,
   "metadata": {},
   "outputs": [
    {
     "data": {
      "text/plain": [
       "userid           False\n",
       "productid        False\n",
       "gender           False\n",
       "age              False\n",
       "occupation       False\n",
       "citycategory     False\n",
       "stayyearscity    False\n",
       "maritalstatus    False\n",
       "prodcat1         False\n",
       "prodcat2         False\n",
       "prodcat3         False\n",
       "purchase         False\n",
       "dtype: bool"
      ]
     },
     "execution_count": 145,
     "metadata": {},
     "output_type": "execute_result"
    }
   ],
   "source": [
    "dataset['prodcat2'].fillna(value=0,inplace=True)\n",
    "dataset['prodcat3'].fillna(value=0,inplace=True)\n",
    "# check for missing values (NaN) in the dataset\n",
    "dataset.isna().any()"
   ]
  },
  {
   "cell_type": "code",
   "execution_count": 146,
   "metadata": {},
   "outputs": [
    {
     "data": {
      "text/plain": [
       "userid             int64\n",
       "productid          int32\n",
       "gender             int32\n",
       "age                int32\n",
       "occupation         int64\n",
       "citycategory       int32\n",
       "stayyearscity      int64\n",
       "maritalstatus      int32\n",
       "prodcat1           int64\n",
       "prodcat2         float64\n",
       "prodcat3         float64\n",
       "purchase           int64\n",
       "dtype: object"
      ]
     },
     "execution_count": 146,
     "metadata": {},
     "output_type": "execute_result"
    }
   ],
   "source": [
    "dataset['stayyearscity'] = dataset['stayyearscity'].replace('4+', 4)\n",
    "dataset.dtypes"
   ]
  },
  {
   "cell_type": "markdown",
   "metadata": {},
   "source": [
    "## Visualisations\n",
    "__to get the column labels instead of 0's and 1's we can use the dataset_orig for visualisation__"
   ]
  },
  {
   "cell_type": "code",
   "execution_count": 147,
   "metadata": {},
   "outputs": [
    {
     "data": {
      "image/png": "[encoded data removed]",
      "text/plain": [
       "<Figure size 1152x864 with 9 Axes>"
      ]
     },
     "metadata": {
      "needs_background": "light"
     },
     "output_type": "display_data"
    }
   ],
   "source": [
    "fig = plt.figure(figsize=(16,12))\n",
    "plt.clf()\n",
    "for i in range(9):\n",
    "    plt.subplot(6, 5, i+1)\n",
    "    plt.plot(dataset.iloc[:,i],dataset.purchase, '.')\n",
    "    plt.xlabel(dataset.columns.values[i])\n",
    "    plt.ylabel(\"Purchase\")\n",
    "fig.tight_layout()"
   ]
  },
  {
   "cell_type": "code",
   "execution_count": 148,
   "metadata": {},
   "outputs": [],
   "source": [
    "group_1 = dataset.groupby(['gender'])\n",
    "group_2 = dataset.groupby([\"age\"])\n",
    "group_3 = dataset.groupby([\"citycategory\"])\n",
    "group_4 = dataset.groupby([\"occupation\"])"
   ]
  },
  {
   "cell_type": "code",
   "execution_count": 149,
   "metadata": {},
   "outputs": [
    {
     "data": {
      "text/plain": [
       "<matplotlib.axes._subplots.AxesSubplot at 0x25b24af4e80>"
      ]
     },
     "execution_count": 149,
     "metadata": {},
     "output_type": "execute_result"
    },
    {
     "data": {
      "image/png": "[encoded data removed]",
      "text/plain": [
       "<Figure size 432x288 with 1 Axes>"
      ]
     },
     "metadata": {
      "needs_background": "light"
     },
     "output_type": "display_data"
    }
   ],
   "source": [
    "sb.countplot(dataset_orig['gender'])\n"
   ]
  },
  {
   "cell_type": "markdown",
   "metadata": {},
   "source": [
    " ## Observations: \n",
    "__it can be seen from the above bar graph that the number of male are more then the number of female shoppers\n",
    "for this retail store__"
   ]
  },
  {
   "cell_type": "code",
   "execution_count": 150,
   "metadata": {},
   "outputs": [
    {
     "data": {
      "image/png": "[encoded data removed]",
      "text/plain": [
       "<Figure size 1080x720 with 1 Axes>"
      ]
     },
     "metadata": {},
     "output_type": "display_data"
    }
   ],
   "source": [
    "plt.figure(figsize=(15,10))\n",
    "\n",
    "# Pie chart for gender distribution\n",
    "plt.subplot(2,2,1)\n",
    "gender_count = [dataset_orig.gender[dataset_orig['gender']=='F'].count(),\n",
    "                dataset_orig.gender[dataset_orig['gender']=='M'].count()]\n",
    "gender_lab = dataset_orig.gender.unique()\n",
    "expl = (0.1,0)\n",
    "plt.pie(gender_count, labels=gender_lab, explode=expl, shadow=True , autopct='%1.1f%%');"
   ]
  },
  {
   "cell_type": "markdown",
   "metadata": {},
   "source": [
    "## Observations:\n",
    "__aproximately 75% of the total shoppers where male and the remianing 25% where female shopper__"
   ]
  },
  {
   "cell_type": "code",
   "execution_count": 151,
   "metadata": {},
   "outputs": [
    {
     "data": {
      "text/plain": [
       "<matplotlib.axes._subplots.AxesSubplot at 0x25b299cfa58>"
      ]
     },
     "execution_count": 151,
     "metadata": {},
     "output_type": "execute_result"
    },
    {
     "data": {
      "image/png": "[encoded data removed]",
      "text/plain": [
       "<Figure size 432x288 with 1 Axes>"
      ]
     },
     "metadata": {
      "needs_background": "light"
     },
     "output_type": "display_data"
    }
   ],
   "source": [
    "sb.countplot(dataset_orig['age'])"
   ]
  },
  {
   "cell_type": "markdown",
   "metadata": {},
   "source": [
    "## Observations: \n",
    "__from the above graph it can be seen that the people between the age of 26 to 35 vistied the store most during blackfriday but this not mean that people in that age group have spend the most.__"
   ]
  },
  {
   "cell_type": "code",
   "execution_count": 163,
   "metadata": {},
   "outputs": [],
   "source": [
    "from matplotlib import *\n",
    "import sys\n",
    "from pylab import *"
   ]
  },
  {
   "cell_type": "code",
   "execution_count": 164,
   "metadata": {},
   "outputs": [
    {
     "data": {
      "image/png": "[encoded data removed]",
      "text/plain": [
       "<Figure size 576x432 with 1 Axes>"
      ]
     },
     "metadata": {
      "needs_background": "light"
     },
     "output_type": "display_data"
    }
   ],
   "source": [
    "plt.figure(figsize=(8,6))\n",
    "ordr2 =dataset_orig.groupby([\"stayyearscity\"]).count().sort_values(by='purchase',ascending=False).index\n",
    "sb.countplot(dataset_orig['stayyearscity'], label=True, order=ordr2)\n",
    "plt.show()"
   ]
  },
  {
   "cell_type": "markdown",
   "metadata": {},
   "source": [
    "## Observations:\n",
    "__people who have started staying in their respective cities since just a year have visited the store more. As the number of years they have stayed increased the purchase rate decreased.\n",
    "This could be because people who are new tend to explore and roam around more as one gets settled they might prefer to stay home.\n",
    "Another reason could be that the people new could need to buy more inorder to settle in to they new home.__"
   ]
  },
  {
   "cell_type": "code",
   "execution_count": 169,
   "metadata": {},
   "outputs": [
    {
     "data": {
      "text/plain": [
       "array(['F_Unmarried', 'M_Unmarried', 'M_Married', 'F_Married'],\n",
       "      dtype=object)"
      ]
     },
     "execution_count": 169,
     "metadata": {},
     "output_type": "execute_result"
    }
   ],
   "source": [
    "#Creating new column in the dataset \n",
    "dataset_orig['gender_maritalstatus'] = dataset_orig.apply(lambda x:'%s_%s' % (x['gender'],x['maritalstatus']),axis=1)\n",
    "dataset_orig.gender_maritalstatus.unique()"
   ]
  },
  {
   "cell_type": "code",
   "execution_count": 168,
   "metadata": {},
   "outputs": [],
   "source": [
    "#group by for gender and marital status\n",
    "group_5 = dataset_orig.groupby([\"gender_maritalstatus\"])"
   ]
  },
  {
   "cell_type": "markdown",
   "metadata": {},
   "source": [
    "## Observation : \n",
    "__from chart above the number of unmarried shoppers are more then the married shoppers for both male and female. As unmarried people tend to have more time to shop then people who are married__"
   ]
  },
  {
   "cell_type": "code",
   "execution_count": 171,
   "metadata": {},
   "outputs": [
    {
     "data": {
      "image/png": "[encoded data removed]",
      "text/plain": [
       "<Figure size 360x360 with 1 Axes>"
      ]
     },
     "metadata": {
      "needs_background": "light"
     },
     "output_type": "display_data"
    },
    {
     "data": {
      "image/png": "[encoded data removed]",
      "text/plain": [
       "<Figure size 360x360 with 1 Axes>"
      ]
     },
     "metadata": {
      "needs_background": "light"
     },
     "output_type": "display_data"
    },
    {
     "data": {
      "image/png": "[encoded data removed]",
      "text/plain": [
       "<Figure size 360x360 with 1 Axes>"
      ]
     },
     "metadata": {
      "needs_background": "light"
     },
     "output_type": "display_data"
    },
    {
     "data": {
      "image/png": "[encoded data removed]",
      "text/plain": [
       "<Figure size 360x360 with 1 Axes>"
      ]
     },
     "metadata": {
      "needs_background": "light"
     },
     "output_type": "display_data"
    }
   ],
   "source": [
    "#bar chart for purchase vs (age,occupation, marritial status and city)\n",
    "sb.catplot(x='gender_maritalstatus', y='purchase', data=dataset_orig, kind='box')\n",
    "\n",
    "sb.catplot(x='citycategory', y='purchase', data=dataset_orig, kind='boxen')\n",
    "ordr_occ =dataset_orig.groupby([\"age\"]).mean().sort_values(by='purchase',ascending=False).index\n",
    "sb.catplot(x='age', y='purchase', order=ordr_occ, data=dataset_orig, kind='bar')\n",
    "\n",
    "ordr_occ =dataset_orig.groupby([\"occupation\"]).mean().sort_values(by='purchase',ascending=False).index\n",
    "sb.catplot(x='occupation', y='purchase', order=ordr_occ, data=dataset_orig, kind='bar')\n",
    "plt.show()"
   ]
  },
  {
   "cell_type": "markdown",
   "metadata": {},
   "source": [
    "## Observations :\n",
    "- __Males spend more than females__\n",
    "- __Age factor : People who have earned more (spend more time working) and have saved enough money, tend to spend more then the other shoppers. The least spenders are from the age 0-17.This could be because__ \n",
    "- __Occupation codes 17, 12 and 15 appears to be earning more and accordingly spend more__\n",
    "- __People living in Category C city appears to spend more in the mall__"
   ]
  },
  {
   "cell_type": "code",
   "execution_count": 172,
   "metadata": {},
   "outputs": [
    {
     "data": {
      "image/png": "[encoded data removed]",
      "text/plain": [
       "<Figure size 864x648 with 2 Axes>"
      ]
     },
     "metadata": {
      "needs_background": "light"
     },
     "output_type": "display_data"
    }
   ],
   "source": [
    "correlation = dataset.corr()\n",
    "f, ax = plt.subplots(figsize=(12, 9))\n",
    "sb.heatmap(correlation, vmax=1, cmap=\"YlGnBu\", square=True,linewidths=.5, annot=True)\n",
    "plt.show()"
   ]
  },
  {
   "cell_type": "markdown",
   "metadata": {},
   "source": [
    "## Observations:\n",
    "__from the correlation matrix it can be seen that citycategory and gender and the most correlated columns to purchase__"
   ]
  },
  {
   "cell_type": "markdown",
   "metadata": {},
   "source": [
    "# III. Methods\n",
    "\n",
    "II.A 5-fold Cross Validation\n",
    "Explain and use 5-fold cross validation to find a good neural network parameters including the structure to report the CV accuracies.\n",
    "III.B Nonlinear Regression\n",
    "Summarize the nonlinear regression model.\n",
    "Use the NeuralNet class for regression to apply to your data.\n",
    "Explain your codes (not in comment).\n",
    "III.C Nonlinear Logistic Regression\n",
    "Summarize the nonlinear logistic regression model.\n",
    "Finish the following NeuralNetLogReg class.\n",
    "Check if your codes works well with toy synthetic data.\n",
    "Apply to your classification data.\n",
    "Explain your codes (not in comment). "
   ]
  },
  {
   "cell_type": "markdown",
   "metadata": {},
   "source": [
    "# Nonlinear Regression\n"
   ]
  },
  {
   "cell_type": "markdown",
   "metadata": {},
   "source": [
    "### Summary of Neural Networks\n",
    "* Neural networks, or artificial neural networks, are the computational models inspired by the brain. Mimicing the neurons' synaptic connecions ,  we build or stack multiple neuron-like hidden units to map data into nonlinear space for rich representation. \n",
    "\n",
    "*  Neural Networks are typically organized in layers where each layer consists of a number of interconnected nodes which contain a activation function. Every neural network contains an input layer, output layer and one or more hidden layers. Input layer consists of nodes that are the features of the dataset whereas the output layer nodes are the classes to which the entry belongs to i.e the output after classification. The input for the hidden layer's nodes are the outputs of the previous layers with weights. Hidden layers have activation function which computes the output for the next layer.\n",
    "\n",
    "* Inputs are fed to the network and the output is calculated which is called forward propagation. \n",
    "\n",
    "* These computed values are compared with actual values and the weights are updated based on the errors. This process is called Backward propagation.\n",
    "\n",
    "* Optimization algorithms helps us to minimize (or maximize) an Objective function (another name for Error function) E(x) which is simply a mathematical function dependent on the Model’s internal learnable parameters which are used in computing the target values(Y) from the set of predictors(X) used in the model. Some optimization algorithms used in Neural networks are : a. Gradient Descent :  Find the Minima , control the variance and then update the Model’s parameters and finally lead us to Convergence. b. Adam : Adam stands for Adaptive Moment Estimation. Adaptive Moment Estimation (Adam) is another method that computes adaptive learning rates for each parameter.  In addition to storing an exponentially decaying average of past squared gradients like AdaDelta ,Adam also keeps an exponentially decaying average of past gradients similar to momentum."
   ]
  },
  {
   "cell_type": "markdown",
   "metadata": {},
   "source": [
    "### Explanation of codes\n",
    "* Class Standardizer : This class is used to normalize the data . It is used to Standardize the data using Z-score Normalization to pass to the Neural network model. It also unstandardizes the output produced by the model.\n",
    "\n",
    "* Class NeuralNet : This class implements the Neural Network,While an instance of this class is created, number of inputs, hidden units, and outputs of a neural network are passed as input.It has the following members:\n",
    "1. _init_() : used tom initialize some variables like no of layers, initial weights, stdX,stdT etc.\n",
    "2. add_ones() : used to add acloumn of ones to every row of the input data.\\\n",
    "3. get_nlayers() : returns the no of layers.\n",
    "4. set_hunit() : used to check the weight arrays and also used to update weights.\n",
    "5. pack():  used to pack multiple layers of weights into a single vector.\n",
    "6. unpack() : used to convert vector into multiple layers of weights.\n",
    "7. cp_weight() : used to return the current weights of the model\n",
    "8. RBF() : activation function\n",
    "9. forward() : used to implement forward processing of neural network.\n",
    "10. backward() : used to implement back propagation of neural network.\n",
    "11. _errorf() : loss function\n",
    "12. _objectf() : function to reduce the loss\n",
    "13. train() : it takes the features, target and other parameters as input and computes ,trains the model and update the weights of the neural network.\n",
    "14. optimtargetf(): used to optimize the target.\n",
    "15. use() : takes new features as input , predicts the target using the trained weights and returns the predicted values."
   ]
  },
  {
   "cell_type": "code",
   "execution_count": 174,
   "metadata": {},
   "outputs": [],
   "source": [
    "import numpy as np\n",
    "import pandas as pd\n",
    "import matplotlib.pyplot as plt\n",
    "import seaborn as sns\n",
    "import math\n",
    "%matplotlib inline\n"
   ]
  },
  {
   "cell_type": "code",
   "execution_count": 175,
   "metadata": {},
   "outputs": [],
   "source": [
    "from numpy import * "
   ]
  },
  {
   "cell_type": "code",
   "execution_count": 176,
   "metadata": {},
   "outputs": [
    {
     "name": "stdout",
     "output_type": "stream",
     "text": [
      "3.6.8 |Anaconda, Inc.| (default, Feb 21 2019, 18:30:04) [MSC v.1916 64 bit (AMD64)]\n"
     ]
    }
   ],
   "source": [
    "import sys\n",
    "print(sys.version)"
   ]
  },
  {
   "cell_type": "code",
   "execution_count": 177,
   "metadata": {},
   "outputs": [],
   "source": [
    "from grad import scg, steepest\n",
    "from copy import copy"
   ]
  },
  {
   "cell_type": "code",
   "execution_count": 178,
   "metadata": {},
   "outputs": [],
   "source": [
    "# standardization class\n",
    "class Standardizer: \n",
    "    \"\"\" class version of standardization \"\"\"\n",
    "    def __init__(self, X, explore=False):\n",
    "        self._mu = np.mean(X,0).astype(int)\n",
    "        self._sigma = np.std(X,0)\n",
    "        if explore:\n",
    "            print (\"mean: \", self._mu)\n",
    "            print (\"sigma: \", self._sigma)\n",
    "            print (\"min: \", np.min(X,0))\n",
    "            print (\"max: \", np.max(X,0))\n",
    "\n",
    "    def set_sigma(self, s):\n",
    "        self._sigma[:] = s\n",
    "\n",
    "    def standardize(self,X):\n",
    "        return (X - self._mu) / self._sigma \n",
    "\n",
    "    def unstandardize(self,X):\n",
    "        return (X * self._sigma) + self._mu "
   ]
  },
  {
   "cell_type": "code",
   "execution_count": 179,
   "metadata": {},
   "outputs": [],
   "source": [
    "class NeuralNet:\n",
    "    \"\"\" neural network class for regression\n",
    "        \n",
    "        Parameters\n",
    "        ----------\n",
    "        nunits: list\n",
    "            the number of inputs, hidden units, and outputs\n",
    "\n",
    "        Methods\n",
    "        -------\n",
    "        set_hunit    \n",
    "            update/initiate weights\n",
    "\n",
    "        pack \n",
    "            pack multiple weights of each layer into one vector\n",
    "\n",
    "        forward\n",
    "            forward processing of neural network\n",
    "\n",
    "        backward\n",
    "            back-propagation of neural network\n",
    "\n",
    "        train\n",
    "            train the neural network\n",
    "\n",
    "        use\n",
    "            appply the trained network for prediction\n",
    "\n",
    "        Attributes\n",
    "        ----------\n",
    "        _nLayers\n",
    "            the number of hidden unit layers \n",
    "\n",
    "        rho\n",
    "            learning rate\n",
    "\n",
    "        _W\n",
    "            weights\n",
    "        _weights\n",
    "            weights in one dimension (_W is referencing _weight)\n",
    "\n",
    "        stdX\n",
    "            standardization class for data\n",
    "        stdT\n",
    "            standardization class for target\n",
    "\n",
    "        Notes\n",
    "        -----\n",
    "        \n",
    "    \"\"\"\n",
    "\n",
    "    def __init__(self, nunits):\n",
    "\n",
    "        self._nLayers=len(nunits)-1\n",
    "        self.rho = [1] * self._nLayers\n",
    "        self._W = []\n",
    "        wdims = []\n",
    "        lenweights = 0\n",
    "        for i in range(self._nLayers):\n",
    "            nwr = nunits[i] + 1\n",
    "            nwc = nunits[i+1]\n",
    "            wdims.append((nwr, nwc))\n",
    "            lenweights = lenweights + nwr * nwc\n",
    "\n",
    "        self._weights = np.random.uniform(-0.1,0.1, lenweights) \n",
    "        start = 0  # fixed index error 20110107\n",
    "        for i in range(self._nLayers):\n",
    "            end = start + wdims[i][0] * wdims[i][1] \n",
    "            self._W.append(self._weights[start:end])\n",
    "            self._W[i].resize(wdims[i])\n",
    "            start = end\n",
    "\n",
    "        self.stdX = None\n",
    "        self.stdT = None\n",
    "        self.stdTarget = True\n",
    "\n",
    "    def add_ones(self, w):\n",
    "        return np.hstack((np.ones((w.shape[0], 1)), w))\n",
    "\n",
    "    def get_nlayers(self):\n",
    "        return self._nLayers\n",
    "\n",
    "    def set_hunit(self, w):\n",
    "        for i in range(self._nLayers-1):\n",
    "            if w[i].shape != self._W[i].shape:\n",
    "                print(\"set_hunit: shapes do not match!\")\n",
    "                break\n",
    "            else:\n",
    "                self._W[i][:] = w[i][:]\n",
    "\n",
    "    def pack(self, w):\n",
    "        return np.hstack(map(np.ravel, w))\n",
    "\n",
    "    def unpack(self, weights):\n",
    "        self._weights[:] = weights[:]  # unpack\n",
    "\n",
    "    def cp_weight(self):\n",
    "        return copy(self._weights)\n",
    "\n",
    "    def RBF(self, X, m=None,s=None):\n",
    "        if m is None: m = np.mean(X)\n",
    "        if s is None: s = 2 #np.std(X)\n",
    "        r = 1. / (np.sqrt(2*np.pi)* s)  \n",
    "        return r * np.exp(-(X - m) ** 2 / (2 * s ** 2))\n",
    "\n",
    "    def forward(self,X):\n",
    "        t = X \n",
    "        Z = []\n",
    "\n",
    "        for i in range(self._nLayers):\n",
    "            Z.append(t) \n",
    "            if i == self._nLayers - 1:\n",
    "                t = np.dot(self.add_ones(t), self._W[i])\n",
    "            else:\n",
    "                t = np.tanh(np.dot(self.add_ones(t), self._W[i]))\n",
    "                #t = self.RBF(np.dot(np.hstack((np.ones((t.shape[0],1)),t)),self._W[i]))\n",
    "        return (t, Z)\n",
    "        \n",
    "    def backward(self, error, Z, T, lmb=0):\n",
    "        delta = error\n",
    "        N = T.size\n",
    "        dws = []\n",
    "        for i in range(self._nLayers - 1, -1, -1):\n",
    "            rh = float(self.rho[i]) / N\n",
    "            if i==0:\n",
    "                lmbterm = 0\n",
    "            else:\n",
    "                lmbterm = lmb * np.vstack((np.zeros((1, self._W[i].shape[1])),\n",
    "                            self._W[i][1:,]))\n",
    "            dws.insert(0,(-rh * np.dot(self.add_ones(Z[i]).T, delta) + lmbterm))\n",
    "            if i != 0:\n",
    "                delta = np.dot(delta, self._W[i][1:, :].T) * (1 - Z[i]**2)\n",
    "        return self.pack(dws)\n",
    "\n",
    "    def _errorf(self, T, Y):\n",
    "        return T - Y\n",
    "        \n",
    "    def _objectf(self, T, Y, wpenalty):\n",
    "        return 0.5 * np.mean(np.square(T - Y)) + wpenalty\n",
    "\n",
    "    def train(self, X, T, **params):\n",
    "\n",
    "        verbose = params.pop('verbose', False)\n",
    "        # training parameters\n",
    "        _lambda = params.pop('Lambda', 0.)\n",
    "\n",
    "        #parameters for scg\n",
    "        niter = params.pop('niter', 1000)\n",
    "        wprecision = params.pop('wprecision', 1e-10)\n",
    "        fprecision = params.pop('fprecision', 1e-10)\n",
    "        wtracep = params.pop('wtracep', False)\n",
    "        ftracep = params.pop('ftracep', False)\n",
    "\n",
    "        # optimization\n",
    "        optim = params.pop('optim', 'scg')\n",
    "\n",
    "        if self.stdX == None:\n",
    "            explore = params.pop('explore', False)\n",
    "            self.stdX = Standardizer(X, explore)\n",
    "        Xs = self.stdX.standardize(X)\n",
    "        if self.stdT == None and self.stdTarget:\n",
    "            self.stdT = Standardizer(T)\n",
    "            T = self.stdT.standardize(T)\n",
    "        \n",
    "        def gradientf(weights):\n",
    "            self.unpack(weights)\n",
    "            Y,Z = self.forward(Xs)\n",
    "            error = self._errorf(T, Y)\n",
    "            return self.backward(error, Z, T, _lambda)\n",
    "            \n",
    "        def optimtargetf(weights):\n",
    "            \"\"\" optimization target function : MSE \n",
    "            \"\"\"\n",
    "            self.unpack(weights)\n",
    "            #self._weights[:] = weights[:]  # unpack\n",
    "            Y,_ = self.forward(Xs)\n",
    "            Wnb=np.array([])\n",
    "            for i in range(self._nLayers):\n",
    "                if len(Wnb)==0: Wnb=self._W[i][1:,].reshape(self._W[i].size-self._W[i][0,].size,1)\n",
    "                else: Wnb = np.vstack((Wnb,self._W[i][1:,].reshape(self._W[i].size-self._W[i][0,].size,1)))\n",
    "            wpenalty = _lambda * np.dot(Wnb.flat ,Wnb.flat)\n",
    "            return self._objectf(T, Y, wpenalty)\n",
    "\n",
    "        if optim == 'scg':\n",
    "            result = scg(self.cp_weight(), gradientf, optimtargetf,\n",
    "                                        wPrecision=wprecision, fPrecision=fprecision, \n",
    "                                        nIterations=niter,\n",
    "                                        wtracep=wtracep, ftracep=ftracep,\n",
    "                                        verbose=False)\n",
    "            self.unpack(result['w'][:])\n",
    "            self.f = result['f']\n",
    "        elif optim == 'steepest':\n",
    "            result = steepest(self.cp_weight(), gradientf, optimtargetf,\n",
    "                                nIterations=niter,\n",
    "                                xPrecision=wprecision, fPrecision=fprecision,\n",
    "                                xtracep=wtracep, ftracep=ftracep )\n",
    "            self.unpack(result['w'][:])\n",
    "        if ftracep:\n",
    "            self.ftrace = result['ftrace']\n",
    "        if 'reason' in result.keys() and verbose:\n",
    "            print(result['reason'])\n",
    "\n",
    "        return result\n",
    "\n",
    "    def use(self, X, retZ=False):\n",
    "        if self.stdX:\n",
    "            Xs = self.stdX.standardize(X)\n",
    "        else:\n",
    "            Xs = X\n",
    "        Y, Z = self.forward(Xs)\n",
    "        if self.stdT is not None:\n",
    "            Y = self.stdT.unstandardize(Y)\n",
    "        if retZ:\n",
    "            return Y, Z\n",
    "        return Y"
   ]
  },
  {
   "cell_type": "code",
   "execution_count": 193,
   "metadata": {},
   "outputs": [],
   "source": [
    "df1=dataset.sample(20000)"
   ]
  },
  {
   "cell_type": "code",
   "execution_count": 194,
   "metadata": {},
   "outputs": [],
   "source": [
    "T=df1.iloc[:,1];"
   ]
  },
  {
   "cell_type": "code",
   "execution_count": 195,
   "metadata": {},
   "outputs": [
    {
     "data": {
      "text/plain": [
       "(20000, 9)"
      ]
     },
     "execution_count": 195,
     "metadata": {},
     "output_type": "execute_result"
    }
   ],
   "source": [
    "X=df1\n",
    "X=X.drop('userid',axis=1)\n",
    "X=X.drop('productid',axis=1)\n",
    "X=X.drop('purchase',axis=1)\n",
    "#X=X.drop('prodcat1',axis=1)\n",
    "#X=X.drop('prodcat2',axis=1)\n",
    "#X=X.drop('prodcat3',axis=1)\n",
    "\n",
    "X.shape"
   ]
  },
  {
   "cell_type": "code",
   "execution_count": 196,
   "metadata": {},
   "outputs": [],
   "source": [
    "#Splitting into training and test sets\n",
    "from sklearn.model_selection import train_test_split"
   ]
  },
  {
   "cell_type": "code",
   "execution_count": 197,
   "metadata": {},
   "outputs": [],
   "source": [
    "hp_features_train1, hp_features_test1, hp_target_train1, hp_target_test1 = train_test_split(X,T , test_size=0.3, random_state=40)"
   ]
  },
  {
   "cell_type": "code",
   "execution_count": 198,
   "metadata": {},
   "outputs": [
    {
     "data": {
      "text/plain": [
       "(14000,)"
      ]
     },
     "execution_count": 198,
     "metadata": {},
     "output_type": "execute_result"
    }
   ],
   "source": [
    "np.array(hp_features_train1).shape\n",
    "np.array(hp_target_train1).shape"
   ]
  },
  {
   "cell_type": "code",
   "execution_count": 199,
   "metadata": {},
   "outputs": [
    {
     "data": {
      "text/plain": [
       "(14000, 1)"
      ]
     },
     "execution_count": 199,
     "metadata": {},
     "output_type": "execute_result"
    }
   ],
   "source": [
    "np.array(hp_target_train1).reshape((hp_target_train1.shape[0],1)).shape"
   ]
  },
  {
   "cell_type": "code",
   "execution_count": 200,
   "metadata": {},
   "outputs": [
    {
     "name": "stderr",
     "output_type": "stream",
     "text": [
      "C:\\Users\\Manisha\\Anaconda3\\lib\\site-packages\\ipykernel_launcher.py:92: FutureWarning: arrays to stack must be passed as a \"sequence\" type such as list or tuple. Support for non-sequence iterables such as generators is deprecated as of NumPy 1.16 and will raise an error in the future.\n"
     ]
    },
    {
     "data": {
      "text/plain": [
       "{'w': array([-4.22580387e-02, -3.30411135e+00, -1.47656713e+00,  2.93745465e-01,\n",
       "        -3.17577319e-01, -9.61212658e-01, -1.73897665e+00, -3.18177055e+00,\n",
       "         2.74849855e-01,  4.58058382e-01, -4.59299772e-02,  6.14385531e-01,\n",
       "        -3.90752746e-01,  1.66601394e-01,  1.33743963e-01, -8.90324633e-01,\n",
       "        -1.74233565e+00,  2.38024177e+00, -1.79317679e+00, -6.10515490e-01,\n",
       "         2.16249815e-01, -4.54519629e-02,  5.28303186e-02, -1.06043393e-01,\n",
       "        -4.00101009e-02, -9.35909921e-02, -1.15708988e-01,  7.83119399e-02,\n",
       "        -7.62139884e-02, -1.28288819e+00,  5.46342923e-01, -4.59229858e-01,\n",
       "         4.85569647e-01,  2.25564331e-01,  8.14284842e-01, -5.20839701e-03,\n",
       "        -3.18301620e-02, -4.25696647e-01, -2.54248232e-02,  5.99438057e-01,\n",
       "         9.06317159e-01,  3.04475945e-02, -1.73226527e-02, -5.60427942e-02,\n",
       "         1.74218025e-02, -8.98880119e-02, -5.88594662e-02,  3.22115822e-02,\n",
       "        -1.31591383e-01, -3.47665491e-01, -2.03767664e-01,  4.90095116e-01,\n",
       "        -6.57458185e-01, -5.77155873e-01,  1.85413211e-01,  4.22175082e-02,\n",
       "        -1.98347705e-02, -1.63605259e+00,  4.83186735e-02, -3.00566233e-01,\n",
       "        -7.06141579e-01, -1.70447209e-02, -5.20745691e-05,  1.67771631e-02,\n",
       "         3.18787432e-02,  1.29317870e-02, -3.28932249e-02,  7.09338792e-04,\n",
       "         2.73979363e-02,  4.90430434e-01, -1.54201165e+00,  2.07004541e+00,\n",
       "         3.18784556e-01,  1.95575806e-01, -8.67874905e-01,  1.45218820e-02,\n",
       "        -4.87039909e-03,  1.06873119e-01, -5.75728797e-02, -1.16396749e+00,\n",
       "         2.93129539e-01,  4.63765275e-02, -1.36014936e-02,  3.77924526e-02,\n",
       "        -5.00317064e-02,  3.02947336e-02,  3.58991431e-02,  1.99446461e-02,\n",
       "         2.69451407e-03, -9.42513377e-01, -1.63934779e-01, -6.10924072e-01,\n",
       "        -4.73316420e-01, -2.53884360e-01,  6.71074748e-01,  1.25577612e-03,\n",
       "        -1.18776940e-03,  1.15843927e+00,  3.56885430e-03, -5.14421116e-01,\n",
       "         1.02533355e+00, -4.92983939e-02, -2.58402488e-03, -1.32749242e-01,\n",
       "         5.53557779e-03, -5.01350333e-02,  9.79576211e-03, -3.76256319e-02,\n",
       "         8.12165366e-02,  2.99534709e-01,  4.56379507e-02, -4.91202906e-01,\n",
       "         2.12091256e-01,  1.03305724e-01, -2.80760434e-01,  2.46113832e-02,\n",
       "        -2.81838433e-03,  5.85441856e-01, -3.99241463e-03,  3.15249065e-01,\n",
       "        -3.19159426e-01,  2.52027546e-02, -3.24035218e-03, -6.81125449e-02,\n",
       "         8.34067352e-03,  3.66754097e-02,  9.86861872e-02,  2.67517262e-03,\n",
       "        -5.20293767e-02, -5.09569814e-01, -3.83867390e-01, -3.06417357e-01,\n",
       "        -1.87991239e-01, -1.48463066e-01, -6.98940197e-01, -4.54397973e-02,\n",
       "         5.24436910e-02,  1.44196338e-01, -6.99170377e-02, -2.81888660e-01,\n",
       "        -3.48151270e-01, -1.49353496e+00, -2.31375866e-01, -3.04959061e+00,\n",
       "         1.71220395e-01, -9.25519683e-01, -1.26716903e+00, -9.76374630e-01,\n",
       "         1.52716770e+00,  2.31177029e+00,  6.93586593e-01,  8.87414041e-01,\n",
       "        -8.36491467e-01, -5.70087415e-01,  1.24137484e+00,  7.61468577e-01,\n",
       "        -3.59920850e-01,  2.84681603e-01, -2.07509039e+00,  6.90238414e-01,\n",
       "         1.10405927e+00, -4.15357802e+00,  1.12998579e+00, -4.78685467e-01,\n",
       "         5.77547741e-01, -8.28128304e-01, -1.67473037e+00,  2.85126557e+00,\n",
       "         3.40236215e+00,  1.59490559e+00, -7.16614051e-02,  3.79830226e-01,\n",
       "        -1.16688723e-01, -5.55295613e-02,  2.11787270e-01, -4.89232797e-01,\n",
       "        -3.41321229e+00,  7.74738763e-01, -8.95020866e-01,  1.60116244e-02,\n",
       "         2.51318304e-02, -1.07968420e+00, -3.00485397e-01,  2.21258520e+00,\n",
       "        -5.68372883e-01, -5.67169336e-01,  1.88177707e-01, -2.28988756e-01,\n",
       "         1.15081539e+00,  8.89455301e-01, -8.80441229e-01,  3.29411514e-01,\n",
       "        -5.51899965e-01, -3.34160179e-01, -1.65252129e+00,  7.79649477e-01,\n",
       "         3.59379426e-01,  1.60019543e+00, -3.29495209e+00, -9.50867924e-01,\n",
       "         3.30516098e-01,  1.34700022e-01, -2.15886978e+00,  3.62359502e+00,\n",
       "        -8.56604466e-01, -3.05656602e+00,  2.35093567e+00, -1.28268602e+00,\n",
       "        -1.68717628e+00,  1.01519533e+00,  2.26842105e-01,  3.25143396e-01,\n",
       "         1.10435719e-01,  5.24122935e-01, -7.69300421e-01, -1.74997227e-01,\n",
       "        -1.07117391e+00,  1.76014533e+00, -1.31024291e-01,  6.82077058e-01,\n",
       "        -3.29994718e-01]),\n",
       " 'f': 0.442766112445069,\n",
       " 'reason': 'reached limit of nIterations',\n",
       " 'wtrace': None,\n",
       " 'ftrace': None}"
      ]
     },
     "execution_count": 200,
     "metadata": {},
     "output_type": "execute_result"
    }
   ],
   "source": [
    "#hp_features_train1\n",
    "nn = NeuralNet([hp_features_train1.shape[1],20,1])\n",
    "nn.train(np.array(hp_features_train1), np.array(hp_target_train1).reshape((hp_target_train1.shape[0],1)))"
   ]
  },
  {
   "cell_type": "code",
   "execution_count": 201,
   "metadata": {},
   "outputs": [
    {
     "data": {
      "text/plain": [
       "(6000, 9)"
      ]
     },
     "execution_count": 201,
     "metadata": {},
     "output_type": "execute_result"
    }
   ],
   "source": [
    "np.array(hp_features_test1).shape"
   ]
  },
  {
   "cell_type": "code",
   "execution_count": 202,
   "metadata": {},
   "outputs": [],
   "source": [
    "Y = nn.use(np.array(hp_features_test1))"
   ]
  },
  {
   "cell_type": "code",
   "execution_count": 203,
   "metadata": {},
   "outputs": [],
   "source": [
    "from sklearn.metrics import r2_score"
   ]
  },
  {
   "cell_type": "code",
   "execution_count": 204,
   "metadata": {},
   "outputs": [
    {
     "data": {
      "text/plain": [
       "0.07910087464805748"
      ]
     },
     "execution_count": 204,
     "metadata": {},
     "output_type": "execute_result"
    }
   ],
   "source": [
    "r2_score(hp_target_test1, Y)"
   ]
  },
  {
   "cell_type": "code",
   "execution_count": 205,
   "metadata": {},
   "outputs": [
    {
     "data": {
      "text/plain": [
       "9"
      ]
     },
     "execution_count": 205,
     "metadata": {},
     "output_type": "execute_result"
    }
   ],
   "source": [
    "hp_features_train1.shape[1]"
   ]
  },
  {
   "cell_type": "markdown",
   "metadata": {},
   "source": [
    "\n",
    "# 5-fold Cross Validation\n"
   ]
  },
  {
   "cell_type": "code",
   "execution_count": 219,
   "metadata": {},
   "outputs": [],
   "source": [
    "import random\n",
    "data=dataset.sample(20000)"
   ]
  },
  {
   "cell_type": "code",
   "execution_count": 220,
   "metadata": {},
   "outputs": [],
   "source": [
    "T=data.iloc[:,1];"
   ]
  },
  {
   "cell_type": "code",
   "execution_count": 221,
   "metadata": {},
   "outputs": [
    {
     "data": {
      "text/plain": [
       "(20000, 9)"
      ]
     },
     "execution_count": 221,
     "metadata": {},
     "output_type": "execute_result"
    }
   ],
   "source": [
    "X=data\n",
    "X=X.drop('userid',axis=1)\n",
    "X=X.drop('productid',axis=1)\n",
    "X=X.drop('purchase',axis=1)\n",
    "#X=X.drop('prodcat1',axis=1)\n",
    "#X=X.drop('prodcat2',axis=1)\n",
    "#X=X.drop('prodcat3',axis=1)\n",
    "\n",
    "X.shape"
   ]
  },
  {
   "cell_type": "code",
   "execution_count": 222,
   "metadata": {},
   "outputs": [
    {
     "data": {
      "text/plain": [
       "(20000, 1)"
      ]
     },
     "execution_count": 222,
     "metadata": {},
     "output_type": "execute_result"
    }
   ],
   "source": [
    "np.array(T).reshape((T.shape[0],1)).shape"
   ]
  },
  {
   "cell_type": "code",
   "execution_count": 223,
   "metadata": {},
   "outputs": [
    {
     "data": {
      "text/plain": [
       "(20000, 1)"
      ]
     },
     "execution_count": 223,
     "metadata": {},
     "output_type": "execute_result"
    }
   ],
   "source": [
    "target2 = np.array(T).reshape(T.shape[0],1) # (21613, 1)\n",
    "features2 = np.array(X) # (21613, 14)\n",
    "\n",
    "target2.shape\n"
   ]
  },
  {
   "cell_type": "markdown",
   "metadata": {},
   "source": [
    "### Explanation of Cross Validation Codes"
   ]
  },
  {
   "cell_type": "markdown",
   "metadata": {},
   "source": [
    "* partitionData() : takes data and no of slices as inputs, divides the data into n slices of equal length and returns the list of sliced data useful for cross validation.\n",
    "* cross_validate() : This function implements the 5-fold cross validation. It takes the features, target and list of models as input, performs cross validation and used to decide the best model among the given inputs which best fits the data.\n",
    "* It divides the input features and target into 5 equal parts. It runs 5 folds to determine which model performs better in each fold. It returns two lists consisting of best performing model in each fold and respective rmse error . By using these two lists, we can derive which model performs the best among the given input models.\n",
    "\n",
    "* In each fold, It one part of the sliced data is used as test, and among the remaining 4 parts, Neural network is trained 4 times each time with one part as the validation dataset and the remaining 3 parts as the training set. Among them, the model having least rmse value is found.\n",
    "\n",
    "* This models's 4 parts of data is used as training data and used to train the model. The trained model is tested with the test data (features) part and rmse score is computed and the values of the best model and its respective rmse score for this particular fold are stored in seperate lists .\n",
    "\n",
    "* The above two steps are repeated for 5 folds , the best model and respective rmse scores are stored in lists and these two lists are returned as output using which we can decide which model best fits the data."
   ]
  },
  {
   "cell_type": "code",
   "execution_count": 22,
   "metadata": {},
   "outputs": [],
   "source": [
    "from sklearn import model_selection\n",
    "def partitionData(data, slices):\n",
    "    avg = len(data) / float(slices)\n",
    "    chunks = []\n",
    "    last = 0.0\n",
    "\n",
    "    while last < len(data):\n",
    "        chunks.append(data[int(last):int(last + avg)])\n",
    "        last += avg\n",
    "\n",
    "    return chunks"
   ]
  },
  {
   "cell_type": "code",
   "execution_count": 23,
   "metadata": {},
   "outputs": [],
   "source": [
    "def cross_validate(X, T, parameters):\n",
    "    features = partitionData(X, 5)\n",
    "    target = partitionData(T, 5)\n",
    "    finalAcclist=[]\n",
    "    bestParamlist=[]\n",
    "    for i in range(5): \n",
    "        \n",
    "        print('--------------------------------------------------------------')\n",
    "        print(f\" Fold : {i}\")\n",
    "        features_test = features[i]\n",
    "        target_test = target[i]\n",
    "        \n",
    "        \n",
    "        records=[]\n",
    "        params=[]\n",
    "        for j in range(5): \n",
    "            if i == j: continue\n",
    "            \n",
    "            features_validate = features[j]\n",
    "            target_validate = target[j]\n",
    "            \n",
    "            features_train = features[not i and not j]\n",
    "            target_train = target[not i and not j]\n",
    "            \n",
    "            \n",
    "            rmselist=[]\n",
    "            paramlist=[]\n",
    "            for k in parameters:\n",
    "                \n",
    "                model = NeuralNet(k)\n",
    "                model.train(features_train, target_train)\n",
    "                pred = model.use(features_validate)\n",
    "                \n",
    "                rmseError = np.sqrt(np.mean((target_validate - pred)**2))\n",
    "                rmselist.append(rmseError)\n",
    "                paramlist.append(k)\n",
    "            print(f\"rmselist : {rmselist} \\n\")\n",
    "            print(f\"model List : {paramlist} \\n\")\n",
    "            print(f\"min rmse error : {min(rmselist)} \\n\")\n",
    "            print(f\"model with min rmse : {paramlist[np.argmin(rmselist)]} \\n\")\n",
    "            \n",
    "            records.append(min(rmselist))\n",
    "            params.append(paramlist[np.argmin(rmselist)])\n",
    "            \n",
    "        #print(rmselist)\n",
    "        print(f'records : {records}\\n')\n",
    "        print(f'params :{params}\\n')\n",
    "        bestParam = params[np.argmin(records)]\n",
    "        print(f'best param = {bestParam}\\n')\n",
    "        bestModel = NeuralNet(bestParam)\n",
    "        \n",
    "        features_train = features[not i]\n",
    "        target_train = target[not i]\n",
    "        bestModel.train(features_train, target_train)\n",
    "\n",
    "        finalPred = bestModel.use(features_test)\n",
    "        finalRmseErr = np.sqrt(np.mean((target_test - finalPred)**2))\n",
    "        finalAcclist.append(finalRmseErr)\n",
    "        bestParamlist.append(bestParam)\n",
    "\n",
    "    return finalAcclist,bestParamlist"
   ]
  },
  {
   "cell_type": "code",
   "execution_count": 33,
   "metadata": {
    "scrolled": false
   },
   "outputs": [
    {
     "name": "stdout",
     "output_type": "stream",
     "text": [
      "--------------------------------------------------------------\n",
      " Fold : 0\n"
     ]
    },
    {
     "name": "stderr",
     "output_type": "stream",
     "text": [
      "C:\\Users\\Manisha\\Anaconda3\\lib\\site-packages\\ipykernel_launcher.py:92: FutureWarning: arrays to stack must be passed as a \"sequence\" type such as list or tuple. Support for non-sequence iterables such as generators is deprecated as of NumPy 1.16 and will raise an error in the future.\n"
     ]
    },
    {
     "name": "stdout",
     "output_type": "stream",
     "text": [
      "rmselist : [977.0113930076186, 995.8528836999969, 1019.2966789402806, 1029.014727375209, 1077.774524973345, 1055.7052883169758] \n",
      "\n",
      "model List : [[9, 3, 1], [9, 7, 1], [9, 10, 1], [9, 13, 1], [9, 30, 1], [9, 20, 1]] \n",
      "\n",
      "min rmse error : 977.0113930076186 \n",
      "\n",
      "model with min rmse : [9, 3, 1] \n",
      "\n",
      "rmselist : [982.1947095059704, 1001.2249350285317, 1015.3000366608296, 1031.9901004877477, 1094.7308151981447, 1046.5165558499248] \n",
      "\n",
      "model List : [[9, 3, 1], [9, 7, 1], [9, 10, 1], [9, 13, 1], [9, 30, 1], [9, 20, 1]] \n",
      "\n",
      "min rmse error : 982.1947095059704 \n",
      "\n",
      "model with min rmse : [9, 3, 1] \n",
      "\n",
      "rmselist : [993.5635669429695, 1014.5240257444708, 1033.0550605073038, 1031.1918787366553, 1138.2010680219958, 1060.5810321009553] \n",
      "\n",
      "model List : [[9, 3, 1], [9, 7, 1], [9, 10, 1], [9, 13, 1], [9, 30, 1], [9, 20, 1]] \n",
      "\n",
      "min rmse error : 993.5635669429695 \n",
      "\n",
      "model with min rmse : [9, 3, 1] \n",
      "\n",
      "rmselist : [995.0901606439055, 1011.5786258084545, 1019.0934040690621, 1042.0146705925013, 1124.5302392625538, 1065.1783304062] \n",
      "\n",
      "model List : [[9, 3, 1], [9, 7, 1], [9, 10, 1], [9, 13, 1], [9, 30, 1], [9, 20, 1]] \n",
      "\n",
      "min rmse error : 995.0901606439055 \n",
      "\n",
      "model with min rmse : [9, 3, 1] \n",
      "\n",
      "records : [977.0113930076186, 982.1947095059704, 993.5635669429695, 995.0901606439055]\n",
      "\n",
      "params :[[9, 3, 1], [9, 3, 1], [9, 3, 1], [9, 3, 1]]\n",
      "\n",
      "best param = [9, 3, 1]\n",
      "\n",
      "--------------------------------------------------------------\n",
      " Fold : 1\n",
      "rmselist : [957.0445072422623, 941.0869379101772, 921.1181304194972, 902.3707370374809, 841.2449000952984, 877.9283483501295] \n",
      "\n",
      "model List : [[9, 3, 1], [9, 7, 1], [9, 10, 1], [9, 13, 1], [9, 30, 1], [9, 20, 1]] \n",
      "\n",
      "min rmse error : 841.2449000952984 \n",
      "\n",
      "model with min rmse : [9, 30, 1] \n",
      "\n",
      "rmselist : [981.9184173884357, 997.0395721409177, 1017.8138707900473, 1027.9437332367997, 1099.021204435563, 1052.0737041484358] \n",
      "\n",
      "model List : [[9, 3, 1], [9, 7, 1], [9, 10, 1], [9, 13, 1], [9, 30, 1], [9, 20, 1]] \n",
      "\n",
      "min rmse error : 981.9184173884357 \n",
      "\n",
      "model with min rmse : [9, 3, 1] \n",
      "\n",
      "rmselist : [990.2584115864861, 1004.0790629672172, 1011.4918272412452, 1040.4218523573793, 1101.9736012090955, 1073.5106542377598] \n",
      "\n",
      "model List : [[9, 3, 1], [9, 7, 1], [9, 10, 1], [9, 13, 1], [9, 30, 1], [9, 20, 1]] \n",
      "\n",
      "min rmse error : 990.2584115864861 \n",
      "\n",
      "model with min rmse : [9, 3, 1] \n",
      "\n",
      "rmselist : [992.263952543753, 998.4115527584188, 1013.4447855991796, 1038.3731540810822, 1106.4800002228608, 1085.628544368594] \n",
      "\n",
      "model List : [[9, 3, 1], [9, 7, 1], [9, 10, 1], [9, 13, 1], [9, 30, 1], [9, 20, 1]] \n",
      "\n",
      "min rmse error : 992.263952543753 \n",
      "\n",
      "model with min rmse : [9, 3, 1] \n",
      "\n",
      "records : [841.2449000952984, 981.9184173884357, 990.2584115864861, 992.263952543753]\n",
      "\n",
      "params :[[9, 30, 1], [9, 3, 1], [9, 3, 1], [9, 3, 1]]\n",
      "\n",
      "best param = [9, 30, 1]\n",
      "\n",
      "--------------------------------------------------------------\n",
      " Fold : 2\n",
      "rmselist : [953.9682138882054, 930.8961255052266, 919.5804223803921, 896.058043936304, 829.1408329070078, 870.174578944109] \n",
      "\n",
      "model List : [[9, 3, 1], [9, 7, 1], [9, 10, 1], [9, 13, 1], [9, 30, 1], [9, 20, 1]] \n",
      "\n",
      "min rmse error : 829.1408329070078 \n",
      "\n",
      "model with min rmse : [9, 30, 1] \n",
      "\n",
      "rmselist : [979.2366533790394, 998.6637897562217, 1004.8967532657563, 1031.8104842966616, 1116.6570485873979, 1060.0370572950112] \n",
      "\n",
      "model List : [[9, 3, 1], [9, 7, 1], [9, 10, 1], [9, 13, 1], [9, 30, 1], [9, 20, 1]] \n",
      "\n",
      "min rmse error : 979.2366533790394 \n",
      "\n",
      "model with min rmse : [9, 3, 1] \n",
      "\n",
      "rmselist : [989.5566552618958, 1008.740720871064, 1024.1109089921517, 1044.144545685003, 1118.1124646082314, 1066.794039118016] \n",
      "\n",
      "model List : [[9, 3, 1], [9, 7, 1], [9, 10, 1], [9, 13, 1], [9, 30, 1], [9, 20, 1]] \n",
      "\n",
      "min rmse error : 989.5566552618958 \n",
      "\n",
      "model with min rmse : [9, 3, 1] \n",
      "\n",
      "rmselist : [994.854397526569, 1014.9200131036905, 1017.2604103478347, 1013.5709301004842, 1094.8102477891696, 1063.2256450468674] \n",
      "\n",
      "model List : [[9, 3, 1], [9, 7, 1], [9, 10, 1], [9, 13, 1], [9, 30, 1], [9, 20, 1]] \n",
      "\n",
      "min rmse error : 994.854397526569 \n",
      "\n",
      "model with min rmse : [9, 3, 1] \n",
      "\n",
      "records : [829.1408329070078, 979.2366533790394, 989.5566552618958, 994.854397526569]\n",
      "\n",
      "params :[[9, 30, 1], [9, 3, 1], [9, 3, 1], [9, 3, 1]]\n",
      "\n",
      "best param = [9, 30, 1]\n",
      "\n",
      "--------------------------------------------------------------\n",
      " Fold : 3\n",
      "rmselist : [955.0829741000377, 932.4083207638427, 917.1294175060993, 898.2451916367689, 829.0142588459371, 876.7042321626541] \n",
      "\n",
      "model List : [[9, 3, 1], [9, 7, 1], [9, 10, 1], [9, 13, 1], [9, 30, 1], [9, 20, 1]] \n",
      "\n",
      "min rmse error : 829.0142588459371 \n",
      "\n",
      "model with min rmse : [9, 30, 1] \n",
      "\n",
      "rmselist : [976.1545796719254, 997.4149114138603, 1009.2919083623764, 1034.010967843214, 1113.9943398195958, 1063.4319250656208] \n",
      "\n",
      "model List : [[9, 3, 1], [9, 7, 1], [9, 10, 1], [9, 13, 1], [9, 30, 1], [9, 20, 1]] \n",
      "\n",
      "min rmse error : 976.1545796719254 \n",
      "\n",
      "model with min rmse : [9, 3, 1] \n",
      "\n",
      "rmselist : [985.9437410866267, 1005.8044535201715, 1017.5978400368787, 1027.2304631266002, 1117.9752709075908, 1058.7573083700365] \n",
      "\n",
      "model List : [[9, 3, 1], [9, 7, 1], [9, 10, 1], [9, 13, 1], [9, 30, 1], [9, 20, 1]] \n",
      "\n",
      "min rmse error : 985.9437410866267 \n",
      "\n",
      "model with min rmse : [9, 3, 1] \n",
      "\n",
      "rmselist : [982.4767275548286, 1009.4682067186851, 1014.8011084131007, 1038.9143959549303, 1108.048794171579, 1071.736205668102] \n",
      "\n",
      "model List : [[9, 3, 1], [9, 7, 1], [9, 10, 1], [9, 13, 1], [9, 30, 1], [9, 20, 1]] \n",
      "\n",
      "min rmse error : 982.4767275548286 \n",
      "\n",
      "model with min rmse : [9, 3, 1] \n",
      "\n",
      "records : [829.0142588459371, 976.1545796719254, 985.9437410866267, 982.4767275548286]\n",
      "\n",
      "params :[[9, 30, 1], [9, 3, 1], [9, 3, 1], [9, 3, 1]]\n",
      "\n",
      "best param = [9, 30, 1]\n",
      "\n",
      "--------------------------------------------------------------\n",
      " Fold : 4\n",
      "rmselist : [956.9526464156831, 924.835757640193, 911.5837638235696, 898.7084271601667, 829.7380873735992, 872.0598661383199] \n",
      "\n",
      "model List : [[9, 3, 1], [9, 7, 1], [9, 10, 1], [9, 13, 1], [9, 30, 1], [9, 20, 1]] \n",
      "\n",
      "min rmse error : 829.7380873735992 \n",
      "\n",
      "model with min rmse : [9, 30, 1] \n",
      "\n",
      "rmselist : [980.0997864108168, 994.0164631965046, 1011.2585498780054, 1024.9746310037726, 1125.2675862331398, 1053.4739172743841] \n",
      "\n",
      "model List : [[9, 3, 1], [9, 7, 1], [9, 10, 1], [9, 13, 1], [9, 30, 1], [9, 20, 1]] \n",
      "\n",
      "min rmse error : 980.0997864108168 \n",
      "\n",
      "model with min rmse : [9, 3, 1] \n",
      "\n",
      "rmselist : [991.693735659084, 1003.5909116230855, 1008.9881833706607, 1036.0221551331056, 1100.653300427672, 1061.6892071002983] \n",
      "\n",
      "model List : [[9, 3, 1], [9, 7, 1], [9, 10, 1], [9, 13, 1], [9, 30, 1], [9, 20, 1]] \n",
      "\n",
      "min rmse error : 991.693735659084 \n",
      "\n",
      "model with min rmse : [9, 3, 1] \n",
      "\n",
      "rmselist : [986.812037686887, 1003.0370607734588, 1029.6477082902086, 1046.0815286389995, 1123.3879106849486, 1083.959996831071] \n",
      "\n",
      "model List : [[9, 3, 1], [9, 7, 1], [9, 10, 1], [9, 13, 1], [9, 30, 1], [9, 20, 1]] \n",
      "\n",
      "min rmse error : 986.812037686887 \n",
      "\n",
      "model with min rmse : [9, 3, 1] \n",
      "\n",
      "records : [829.7380873735992, 980.0997864108168, 991.693735659084, 986.812037686887]\n",
      "\n",
      "params :[[9, 30, 1], [9, 3, 1], [9, 3, 1], [9, 3, 1]]\n",
      "\n",
      "best param = [9, 30, 1]\n",
      "\n"
     ]
    }
   ],
   "source": [
    "from sklearn.metrics import r2_score\n",
    "from sklearn.metrics import mean_squared_error\n",
    "models = [[9,3,1],[9,7,1],[9,10,1], [9,13,1],[9,30,1], [9,20,1]]\n",
    "\n",
    "bestAccuracy,bestParam = cross_validate(features2, target2, models)"
   ]
  },
  {
   "cell_type": "markdown",
   "metadata": {},
   "source": [
    "### Testing the model with different no of hidden layers.\n",
    "\n",
    "* My Features data consists of 9 inputs and 1 output. So ,i have decided to implemet a Neural Network having 9 inputs, hidden layer consisting of n nodes and output layer consisting of 1 node. \n",
    "\n",
    "* So, i have decided to implement 3 layer network consisting one one input layer, one hidden layer and one output layer. \n",
    "* Initially, i ran the model using [9,20,1] params( model with 9 nodes in input layer, 20 nodes in hidden layer and 1 node in output layer. When i ran the trained model on test data, i got r2 score of 0.833.\n",
    "\n",
    "* Later, inorder to determine the model with best no of hidden layers , i have taken neural networks with the following structures [9, 3, 1], [9, 7, 1], [9, 10, 1], [9, 13, 1], [9, 30, 1], [9, 20, 1] and performed cross validation to determine the model that best fits my training data. The results of the cross validation are as follows:"
   ]
  },
  {
   "cell_type": "code",
   "execution_count": 34,
   "metadata": {},
   "outputs": [
    {
     "data": {
      "text/plain": [
       "[976.9072375178913,\n",
       " 1133.3581553768092,\n",
       " 1109.69412807367,\n",
       " 1100.5109546073909,\n",
       " 1109.1665802262587]"
      ]
     },
     "execution_count": 34,
     "metadata": {},
     "output_type": "execute_result"
    }
   ],
   "source": [
    "bestAccuracy"
   ]
  },
  {
   "cell_type": "code",
   "execution_count": 35,
   "metadata": {},
   "outputs": [
    {
     "data": {
      "text/plain": [
       "[[9, 3, 1], [9, 30, 1], [9, 30, 1], [9, 30, 1], [9, 30, 1]]"
      ]
     },
     "execution_count": 35,
     "metadata": {},
     "output_type": "execute_result"
    }
   ],
   "source": [
    "bestParam"
   ]
  },
  {
   "cell_type": "markdown",
   "metadata": {},
   "source": [
    "* From the above result, it is observed that model [9,30,1] appears as the best model in 4 out of 5 folds . \n",
    "* Hence, model with 9 input nodes, 30 hidden layers and 1 output node performs well on my data.\n",
    "* On training the data with this structure , my r2 score has increased from 0.07 to 0.13."
   ]
  },
  {
   "cell_type": "markdown",
   "metadata": {},
   "source": [
    "#### From the above Cross- Validationn results of bestAccuracy and bestParam , model [9,30,1] fits better than other models in most of the folds. "
   ]
  },
  {
   "cell_type": "code",
   "execution_count": 46,
   "metadata": {},
   "outputs": [
    {
     "name": "stderr",
     "output_type": "stream",
     "text": [
      "C:\\Users\\Manisha\\Anaconda3\\lib\\site-packages\\ipykernel_launcher.py:92: FutureWarning: arrays to stack must be passed as a \"sequence\" type such as list or tuple. Support for non-sequence iterables such as generators is deprecated as of NumPy 1.16 and will raise an error in the future.\n"
     ]
    },
    {
     "data": {
      "text/plain": [
       "{'w': array([-6.73479598e-02, -7.11834771e-01,  2.53964638e+00,  1.47381286e+00,\n",
       "         3.75633692e-01, -2.51211744e+00,  2.98531180e-01,  3.01420303e+00,\n",
       "        -2.33024725e-02,  2.34892840e+00, -1.02117549e+00,  1.08067760e+00,\n",
       "         2.88251814e-01,  1.79385148e+00, -1.44735880e-01, -5.40361974e-01,\n",
       "        -6.30612950e-01,  4.48755371e-01, -7.51487468e-01,  3.20486120e-01,\n",
       "        -5.65786180e-01,  8.60987535e-01, -4.44254207e+00, -1.36979084e+00,\n",
       "        -1.24187276e+00, -2.49521352e+00,  5.36069750e-01,  1.82854319e+00,\n",
       "        -6.72880732e-02,  2.58299475e+00,  8.53884668e-01,  7.91089004e-01,\n",
       "        -3.73268257e-02,  5.69480725e-01, -5.50108478e-01,  2.83565860e-02,\n",
       "         4.67185120e-02,  1.64334862e-03, -2.64625850e-01, -5.23400411e-01,\n",
       "        -3.39699489e-01,  6.56888483e-01,  1.36339373e+00, -4.74015502e-02,\n",
       "        -1.19953931e+00, -2.55214170e-01, -1.09882369e+00,  1.57058447e+00,\n",
       "        -4.12474462e-01,  1.68112225e+00, -8.64640664e-01,  8.69286969e-02,\n",
       "         5.27719884e-02,  9.74393856e-01,  1.19305447e-01, -2.40096519e-02,\n",
       "        -1.37442188e-01, -1.60117129e+00, -1.07867429e+00,  9.89119581e-01,\n",
       "        -1.38790780e-01, -2.57524408e+00, -8.74779752e-02, -1.85952239e-01,\n",
       "        -1.13756524e+00,  7.29004740e-02,  2.03688263e+00,  8.96686951e-02,\n",
       "        -3.05283382e-01,  3.04807946e-01, -1.70990655e+00, -2.09335806e-01,\n",
       "        -4.30618005e-01,  1.01324153e-02,  2.66178922e-01, -2.39415821e-02,\n",
       "        -4.76285645e-03, -1.61477047e+00, -1.92567049e-01, -4.13459890e-01,\n",
       "         7.15242655e-01, -6.46380928e-02,  5.57822807e-02, -2.55548472e+00,\n",
       "         9.88897999e-02,  1.59833920e-02, -6.87262237e-01,  1.19111409e+00,\n",
       "         8.27048434e-01,  4.65332971e-01,  1.35763310e+00, -1.16758283e+00,\n",
       "         1.75048588e-02, -9.96485697e-02,  1.11979723e+00, -1.03720246e-02,\n",
       "        -4.47102469e-01, -3.06636084e-02,  7.31103197e-01, -1.36244938e+00,\n",
       "         5.20269682e-01, -1.95913240e-01,  4.13079607e-01, -5.66722788e-02,\n",
       "         2.89820852e-01,  3.42259189e-02, -1.08626611e-01, -1.51261688e+00,\n",
       "         8.04391228e-01,  3.77958686e-01,  5.22689428e-01,  1.00004460e+00,\n",
       "         2.99096006e-03, -1.37798895e+00, -2.22550053e-01,  6.64669987e-02,\n",
       "         2.51980085e-01,  1.05593083e+00,  4.28962499e-01, -1.12607234e+00,\n",
       "         1.53734108e+00,  6.71899797e-01, -5.10305703e-02,  6.91808060e-03,\n",
       "        -3.63325876e-01, -1.00555658e-02,  2.39483084e+00,  2.09483803e-02,\n",
       "         2.57689738e-02, -1.55591798e-01, -1.03022997e-02, -1.03888041e+00,\n",
       "         9.59218122e-03, -3.53377411e-02,  7.96451364e-01, -1.65373240e-01,\n",
       "        -2.40688568e+00, -9.51877004e-01,  1.05298184e+00, -5.56737774e-03,\n",
       "         1.29491693e-01, -1.31686063e+00, -2.85133390e-02,  7.48459247e-01,\n",
       "        -2.20468043e-01, -5.83765912e-03,  1.39862905e-01,  1.06408250e-01,\n",
       "         7.85869335e-02,  1.05170321e+00, -7.45751489e-01,  4.40077704e-01,\n",
       "        -9.67057631e-02,  1.12498813e-01, -1.58338614e+00,  8.29015034e-02,\n",
       "         1.62203347e+00, -1.48063623e-03, -1.09926192e+00, -1.36796331e+00,\n",
       "         1.35653348e+00, -1.74289999e-02, -4.33685547e-01,  6.73331051e-02,\n",
       "         1.46716812e-01, -1.34968287e-01,  9.90011557e-01, -6.12995615e-01,\n",
       "        -2.76246133e+00, -5.53937314e-01,  4.87963822e-01, -1.04104156e+00,\n",
       "        -5.24828505e-02,  7.20835447e-01,  1.25252170e-01, -5.30036756e-02,\n",
       "         1.39220814e-02,  1.65933070e+00,  6.71083788e-01, -3.26011388e+00,\n",
       "        -3.65588209e-01,  3.55042917e-01,  1.49770700e-03,  1.88198335e-01,\n",
       "        -5.15210560e-02, -1.17681581e-02, -4.89288574e-01, -6.09017817e-02,\n",
       "        -1.10308205e-01,  6.18868299e-01,  9.71005697e-01, -4.23250689e-01,\n",
       "        -3.71338291e-02, -8.70964864e-02,  8.48936506e-02, -1.89105584e-01,\n",
       "         4.51320514e-01,  7.07626736e-01, -2.64611517e-01, -2.17353029e-03,\n",
       "        -9.46117725e-01, -9.13196585e-01,  2.08953914e-02,  4.75974003e-01,\n",
       "        -1.04359377e-01,  2.52449022e-02,  1.06047698e-01, -1.28853512e+00,\n",
       "        -6.18633758e-01, -9.84818618e-01, -1.19562965e+00,  9.06055615e-01,\n",
       "        -5.38325909e-01, -4.58527399e+00, -4.65048195e-02, -6.02961912e-02,\n",
       "        -4.18460833e-01,  1.77131850e+00,  1.41502580e-01, -1.19480900e+00,\n",
       "         3.50762521e-01,  1.64654536e+00, -1.46996260e+00,  2.01391370e+00,\n",
       "        -1.84049446e+00,  6.37199303e+00,  2.96467199e+00,  1.57225792e+00,\n",
       "        -6.09198100e-02, -1.93274216e+00,  6.08624199e-01,  3.64735599e-01,\n",
       "        -1.76810441e+00,  1.03245251e+00,  2.17574892e-01, -1.19614648e+00,\n",
       "         1.90242274e-01,  1.51789532e+00,  1.39103001e+00, -3.74556910e-01,\n",
       "         1.92069592e+00,  5.38321757e-01,  3.24195040e+00, -2.26787625e-01,\n",
       "        -6.86194377e-01, -2.36894169e+00,  5.03342044e-01, -1.13943574e+00,\n",
       "        -4.42633946e-01,  1.91795708e+00,  1.06656396e+00,  1.83910555e+00,\n",
       "        -2.30528214e-01, -3.23551639e-01, -2.40872702e+00,  1.04540879e+00,\n",
       "         1.81218374e+00, -2.65426639e+00, -6.63170601e-01, -3.47425567e-01,\n",
       "         8.29632793e-01, -1.34167492e+00, -6.03292444e-01,  3.97742885e-01,\n",
       "         5.42196019e-01, -2.18601262e-01,  2.69417904e-01,  2.08818445e+00,\n",
       "         7.36175752e-01, -1.09691755e+00, -5.73869381e-01, -1.05601407e+00,\n",
       "         6.87261679e-01,  2.03658638e+00, -1.49522921e+00, -1.92542745e+00,\n",
       "         4.11772863e-01, -2.00762636e+00, -1.08728779e+00, -9.96125527e-01,\n",
       "         1.45520452e+00,  4.83933435e-01, -3.42291863e-02, -1.69723808e+00,\n",
       "        -3.73288361e-01,  2.00547903e-02,  7.34139498e-01,  5.22797644e-01,\n",
       "        -1.10639114e+00, -2.79318757e-02, -1.40357351e+00,  1.63875630e-02,\n",
       "         6.58896409e-01, -8.75350447e-01, -4.42220378e-02, -8.14538767e-01,\n",
       "         2.26076866e-02, -1.82814473e+00, -1.06218704e+00, -1.11824843e+00,\n",
       "         7.89244263e-01, -8.66741441e-02,  4.61314346e-01, -2.37675783e+00,\n",
       "        -3.22701006e-01,  3.24862941e-01, -2.99681892e+00,  1.05853178e-01,\n",
       "        -1.02496880e+00, -6.39024566e-01, -9.39859532e-02,  1.25117045e-01,\n",
       "        -2.91764082e-01,  1.04104022e+00,  1.21151726e+00, -1.91568906e-01,\n",
       "        -4.68277503e-01,  1.23315643e-01,  1.48342603e-01,  1.57415530e-01,\n",
       "        -9.97465079e-01,  2.25473253e-01,  1.20198160e-01, -2.99150650e+00,\n",
       "        -4.80918920e-01, -4.71370402e-01,  4.43301866e+00, -3.20812161e-01,\n",
       "         1.55140675e-01, -2.90026312e-01,  1.27329518e-01]),\n",
       " 'f': 0.4346408567777546,\n",
       " 'reason': 'reached limit of nIterations',\n",
       " 'wtrace': None,\n",
       " 'ftrace': None}"
      ]
     },
     "execution_count": 46,
     "metadata": {},
     "output_type": "execute_result"
    }
   ],
   "source": [
    "# Training the Neural network with best paramameters\n",
    "nn = NeuralNet([9,30,1])\n",
    "nn.train(np.array(X), np.array(T).reshape((T.shape[0],1)))"
   ]
  },
  {
   "cell_type": "code",
   "execution_count": 55,
   "metadata": {},
   "outputs": [
    {
     "data": {
      "text/plain": [
       "(15000, 9)"
      ]
     },
     "execution_count": 55,
     "metadata": {},
     "output_type": "execute_result"
    }
   ],
   "source": [
    "Y = nn.use(np.array(X))\n",
    "X.shape"
   ]
  },
  {
   "cell_type": "code",
   "execution_count": 56,
   "metadata": {},
   "outputs": [
    {
     "data": {
      "text/plain": [
       "0.13071828644449068"
      ]
     },
     "execution_count": 56,
     "metadata": {},
     "output_type": "execute_result"
    }
   ],
   "source": [
    "# R square value for Neural Network Model\n",
    "\n",
    "r2_score(T, Y)"
   ]
  },
  {
   "cell_type": "markdown",
   "metadata": {},
   "source": [
    "#  Results"
   ]
  },
  {
   "cell_type": "markdown",
   "metadata": {},
   "source": [
    "## Plots for results"
   ]
  },
  {
   "cell_type": "code",
   "execution_count": 211,
   "metadata": {},
   "outputs": [
    {
     "data": {
      "text/plain": [
       "Text(0, 0.5, 'Predicted values')"
      ]
     },
     "execution_count": 211,
     "metadata": {},
     "output_type": "execute_result"
    },
    {
     "data": {
      "image/png": "[encoded data removed]",
      "text/plain": [
       "<Figure size 432x288 with 1 Axes>"
      ]
     },
     "metadata": {
      "needs_background": "light"
     },
     "output_type": "display_data"
    }
   ],
   "source": [
    "\n",
    "# Scatter plot of hp_target_test1 vs y \n",
    "plt.scatter(pd.DataFrame(hp_target_test1),Y)\n",
    "plt.xlabel('Actual values')\n",
    "plt.ylabel('Predicted values')"
   ]
  },
  {
   "cell_type": "code",
   "execution_count": 207,
   "metadata": {},
   "outputs": [
    {
     "data": {
      "text/plain": [
       "[(-500000, 500000)]"
      ]
     },
     "execution_count": 207,
     "metadata": {},
     "output_type": "execute_result"
    },
    {
     "data": {
      "image/png": "[encoded data removed]",
      "text/plain": [
       "<Figure size 432x288 with 1 Axes>"
      ]
     },
     "metadata": {
      "needs_background": "light"
     },
     "output_type": "display_data"
    }
   ],
   "source": [
    "# Residual Histgram\n",
    "lm = sns.distplot((pd.DataFrame(hp_target_test1)-Y),bins=50)\n",
    "lm.set(xlim=(-500000, 500000))"
   ]
  },
  {
   "cell_type": "code",
   "execution_count": 216,
   "metadata": {},
   "outputs": [
    {
     "name": "stderr",
     "output_type": "stream",
     "text": [
      "C:\\Users\\Manisha\\Anaconda3\\lib\\site-packages\\ipykernel_launcher.py:92: FutureWarning: arrays to stack must be passed as a \"sequence\" type such as list or tuple. Support for non-sequence iterables such as generators is deprecated as of NumPy 1.16 and will raise an error in the future.\n"
     ]
    },
    {
     "data": {
      "text/plain": [
       "<matplotlib.legend.Legend at 0x25b01bb9630>"
      ]
     },
     "execution_count": 216,
     "metadata": {},
     "output_type": "execute_result"
    },
    {
     "data": {
      "image/png": "[encoded data removed]",
      "text/plain": [
       "<Figure size 720x576 with 1 Axes>"
      ]
     },
     "metadata": {
      "needs_background": "light"
     },
     "output_type": "display_data"
    }
   ],
   "source": [
    "nn = NeuralNet([hp_features_train1.shape[1],20,1])\n",
    "nn.train(np.array(hp_features_train1), np.array(hp_target_train1).reshape((hp_target_train1.shape[0],1)),ftracep=True)\n",
    "Ytest, Z = nn.use(hp_features_test1, retZ=True)\n",
    "\n",
    "plt.figure(figsize=(10,8))\n",
    "plt.subplot(3,1,1)\n",
    "plt.plot(nn.ftrace)\n",
    "plt.ylim(0,0.7)\n",
    "plt.xlabel('Epochs')\n",
    "plt.ylabel('RMSE')\n",
    "plt.legend(('Train','Test'),loc='upper left')"
   ]
  },
  {
   "cell_type": "code",
   "execution_count": 217,
   "metadata": {},
   "outputs": [
    {
     "name": "stderr",
     "output_type": "stream",
     "text": [
      "C:\\Users\\Manisha\\Anaconda3\\lib\\site-packages\\matplotlib\\axes\\_base.py:380: MatplotlibDeprecationWarning: \n",
      "cycling among columns of inputs with non-matching shapes is deprecated.\n",
      "  cbook.warn_deprecated(\"2.2\", \"cycling among columns of inputs \"\n"
     ]
    },
    {
     "data": {
      "image/png": "[encoded data removed]",
      "text/plain": [
       "<Figure size 432x288 with 1 Axes>"
      ]
     },
     "metadata": {
      "needs_background": "light"
     },
     "output_type": "display_data"
    }
   ],
   "source": [
    "plt.plot(np.array(hp_features_test1), Z[1])\n",
    "plt.ylim(-1.1,1.1)\n",
    "plt.xlabel('$x$')\n",
    "plt.ylabel('Hidden Unit Outputs ($z$)');"
   ]
  },
  {
   "cell_type": "code",
   "execution_count": 210,
   "metadata": {},
   "outputs": [
    {
     "name": "stderr",
     "output_type": "stream",
     "text": [
      "C:\\Users\\Manisha\\Anaconda3\\lib\\site-packages\\matplotlib\\figure.py:98: MatplotlibDeprecationWarning: \n",
      "Adding an axes using the same arguments as a previous axes currently reuses the earlier instance.  In a future version, a new instance will always be created and returned.  Meanwhile, this warning can be suppressed, and the future behavior ensured, by passing a unique label to each axes instance.\n",
      "  \"Adding an axes using the same arguments as a previous axes \"\n"
     ]
    },
    {
     "data": {
      "text/plain": [
       "Text(0, 0.5, 'Actual and Predicted $f(x)$')"
      ]
     },
     "execution_count": 210,
     "metadata": {},
     "output_type": "execute_result"
    },
    {
     "data": {
      "image/png": "[encoded data removed]",
      "text/plain": [
       "<Figure size 720x576 with 1 Axes>"
      ]
     },
     "metadata": {
      "needs_background": "light"
     },
     "output_type": "display_data"
    }
   ],
   "source": [
    "npXTrain = np.float64(hp_features_test1)\n",
    "npXTest = np.float64(hp_features_test1)\n",
    "npYTrain = np.float64(hp_features_test1)\n",
    "npYTest = np.float64(hp_features_test1)\n",
    "plt.figure(figsize=(10,8))\n",
    "plt.subplot(2,1,1)\n",
    "\n",
    "\n",
    "plt.subplot(2,1,1)\n",
    "plt.plot(X,T,'o-',npXTrain,npYTrain,'o-',npXTest,npYTest,'o-')\n",
    "plt.legend(('Training','Testing','Model'),loc='upper left')\n",
    "plt.xlabel('$x$')\n",
    "plt.ylabel('Actual and Predicted $f(x)$')"
   ]
  },
  {
   "cell_type": "code",
   "execution_count": 67,
   "metadata": {},
   "outputs": [
    {
     "data": {
      "text/plain": [
       "[976.9072375178913,\n",
       " 1133.3581553768092,\n",
       " 1109.69412807367,\n",
       " 1100.5109546073909,\n",
       " 1109.1665802262587]"
      ]
     },
     "execution_count": 67,
     "metadata": {},
     "output_type": "execute_result"
    }
   ],
   "source": [
    "bestAccuracy "
   ]
  },
  {
   "cell_type": "code",
   "execution_count": 68,
   "metadata": {},
   "outputs": [
    {
     "data": {
      "text/plain": [
       "[[9, 3, 1], [9, 30, 1], [9, 30, 1], [9, 30, 1], [9, 30, 1]]"
      ]
     },
     "execution_count": 68,
     "metadata": {},
     "output_type": "execute_result"
    }
   ],
   "source": [
    "bestParam"
   ]
  },
  {
   "cell_type": "markdown",
   "metadata": {},
   "source": [
    "* From the above result, it is observed that model [9,30,1] appears as the best model in 4 out of 5 folds . \n",
    "* Hence, model with 9 input nodes, 30 hidden layers and 1 output node performs well on my data.\n",
    "* On training the data with this structure , my r2 score has increased from 0.07 to 0.13."
   ]
  },
  {
   "cell_type": "markdown",
   "metadata": {},
   "source": [
    "### Discussion about the prediction results. Try to analyze what nonlinear regression model learned.\n",
    "\n",
    "* In this assignment, Neural Netwoks has been used to perform regression analysis which is a non linear regression model. Previously, we have used LinearRegress and LMS (Least Mean Square model ) to train the same data.\n",
    "* By comparing the Linear Regression Models and Neural Network Model, I have observed that Neural Netwoks has performed slightly better than both LinearRegress and LMS models. While training the model using Least squares and Lms , i got r2 score of 0.05 and 0.02 respectively.\n",
    "* In this assignment, whenIi built a model using neural network with the following structure, i got r2 score of 0.07 which shows that the neural network model performs better than the linear regression model on the same data.\n",
    "* Forward -processing and backward-propogation also helps to find the best weights of the neural network associated with the data."
   ]
  },
  {
   "cell_type": "markdown",
   "metadata": {},
   "source": [
    "# Nonlinear Logistic Regression\n",
    "\n",
    "Logistic Regression is used to classify the data, i.e., the outcome of the logistic regression are probablities of the samples that it belongs to a particular class. Using Logistic Regression in Neural Network makes the linearity of the neural network to non linear i.e., because of the curvature of the logistic sigmoid function or softmax that is used as activation function in the hidden layer the whole network becomes non linear. This helps in classifying the data that is not linearly seperable.\n"
   ]
  },
  {
   "cell_type": "code",
   "execution_count": 15,
   "metadata": {},
   "outputs": [],
   "source": [
    "# standardization class\n",
    "class Standardizer: \n",
    "    \"\"\" class version of standardization \"\"\"\n",
    "    def __init__(self, X, explore=False):\n",
    "        self._mu = np.mean(X,0)  \n",
    "        self._sigma = np.std(X,0)\n",
    "        if explore:\n",
    "            print (\"mean: \", self._mu)\n",
    "            print (\"sigma: \", self._sigma)\n",
    "            print (\"min: \", np.min(X,0))\n",
    "            print (\"max: \", np.max(X,0))\n",
    "\n",
    "    def set_sigma(self, s):\n",
    "        self._sigma[:] = s\n",
    "\n",
    "    def standardize(self,X):\n",
    "        return (X - self._mu) / self._sigma \n",
    "\n",
    "    def unstandardize(self,X):\n",
    "        return (X * self._sigma) + self._mu \n",
    "    \n",
    "\n",
    "class NeuralNetLogReg(NeuralNet):\n",
    "    \"\"\" Nonlinear Logistic Regression\n",
    "    \"\"\"\n",
    "    def __init__(self, nunits):\n",
    "\n",
    "        self._nLayers=len(nunits)-1\n",
    "        self.rho = [1] * self._nLayers\n",
    "        self._W = []\n",
    "        wdims = []\n",
    "        lenweights = 0\n",
    "        for i in range(self._nLayers):\n",
    "            nwr = nunits[i] + 1\n",
    "            nwc = nunits[i+1]\n",
    "            wdims.append((nwr, nwc))\n",
    "            lenweights = lenweights + nwr * nwc\n",
    "\n",
    "        self._weights = np.random.uniform(-0.1,0.1, lenweights) \n",
    "        start = 0  # fixed index error 20110107\n",
    "        for i in range(self._nLayers):\n",
    "            end = start + wdims[i][0] * wdims[i][1] \n",
    "            self._W.append(self._weights[start:end])\n",
    "            self._W[i].resize(wdims[i])\n",
    "            start = end\n",
    "\n",
    "        self.stdX = None\n",
    "        self.stdT = None\n",
    "        self.stdTarget = False\n",
    "\n",
    "    def add_ones(self, w):\n",
    "        return np.hstack((np.ones((w.shape[0], 1)), w))\n",
    "\n",
    "    def get_nlayers(self):\n",
    "        return self._nLayers\n",
    "\n",
    "    def set_hunit(self, w):\n",
    "        for i in range(self._nLayers-1):\n",
    "            if w[i].shape != self._W[i].shape:\n",
    "                print(\"set_hunit: shapes do not match!\")\n",
    "                break\n",
    "            else:\n",
    "                self._W[i][:] = w[i][:]\n",
    "\n",
    "    def pack(self, w):\n",
    "        return np.hstack(map(np.ravel, w))\n",
    "\n",
    "    def unpack(self, weights):\n",
    "        self._weights[:] = weights[:]  # unpack\n",
    "\n",
    "    def cp_weight(self):\n",
    "        return copy(self._weights)\n",
    "\n",
    "    def RBF(self, X, m=None,s=None):\n",
    "        if m is None: m = np.mean(X)\n",
    "        if s is None: s = 2 #np.std(X)\n",
    "        r = 1. / (np.sqrt(2*np.pi)* s)  \n",
    "        return r * np.exp(-(X - m) ** 2 / (2 * s ** 2))\n",
    "    \n",
    "    def softmax(self,z):\n",
    "        if not isinstance(z, np.ndarray):\n",
    "            z = np.asarray(z)\n",
    "        f = np.exp(z) \n",
    "        return f / (np.sum(f, axis=1, keepdims=True) if len(z.shape) == 2 else np.sum(f))\n",
    "    \n",
    "    def forward(self,X):\n",
    "        t = X \n",
    "        Z = []\n",
    "\n",
    "        for i in range(self._nLayers):\n",
    "            Z.append(t) \n",
    "            if i == self._nLayers - 1:\n",
    "                t = np.dot(self.add_ones(t), self._W[i])\n",
    "#                 t = self.softmax(t)\n",
    "            else:\n",
    "                t = np.tanh(np.dot(self.add_ones(t), self._W[i]))\n",
    "                #t = self.RBF(np.dot(np.hstack((np.ones((t.shape[0],1)),t)),self._W[i]))\n",
    "#         t, Z = super(NeuralNet, self).forward(X)\n",
    "        G = self.softmax(t)\n",
    "        return (G, Z)\n",
    "        \n",
    "    def backward(self, error, Z, T, lmb=0):\n",
    "        delta = error\n",
    "        N = T.size\n",
    "        dws = []\n",
    "        for i in range(self._nLayers - 1, -1, -1):\n",
    "            rh = float(self.rho[i]) \n",
    "            if i==0:\n",
    "                lmbterm = 0\n",
    "            else:\n",
    "                lmbterm = lmb * np.vstack((np.zeros((1, self._W[i].shape[1])),\n",
    "                            self._W[i][1:,]))\n",
    "            dws.insert(0,(-rh * np.dot(self.add_ones(Z[i]).T, delta) + lmbterm))\n",
    "            if i != 0:\n",
    "                delta = np.dot(delta, self._W[i][1:, :].T) * (1 - Z[i]**2)\n",
    "        return self.pack(dws)\n",
    "\n",
    "    def _errorf(self, T, Y):\n",
    "        return T - Y\n",
    "        \n",
    "    def _objectf(self, T, Y, wpenalty):\n",
    "#         print((np.sum(np.multiply(T, np.log(Y)))))\n",
    "        return -(np.sum(np.multiply(T, np.log(Y)))  + wpenalty)\n",
    "#         return - np.sum(np.sum(T*(np.log(Y))))+wpenalty\n",
    "#         return 0.5 * np.mean(np.square(T - Y)) + wpenalty\n",
    "\n",
    "    def train(self, X, T, **params):\n",
    "\n",
    "        verbose = params.pop('verbose', False)\n",
    "        # training parameters\n",
    "        _lambda = params.pop('Lambda', 0.)\n",
    "\n",
    "        #parameters for scg\n",
    "        niter = params.pop('niter', 1000)\n",
    "        wprecision = params.pop('wprecision', 1e-10)\n",
    "        fprecision = params.pop('fprecision', 1e-10)\n",
    "        wtracep = params.pop('wtracep', False)\n",
    "        ftracep = params.pop('ftracep', False)\n",
    "\n",
    "        # optimization\n",
    "        optim = params.pop('optim', 'scg')\n",
    "\n",
    "        if self.stdX == None:\n",
    "            explore = params.pop('explore', False)\n",
    "            self.stdX = Standardizer(X, explore)\n",
    "        Xs = self.stdX.standardize(X)\n",
    "        if self.stdT == None and self.stdTarget:\n",
    "            self.stdT = Standardizer(T)\n",
    "            T = self.stdT.standardize(T)\n",
    "        \n",
    "        def gradientf(weights):\n",
    "            self.unpack(weights)\n",
    "            Y,Z = self.forward(Xs)\n",
    "            error = self._errorf(T, Y)\n",
    "            return self.backward(error, Z, T, _lambda)\n",
    "            \n",
    "        def optimtargetf(weights):\n",
    "            \"\"\" optimization target function : MSE \n",
    "            \"\"\"\n",
    "            self.unpack(weights)\n",
    "            #self._weights[:] = weights[:]  # unpack\n",
    "            Y,_ = self.forward(Xs)\n",
    "            Wnb=np.array([])\n",
    "            for i in range(self._nLayers):\n",
    "                if len(Wnb)==0: Wnb=self._W[i][1:,].reshape(self._W[i].size-self._W[i][0,].size,1)\n",
    "                else: Wnb = np.vstack((Wnb,self._W[i][1:,].reshape(self._W[i].size-self._W[i][0,].size,1)))\n",
    "            wpenalty = _lambda * np.dot(Wnb.flat ,Wnb.flat)\n",
    "            return self._objectf(T, Y, wpenalty)\n",
    "\n",
    "        if optim == 'scg':\n",
    "            result = scg(self.cp_weight(), gradientf, optimtargetf,\n",
    "                                        wPrecision=wprecision, fPrecision=fprecision, \n",
    "                                        nIterations=niter,\n",
    "                                        wtracep=wtracep, ftracep=ftracep,\n",
    "                                        verbose=False)\n",
    "            self.unpack(result['w'][:])\n",
    "            self.f = result['f']\n",
    "        elif optim == 'steepest':\n",
    "            result = steepest(self.cp_weight(), gradientf, optimtargetf,\n",
    "                                nIterations=niter,\n",
    "                                xPrecision=wprecision, fPrecision=fprecision,\n",
    "                                xtracep=wtracep, ftracep=ftracep )\n",
    "            self.unpack(result['w'][:])\n",
    "        if ftracep:\n",
    "            self.ftrace = result['ftrace']\n",
    "        if 'reason' in result.keys() and verbose:\n",
    "            print(result['reason'])\n",
    "\n",
    "        return result\n",
    "\n",
    "    def use(self, X, retZ=False):\n",
    "        if self.stdX:\n",
    "            Xs = self.stdX.standardize(X)\n",
    "        else:\n",
    "            Xs = X\n",
    "        Y, Z = self.forward(Xs)\n",
    "        if self.stdT is not None:\n",
    "            Y = self.stdT.unstandardize(Y)\n",
    "        if retZ:\n",
    "            return Y, Z\n",
    "        return Y\n"
   ]
  },
  {
   "cell_type": "markdown",
   "metadata": {},
   "source": [
    "## Non Linear Logistic Regression"
   ]
  },
  {
   "cell_type": "markdown",
   "metadata": {},
   "source": [
    "# Explanation of Codes\n",
    "\n",
    "The *NeuralNetLogReg* implements a class from *nn.py* which is *NeuralNet* which inturn imports methods *scg*, *steepest* from grad.py and a class *Standardizer* from util.py. *scg* and *steepest* are optimizers for neural network.\n",
    "\n",
    "*NeuralNetLogReg* contains methods init(), softmax(), g(), forward(), objectf(), train(), use(). In init() the super class init is initiaized i.e. init of NeuralNet. The forward function that is implemented from the NeuralNet class is overriden as Logistic Regression need to applied i.e. softmax() instead of tanh(). objectf(), train() and use() functions are also overriden. objectf() in NeuralNet return the mean square error whereas the overriden method returns the error calculated from logistic regression prediction. train() calls the NeuralNet train function. use() is overriden because the probabilities are predicted and argmax for that need to be calculated.\n",
    "\n",
    "A new function indicator_matrix is defined to convert the labels to indicator matrix. The function is applied to the ndarray with apply_along_axis function."
   ]
  },
  {
   "cell_type": "markdown",
   "metadata": {},
   "source": [
    "### Choice of Evaluation Metrix\n",
    "To evaluate a machine learning model is critical for the choice of right tools and performance. There are several classification measurements to meet different needs for practical applications. In this section, we examine popular measures.\n",
    "\n",
    "### Confusion matrix\n",
    "Each row in this matrix represents the predictions from model and column represents the actual classes\n",
    "-\tTrue Negative (TN)\t\n",
    "-   False Positive (FP)\n",
    "-\tFalse Negative (FN)\t\n",
    "-   True Positive (TP)\n",
    "###  Precision:\n",
    "The accuracy of positive predictions. We can read this as the ratio that my positive prediction is correct.\n",
    "$$\n",
    "\\text{precision} = \\frac{\\text{TP}}{\\text{TP} + \\text{FP}}\n",
    "$$\n",
    "### Recall:\n",
    "Recall is also known as Sensitivity or True Positive Rate\n",
    "This measure give you how the model's prediction covers the positive class.\n",
    "$$\n",
    "\\text{recall} = \\frac{\\text{TP}}{\\text{TP} + \\text{FN}}\n",
    "$$\n",
    "### Specificity: \n",
    "Specificity is the measure of the true negative rate.\n",
    "Considering imblance or difference in class, we consider TNR as well.\n",
    "$$\n",
    "\\text{Specificity} = \\frac{\\text{TN}}{\\text{TN} + \\text{FP}}\n",
    "$$\n",
    "ROC AUC Score\n",
    "The ROC curve is another popular tool for binary classifications. The ROC curve plots the true positive rate (recall) vs the false positive rate (1 - specificity). For the ROC curve, AUC measures the area to represent it with a numeric value by simply computing the area under the curve. AUC values are used also for various graphical measurement such as PR (Precision-Recall) curve.\n",
    "### Error:\n",
    "Error calculates the overall wrong predictions from the total data.\n",
    "$$\n",
    "\\text{error} = \\frac{\\text{FP} + \\text{FN}}{\\text{TP} + \\text{FN} + \\text{FP} + \\text{TN} }\n",
    "$$\n",
    "\n",
    "### Accuracy:\n",
    "$$\n",
    "   \\text{Accuracy} = \\frac{\\text{The number of correct classification}}{\\text{The number of samples}}.\n",
    "$$\n",
    "### F1 Score:\n",
    "It provides the harmonic mean of precision and recall.\n",
    "\n",
    "$$\n",
    "\\begin{align*}\n",
    "F_1 &amp;= \\Bigg( \\frac{\\frac{1}{precision} + \\frac{1}{recall}}{2} \\Bigg)^{-1} \\\\\n",
    "\\\\\n",
    "    &amp;= 2 \\times \\frac{precision \\times recall}{precision + recall} \\\\\n",
    "    \\\\\n",
    "    &amp;= \\frac{TP}{TP + \\frac{FN+FP}{2}}\n",
    "\\end{align*}\n",
    "$$\n",
    "F1 score favors the similar precision and recall values"
   ]
  },
  {
   "cell_type": "code",
   "execution_count": 126,
   "metadata": {},
   "outputs": [],
   "source": [
    "def acc(cf):\n",
    "    cf=np.array(cf)\n",
    "    return (cf[1][1]+cf[0][0])/(cf[0][0]+cf[0][1]+cf[1][0]+cf[1][1])\n",
    "\n",
    "def precision(cf):\n",
    "    cf=np.array(cf)\n",
    "    if cf[1][1] + cf[0][1] == 0 :\n",
    "        return 0\n",
    "    else:\n",
    "        return cf[1][1]/(cf[1][1]+cf[0][1])\n",
    "    \n",
    "def recall(cf):\n",
    "    cf=np.array(cf)\n",
    "    if cf[1][1] + cf[1][0] == 0 :\n",
    "        return 0\n",
    "    else:\n",
    "        return cf[1][1]/(cf[1][1]+cf[1][0])\n",
    "    \n",
    "def specificity(cf):\n",
    "    cf=np.array(cf)\n",
    "    if cf[0][0] + cf[0][1] == 0 :\n",
    "        return \n",
    "    else:\n",
    "        return cf[0][0]/(cf[0][0]+cf[0][1])\n",
    "    \n",
    "def error(cf):\n",
    "    cf=np.array(cf)\n",
    "    if cf[0][0] + cf[0][1] == 0 :\n",
    "        return \n",
    "    else:\n",
    "        return (cf[0][1]+cf[1][0])/(cf[0][0]+cf[1][0]+cf[0][1]+cf[1][1])\n",
    "    "
   ]
  },
  {
   "cell_type": "markdown",
   "metadata": {},
   "source": [
    "##  Examination of correct implementation (NonlinearLogReg) with toy data."
   ]
  },
  {
   "cell_type": "code",
   "execution_count": 51,
   "metadata": {},
   "outputs": [
    {
     "data": {
      "text/plain": [
       "Text(0.5, 1.0, 'test data set')"
      ]
     },
     "execution_count": 51,
     "metadata": {},
     "output_type": "execute_result"
    },
    {
     "data": {
      "image/png": "[encoded data removed]",
      "text/plain": [
       "<Figure size 432x288 with 1 Axes>"
      ]
     },
     "metadata": {
      "needs_background": "light"
     },
     "output_type": "display_data"
    },
    {
     "data": {
      "image/png": "[encoded data removed]",
      "text/plain": [
       "<Figure size 432x288 with 1 Axes>"
      ]
     },
     "metadata": {
      "needs_background": "light"
     },
     "output_type": "display_data"
    }
   ],
   "source": [
    "# Data for testing\n",
    "N1 = 50\n",
    "N2 = 50\n",
    "N = N1 + N2\n",
    "D = 2\n",
    "K = 2\n",
    "\n",
    "mu1 = [-1, -1]\n",
    "cov1 = np.eye(2)\n",
    "\n",
    "mu2 = [2,3]\n",
    "cov2 = np.eye(2) * 3\n",
    "\n",
    "#\n",
    "#  Train Data\n",
    "#\n",
    "C1 = np.random.multivariate_normal(mu1, cov1, N1)\n",
    "C2 = np.random.multivariate_normal(mu2, cov2, N2)\n",
    "\n",
    "plt.plot(C1[:, 0], C1[:, 1], 'or')\n",
    "plt.plot(C2[:, 0], C2[:, 1], 'xb')\n",
    "\n",
    "plt.xlim([-3, 6])\n",
    "plt.ylim([-3, 7])\n",
    "plt.title(\"training data set\")\n",
    "\n",
    "Xtrain = np.vstack((C1, C2))\n",
    "Ttrain = np.zeros((N, 1))\n",
    "Ttrain[50:, :] = 1  # labels are zero or one\n",
    "\n",
    "means, stds = np.mean(Xtrain, 0), np.std(Xtrain, 0)\n",
    "# normalize inputs\n",
    "Xtrains = (Xtrain - means) / stds\n",
    "\n",
    "#\n",
    "#  Test Data\n",
    "#\n",
    "Ct1 = np.random.multivariate_normal(mu1, cov1, 20)\n",
    "Ct2 = np.random.multivariate_normal(mu2, cov2, 20)\n",
    "\n",
    "Xtest = np.vstack((Ct1, Ct2))\n",
    "Ttest = np.zeros((40, 1))\n",
    "Ttest[20:, :] = 1\n",
    "\n",
    "# normalize inputs\n",
    "Xtests = (Xtrain - means) / stds\n",
    "\n",
    "\n",
    "plt.figure()\n",
    "plt.plot(Ct1[:, 0], Ct1[:, 1], 'or')\n",
    "plt.plot(Ct2[:, 0], Ct2[:, 1], 'xb')\n",
    "\n",
    "plt.xlim([-3, 6])\n",
    "plt.ylim([-3, 7])\n",
    "plt.title(\"test data set\")"
   ]
  },
  {
   "cell_type": "code",
   "execution_count": 53,
   "metadata": {},
   "outputs": [
    {
     "data": {
      "text/plain": [
       "(100, 1)"
      ]
     },
     "execution_count": 53,
     "metadata": {},
     "output_type": "execute_result"
    }
   ],
   "source": [
    "Ttrain.shape"
   ]
  },
  {
   "cell_type": "code",
   "execution_count": 42,
   "metadata": {},
   "outputs": [
    {
     "data": {
      "text/plain": [
       "(40, 1)"
      ]
     },
     "execution_count": 42,
     "metadata": {},
     "output_type": "execute_result"
    }
   ],
   "source": [
    "Ttest.shape"
   ]
  },
  {
   "cell_type": "code",
   "execution_count": 60,
   "metadata": {},
   "outputs": [
    {
     "name": "stderr",
     "output_type": "stream",
     "text": [
      "C:\\Users\\Manisha\\Anaconda3\\lib\\site-packages\\ipykernel_launcher.py:66: FutureWarning: arrays to stack must be passed as a \"sequence\" type such as list or tuple. Support for non-sequence iterables such as generators is deprecated as of NumPy 1.16 and will raise an error in the future.\n",
      "C:\\Users\\Manisha\\Anaconda3\\lib\\site-packages\\ipykernel_launcher.py:83: RuntimeWarning: overflow encountered in exp\n",
      "C:\\Users\\Manisha\\Anaconda3\\lib\\site-packages\\ipykernel_launcher.py:84: RuntimeWarning: invalid value encountered in true_divide\n"
     ]
    }
   ],
   "source": [
    "nm = NeuralNetLogReg([2, 10, 13, 5, 2])\n",
    "nm.train(Xtest, Ttest, ftracep=True) \n",
    "Ytest, Z = nm.use(Xtest, retZ=True)\n",
    "Ytrain, Z = nm.use(Xtrain, retZ=True)"
   ]
  },
  {
   "cell_type": "code",
   "execution_count": 61,
   "metadata": {},
   "outputs": [],
   "source": [
    "Ytest = np.argmax(Ytest,1)\n",
    "Ytest\n",
    "Ytest = Ytest.reshape(Ytest.size,1)\n",
    "Ytrain = np.argmax(Ytrain,1)\n",
    "Ytrain = Ytrain.reshape(Ytrain.size,1)"
   ]
  },
  {
   "cell_type": "code",
   "execution_count": 63,
   "metadata": {},
   "outputs": [],
   "source": [
    "Ytest=np.array(Ytest)\n",
    "Ytrain=np.array(Ytrain)"
   ]
  },
  {
   "cell_type": "code",
   "execution_count": 66,
   "metadata": {},
   "outputs": [],
   "source": [
    "from sklearn.metrics import precision_score,recall_score, confusion_matrix, classification_report, accuracy_score, f1_score\n",
    "conf_matrix_train = confusion_matrix(Ttrain,Ytrain )\n",
    "conf_matrix_test = confusion_matrix(Ttest,Ytest )"
   ]
  },
  {
   "cell_type": "code",
   "execution_count": 67,
   "metadata": {},
   "outputs": [
    {
     "name": "stdout",
     "output_type": "stream",
     "text": [
      "Test Data Accuracy using  Algorithm: 0.5\n"
     ]
    }
   ],
   "source": [
    "print('Test Data Accuracy using  Algorithm:', acc(conf_matrix_test))"
   ]
  },
  {
   "cell_type": "code",
   "execution_count": 68,
   "metadata": {},
   "outputs": [
    {
     "name": "stdout",
     "output_type": "stream",
     "text": [
      "Train Data Accuracy using  Algorithm: 0.5\n"
     ]
    }
   ],
   "source": [
    "print('Train Data Accuracy using  Algorithm:', acc(conf_matrix_train))"
   ]
  },
  {
   "cell_type": "code",
   "execution_count": 69,
   "metadata": {},
   "outputs": [
    {
     "name": "stdout",
     "output_type": "stream",
     "text": [
      "Train Data error using  Algorithm: 0.5\n"
     ]
    }
   ],
   "source": [
    "print('Train Data error using  Algorithm:', error(conf_matrix_train))"
   ]
  },
  {
   "cell_type": "markdown",
   "metadata": {},
   "source": [
    "## Test on my classification data"
   ]
  },
  {
   "cell_type": "markdown",
   "metadata": {},
   "source": [
    "## Data\n",
    "__The dataset taken is from kaggle .It consists of reviews of food from amazon. \n",
    " Reviews include product and user information, ratings, and text review.\n",
    " Profile names and summary contain null values.\n",
    " The output for this data is classification. as we need to classify the data as to which score the custormer would give raging from 1 to 5 with 5 being the most like and 1 being the least liked.__\n",
    "### Data includes:\n",
    "- Reviews from Oct 1999 - Oct 2012\n",
    "- 568,454 reviews\n",
    "- 256,059 users\n",
    "- 74,258 products\n",
    "- 260 users with > 50 reviews\n",
    "- \n",
    "### The data set contains the following fields\n",
    " __Id, ProductId, UserId, ProfileName, HelpfulnessNumerator, HelpfulnessDenominator, Score, Time, Summary, Text \n",
    " IdRow Id__\n",
    "- ProductId: Unique identifier for the product\n",
    "- UserId: Unqiue identifier for the user\n",
    "- ProfileName: Profile name of the user\n",
    "- HelpfulnessNumerator: Number of users who found the review helpful\n",
    "- HelpfulnessDenominator: Number of users who indicated whether they found the review helpful or not\n",
    "- ScoreRating: between 1 and 5\n",
    "- TimeTimestamp: for the review\n",
    "- Summary: Brief summary of the review\n",
    "- Text:Text of the review"
   ]
  },
  {
   "cell_type": "code",
   "execution_count": 70,
   "metadata": {},
   "outputs": [],
   "source": [
    "import random\n"
   ]
  },
  {
   "cell_type": "code",
   "execution_count": 71,
   "metadata": {},
   "outputs": [
    {
     "data": {
      "text/html": [
       "<div>\n",
       "<style scoped>\n",
       "    .dataframe tbody tr th:only-of-type {\n",
       "        vertical-align: middle;\n",
       "    }\n",
       "\n",
       "    .dataframe tbody tr th {\n",
       "        vertical-align: top;\n",
       "    }\n",
       "\n",
       "    .dataframe thead th {\n",
       "        text-align: right;\n",
       "    }\n",
       "</style>\n",
       "<table border=\"1\" class=\"dataframe\">\n",
       "  <thead>\n",
       "    <tr style=\"text-align: right;\">\n",
       "      <th></th>\n",
       "      <th>Id</th>\n",
       "      <th>ProductId</th>\n",
       "      <th>UserId</th>\n",
       "      <th>ProfileName</th>\n",
       "      <th>HelpfulnessNumerator</th>\n",
       "      <th>HelpfulnessDenominator</th>\n",
       "      <th>Score</th>\n",
       "      <th>Time</th>\n",
       "      <th>Summary</th>\n",
       "      <th>Text</th>\n",
       "    </tr>\n",
       "  </thead>\n",
       "  <tbody>\n",
       "    <tr>\n",
       "      <th>0</th>\n",
       "      <td>1</td>\n",
       "      <td>B001E4KFG0</td>\n",
       "      <td>A3SGXH7AUHU8GW</td>\n",
       "      <td>delmartian</td>\n",
       "      <td>1</td>\n",
       "      <td>1</td>\n",
       "      <td>5</td>\n",
       "      <td>1303862400</td>\n",
       "      <td>Good Quality Dog Food</td>\n",
       "      <td>I have bought several of the Vitality canned d...</td>\n",
       "    </tr>\n",
       "    <tr>\n",
       "      <th>1</th>\n",
       "      <td>2</td>\n",
       "      <td>B00813GRG4</td>\n",
       "      <td>A1D87F6ZCVE5NK</td>\n",
       "      <td>dll pa</td>\n",
       "      <td>0</td>\n",
       "      <td>0</td>\n",
       "      <td>1</td>\n",
       "      <td>1346976000</td>\n",
       "      <td>Not as Advertised</td>\n",
       "      <td>Product arrived labeled as Jumbo Salted Peanut...</td>\n",
       "    </tr>\n",
       "    <tr>\n",
       "      <th>2</th>\n",
       "      <td>3</td>\n",
       "      <td>B000LQOCH0</td>\n",
       "      <td>ABXLMWJIXXAIN</td>\n",
       "      <td>Natalia Corres \"Natalia Corres\"</td>\n",
       "      <td>1</td>\n",
       "      <td>1</td>\n",
       "      <td>4</td>\n",
       "      <td>1219017600</td>\n",
       "      <td>\"Delight\" says it all</td>\n",
       "      <td>This is a confection that has been around a fe...</td>\n",
       "    </tr>\n",
       "    <tr>\n",
       "      <th>3</th>\n",
       "      <td>4</td>\n",
       "      <td>B000UA0QIQ</td>\n",
       "      <td>A395BORC6FGVXV</td>\n",
       "      <td>Karl</td>\n",
       "      <td>3</td>\n",
       "      <td>3</td>\n",
       "      <td>2</td>\n",
       "      <td>1307923200</td>\n",
       "      <td>Cough Medicine</td>\n",
       "      <td>If you are looking for the secret ingredient i...</td>\n",
       "    </tr>\n",
       "    <tr>\n",
       "      <th>4</th>\n",
       "      <td>5</td>\n",
       "      <td>B006K2ZZ7K</td>\n",
       "      <td>A1UQRSCLF8GW1T</td>\n",
       "      <td>Michael D. Bigham \"M. Wassir\"</td>\n",
       "      <td>0</td>\n",
       "      <td>0</td>\n",
       "      <td>5</td>\n",
       "      <td>1350777600</td>\n",
       "      <td>Great taffy</td>\n",
       "      <td>Great taffy at a great price.  There was a wid...</td>\n",
       "    </tr>\n",
       "  </tbody>\n",
       "</table>\n",
       "</div>"
      ],
      "text/plain": [
       "   Id   ProductId          UserId                      ProfileName  \\\n",
       "0   1  B001E4KFG0  A3SGXH7AUHU8GW                       delmartian   \n",
       "1   2  B00813GRG4  A1D87F6ZCVE5NK                           dll pa   \n",
       "2   3  B000LQOCH0   ABXLMWJIXXAIN  Natalia Corres \"Natalia Corres\"   \n",
       "3   4  B000UA0QIQ  A395BORC6FGVXV                             Karl   \n",
       "4   5  B006K2ZZ7K  A1UQRSCLF8GW1T    Michael D. Bigham \"M. Wassir\"   \n",
       "\n",
       "   HelpfulnessNumerator  HelpfulnessDenominator  Score        Time  \\\n",
       "0                     1                       1      5  1303862400   \n",
       "1                     0                       0      1  1346976000   \n",
       "2                     1                       1      4  1219017600   \n",
       "3                     3                       3      2  1307923200   \n",
       "4                     0                       0      5  1350777600   \n",
       "\n",
       "                 Summary                                               Text  \n",
       "0  Good Quality Dog Food  I have bought several of the Vitality canned d...  \n",
       "1      Not as Advertised  Product arrived labeled as Jumbo Salted Peanut...  \n",
       "2  \"Delight\" says it all  This is a confection that has been around a fe...  \n",
       "3         Cough Medicine  If you are looking for the secret ingredient i...  \n",
       "4            Great taffy  Great taffy at a great price.  There was a wid...  "
      ]
     },
     "execution_count": 71,
     "metadata": {},
     "output_type": "execute_result"
    }
   ],
   "source": [
    "review=pd.read_csv(\"Reviews.csv\")\n",
    "review.head()"
   ]
  },
  {
   "cell_type": "markdown",
   "metadata": {},
   "source": [
    "## DATA PRE_PROCESSING\n",
    "- __Remove special characters from profile name__\n",
    "- __Remove rows having null for profileName attibute__\n",
    "- __Remove unnecessary punctuations from text__\n",
    "- __Remove unnecessary punctuations from Summary__ \n"
   ]
  },
  {
   "cell_type": "code",
   "execution_count": 72,
   "metadata": {},
   "outputs": [],
   "source": [
    "review[\"ProfileName\"] = review['ProfileName'].str.replace('\"','')"
   ]
  },
  {
   "cell_type": "code",
   "execution_count": 73,
   "metadata": {},
   "outputs": [
    {
     "name": "stdout",
     "output_type": "stream",
     "text": [
      "       ProfileName      Id  Score\n",
      "25509          NaN   25510      5\n",
      "38874          NaN   38875      1\n",
      "49800          NaN   49801      2\n",
      "67077          NaN   67078      5\n",
      "106550         NaN  106551      5\n",
      "137613         NaN  137614      5\n",
      "163191         NaN  163192      5\n",
      "172462         NaN  172463      5\n",
      "297275         NaN  297276      1\n",
      "306751         NaN  306752      5\n",
      "431598         NaN  431599      1\n",
      "440825         NaN  440826      5\n",
      "490412         NaN  490413      5\n",
      "491728         NaN  491729      1\n",
      "515436         NaN  515437      5\n",
      "560446         NaN  560447      5\n"
     ]
    }
   ],
   "source": [
    "#print cloumns which have missing profile names\n",
    "null_data = review[review['ProfileName'].isnull()]\n",
    "print(null_data[['ProfileName','Id','Score']])"
   ]
  },
  {
   "cell_type": "code",
   "execution_count": 74,
   "metadata": {},
   "outputs": [],
   "source": [
    "#Remove columns with Nan in profile name\n",
    "review=review.dropna(subset=['ProfileName'])"
   ]
  },
  {
   "cell_type": "code",
   "execution_count": 75,
   "metadata": {},
   "outputs": [
    {
     "data": {
      "text/plain": [
       "Id                         0\n",
       "ProductId                  0\n",
       "UserId                     0\n",
       "ProfileName                0\n",
       "HelpfulnessNumerator       0\n",
       "HelpfulnessDenominator     0\n",
       "Score                      0\n",
       "Time                       0\n",
       "Summary                   27\n",
       "Text                       0\n",
       "dtype: int64"
      ]
     },
     "execution_count": 75,
     "metadata": {},
     "output_type": "execute_result"
    }
   ],
   "source": [
    "review.isna().sum()"
   ]
  },
  {
   "cell_type": "markdown",
   "metadata": {},
   "source": [
    "## Observations:\n",
    "__the number of NA values in profile name are now 0 as we have deleted the rows which did not have profile name.__"
   ]
  },
  {
   "cell_type": "code",
   "execution_count": 76,
   "metadata": {},
   "outputs": [],
   "source": [
    "review[\"Text_new\"] = review['Text'].str.replace('[^\\w\\s]','')\n",
    "review[\"Text_new\"] = review['Text_new']"
   ]
  },
  {
   "cell_type": "code",
   "execution_count": 77,
   "metadata": {},
   "outputs": [],
   "source": [
    "review[\"Summary\"] = review['Summary'].str.replace('[^\\w\\s]','')"
   ]
  },
  {
   "cell_type": "code",
   "execution_count": 78,
   "metadata": {},
   "outputs": [
    {
     "name": "stdout",
     "output_type": "stream",
     "text": [
      "                 Summary\n",
      "0  Good Quality Dog Food\n",
      "1      Not as Advertised\n",
      "2    Delight says it all\n",
      "3         Cough Medicine\n",
      "4            Great taffy\n"
     ]
    }
   ],
   "source": [
    "#remove puntuations from summary\n",
    "print(review[['Summary']].head(5))"
   ]
  },
  {
   "cell_type": "code",
   "execution_count": 79,
   "metadata": {},
   "outputs": [
    {
     "data": {
      "text/plain": [
       "Id                         0\n",
       "ProductId                  0\n",
       "UserId                     0\n",
       "ProfileName                0\n",
       "HelpfulnessNumerator       0\n",
       "HelpfulnessDenominator     0\n",
       "Score                      0\n",
       "Time                       0\n",
       "Summary                   27\n",
       "Text                       0\n",
       "Text_new                   0\n",
       "dtype: int64"
      ]
     },
     "execution_count": 79,
     "metadata": {},
     "output_type": "execute_result"
    }
   ],
   "source": [
    "review.isna().sum()\n"
   ]
  },
  {
   "cell_type": "markdown",
   "metadata": {},
   "source": [
    "__The number of rows that have NA is summary is 27. As having null in Summary might not effect the analysis much  so we can continue__"
   ]
  },
  {
   "cell_type": "markdown",
   "metadata": {},
   "source": [
    "## Visualisation"
   ]
  },
  {
   "cell_type": "code",
   "execution_count": 80,
   "metadata": {},
   "outputs": [],
   "source": [
    "import seaborn as sns"
   ]
  },
  {
   "cell_type": "code",
   "execution_count": 81,
   "metadata": {},
   "outputs": [
    {
     "data": {
      "text/plain": [
       "Text(0.5, 1.0, 'Distribution of Review Score')"
      ]
     },
     "execution_count": 81,
     "metadata": {},
     "output_type": "execute_result"
    },
    {
     "data": {
      "image/png": "[encoded data removed]",
      "text/plain": [
       "<Figure size 576x576 with 1 Axes>"
      ]
     },
     "metadata": {
      "needs_background": "light"
     },
     "output_type": "display_data"
    }
   ],
   "source": [
    "plt.figure(figsize=(8,8))\n",
    "ax=sns.countplot(review['Score'],color='skyblue')\n",
    "ax.set_xlabel(\"Score\")\n",
    "ax.set_ylabel('Count')\n",
    "ax.set_title(\"Distribution of Review Score\")"
   ]
  },
  {
   "cell_type": "markdown",
   "metadata": {},
   "source": [
    "## Observations :\n",
    "__maximum number of users have given a rating of 5. This pattern could be because of human tendecy to just rate 5 by default.\n",
    "To know the score along with the usefulness we need to perform more visualisations using Helpfullness along with the score.__"
   ]
  },
  {
   "cell_type": "code",
   "execution_count": 82,
   "metadata": {},
   "outputs": [],
   "source": [
    "# Create a list containing the average usefulness for given ratings\n",
    "use_ls = []\n",
    "\n",
    "for i in range(1, 6):\n",
    "    use_ls.append([i, np.sum(review[review.Score == i].HelpfulnessDenominator) / np.sum([review.Score == i])])\n",
    "    \n",
    "use_arr = np.asarray(use_ls)"
   ]
  },
  {
   "cell_type": "code",
   "execution_count": 83,
   "metadata": {},
   "outputs": [
    {
     "data": {
      "image/png": "[encoded data removed]",
      "text/plain": [
       "<Figure size 432x288 with 1 Axes>"
      ]
     },
     "metadata": {
      "needs_background": "light"
     },
     "output_type": "display_data"
    }
   ],
   "source": [
    "plt.scatter(use_arr[:, 0], use_arr[:, 1], c=use_arr[:, 0], cmap='tab10', s=200)\n",
    "plt.title('Average Useful Count vs Rating')\n",
    "plt.xlabel('Rating')\n",
    "plt.ylabel('Average Useful Count')\n",
    "plt.xticks([i for i in range(1, 6)]);"
   ]
  },
  {
   "cell_type": "markdown",
   "metadata": {},
   "source": [
    "## Observation:\n",
    "__it can be noted that there are many users who found review score 1 more helpful.\n",
    "could be that such reviews might have helped them to avoid a particular food.__"
   ]
  },
  {
   "cell_type": "markdown",
   "metadata": {},
   "source": [
    "### top 5 persons whose reviews people have found most reviews."
   ]
  },
  {
   "cell_type": "code",
   "execution_count": 84,
   "metadata": {},
   "outputs": [],
   "source": [
    "useful=review.groupby('ProfileName')['HelpfulnessDenominator'].mean().reset_index().sort_values('HelpfulnessDenominator',ascending=False)"
   ]
  },
  {
   "cell_type": "code",
   "execution_count": 85,
   "metadata": {},
   "outputs": [
    {
     "data": {
      "text/plain": [
       "[Text(0, 0, 'BabbChuck BabbChuck'),\n",
       " Text(0, 0, 'P. Schmidt'),\n",
       " Text(0, 0, 'Benjamin Chodroff'),\n",
       " Text(0, 0, 'R. Hiltz'),\n",
       " Text(0, 0, 'ic ic')]"
      ]
     },
     "execution_count": 85,
     "metadata": {},
     "output_type": "execute_result"
    },
    {
     "data": {
      "image/png": "[encoded data removed]",
      "text/plain": [
       "<Figure size 576x576 with 1 Axes>"
      ]
     },
     "metadata": {
      "needs_background": "light"
     },
     "output_type": "display_data"
    }
   ],
   "source": [
    "plt.figure(figsize=(8,8))\n",
    "ax=sns.barplot(x='ProfileName',y='HelpfulnessDenominator',data=useful[:5],palette=sns.color_palette(palette=\"viridis_r\"))\n",
    "ax.set_title(\"Average Usefulness Rating by Profile-Top 5 Users\")\n",
    "ax.set_xlabel(\"Profile Name\")\n",
    "ax.set_ylabel(\"Average People\")\n",
    "ax.set_xticklabels(ax.get_xticklabels(),rotation=90)\n"
   ]
  },
  {
   "cell_type": "markdown",
   "metadata": {},
   "source": [
    "## Observations\n",
    "__user profile named BabbChunk has given the highest number of usefull ratings followed by P. Schmidt, Benjamin Chodroff, R.Hiitz and ic.__"
   ]
  },
  {
   "cell_type": "markdown",
   "metadata": {},
   "source": [
    "### people who have given the most positive reviews"
   ]
  },
  {
   "cell_type": "code",
   "execution_count": 86,
   "metadata": {},
   "outputs": [
    {
     "data": {
      "text/html": [
       "<div>\n",
       "<style scoped>\n",
       "    .dataframe tbody tr th:only-of-type {\n",
       "        vertical-align: middle;\n",
       "    }\n",
       "\n",
       "    .dataframe tbody tr th {\n",
       "        vertical-align: top;\n",
       "    }\n",
       "\n",
       "    .dataframe thead th {\n",
       "        text-align: right;\n",
       "    }\n",
       "</style>\n",
       "<table border=\"1\" class=\"dataframe\">\n",
       "  <thead>\n",
       "    <tr style=\"text-align: right;\">\n",
       "      <th></th>\n",
       "      <th>ProfileName</th>\n",
       "      <th>Score</th>\n",
       "    </tr>\n",
       "  </thead>\n",
       "  <tbody>\n",
       "    <tr>\n",
       "      <th>109191</th>\n",
       "      <td>M. Field</td>\n",
       "      <td>5.0</td>\n",
       "    </tr>\n",
       "    <tr>\n",
       "      <th>125959</th>\n",
       "      <td>MyMarineRox</td>\n",
       "      <td>5.0</td>\n",
       "    </tr>\n",
       "    <tr>\n",
       "      <th>125946</th>\n",
       "      <td>MyB</td>\n",
       "      <td>5.0</td>\n",
       "    </tr>\n",
       "    <tr>\n",
       "      <th>125947</th>\n",
       "      <td>MyBB</td>\n",
       "      <td>5.0</td>\n",
       "    </tr>\n",
       "    <tr>\n",
       "      <th>125950</th>\n",
       "      <td>MyDogRunsMyLife</td>\n",
       "      <td>5.0</td>\n",
       "    </tr>\n",
       "  </tbody>\n",
       "</table>\n",
       "</div>"
      ],
      "text/plain": [
       "            ProfileName  Score\n",
       "109191         M. Field    5.0\n",
       "125959      MyMarineRox    5.0\n",
       "125946              MyB    5.0\n",
       "125947             MyBB    5.0\n",
       "125950  MyDogRunsMyLife    5.0"
      ]
     },
     "execution_count": 86,
     "metadata": {},
     "output_type": "execute_result"
    }
   ],
   "source": [
    "scores=review.groupby('ProfileName')['Score'].mean().reset_index().sort_values(by='Score',ascending=False)\n",
    "scores.head()"
   ]
  },
  {
   "cell_type": "code",
   "execution_count": 87,
   "metadata": {},
   "outputs": [
    {
     "data": {
      "text/plain": [
       "[Text(0, 0, 'M. Field'),\n",
       " Text(0, 0, 'MyMarineRox'),\n",
       " Text(0, 0, 'MyB'),\n",
       " Text(0, 0, 'MyBB'),\n",
       " Text(0, 0, 'MyDogRunsMyLife'),\n",
       " Text(0, 0, 'MyDogsBestFriend DonnaJean  McWhite'),\n",
       " Text(0, 0, 'MyGrnEyesF'),\n",
       " Text(0, 0, 'MyHumbleOpinion'),\n",
       " Text(0, 0, 'MyLoveIsBlind'),\n",
       " Text(0, 0, 'MyMelange')]"
      ]
     },
     "execution_count": 87,
     "metadata": {},
     "output_type": "execute_result"
    },
    {
     "data": {
      "image/png": "[encoded data removed]",
      "text/plain": [
       "<Figure size 576x576 with 1 Axes>"
      ]
     },
     "metadata": {
      "needs_background": "light"
     },
     "output_type": "display_data"
    }
   ],
   "source": [
    "plt.figure(figsize=(8,8))\n",
    "ax=sns.barplot(x='ProfileName',y='Score',data=scores[:10],palette=sns.color_palette(palette=\"viridis_r\"))\n",
    "ax.set_title(\"Users with most positive scores-Top 10 Users\")\n",
    "ax.set_xlabel(\"Profile Name\")\n",
    "ax.set_ylabel(\"Average Score\")\n",
    "ax.set_xticklabels(ax.get_xticklabels(),rotation=90) # rotates the names by 90"
   ]
  },
  {
   "cell_type": "markdown",
   "metadata": {},
   "source": [
    "## Observation: \n",
    "__The plot tells us that on an average most of the users have written positive reviews__"
   ]
  },
  {
   "cell_type": "code",
   "execution_count": 88,
   "metadata": {},
   "outputs": [
    {
     "data": {
      "text/plain": [
       "Id                         int64\n",
       "ProductId                 object\n",
       "UserId                    object\n",
       "ProfileName               object\n",
       "HelpfulnessNumerator       int64\n",
       "HelpfulnessDenominator     int64\n",
       "Score                      int64\n",
       "Time                       int64\n",
       "Summary                   object\n",
       "Text                      object\n",
       "Text_new                  object\n",
       "Helpful                    int32\n",
       "dtype: object"
      ]
     },
     "execution_count": 88,
     "metadata": {},
     "output_type": "execute_result"
    }
   ],
   "source": [
    "df=review\n",
    "df.loc[:, 'Helpful'] = np.where(df.loc[:, 'HelpfulnessNumerator'] / df.loc[:, 'HelpfulnessDenominator'] > 0.50, 1, 0)\n",
    "df.head(10)\n",
    "df.dtypes"
   ]
  },
  {
   "cell_type": "code",
   "execution_count": 89,
   "metadata": {},
   "outputs": [],
   "source": [
    "df['review_length']=df['Text_new'].str.len()"
   ]
  },
  {
   "cell_type": "code",
   "execution_count": 90,
   "metadata": {},
   "outputs": [],
   "source": [
    "df.dropna(inplace=True)\n",
    "df[df['Score'] != 3]\n",
    "df['Positivity'] = np.where(df['Score'] > 3, 1, 0)"
   ]
  },
  {
   "cell_type": "markdown",
   "metadata": {},
   "source": [
    "__As the data is very huge . We can take a sample of 10000 from the original data set.__"
   ]
  },
  {
   "cell_type": "code",
   "execution_count": 91,
   "metadata": {},
   "outputs": [],
   "source": [
    "df=review.sample(10000)"
   ]
  },
  {
   "cell_type": "code",
   "execution_count": 92,
   "metadata": {},
   "outputs": [
    {
     "data": {
      "text/plain": [
       "(10000,)"
      ]
     },
     "execution_count": 92,
     "metadata": {},
     "output_type": "execute_result"
    }
   ],
   "source": [
    "target_log=df.iloc[:,-1]\n",
    "feature_log=df.drop(['Positivity','Text_new','Text','Score','Id','ProductId','Summary','UserId','ProfileName','HelpfulnessNumerator','HelpfulnessDenominator'],axis=1)\n",
    "#features=X_train_vectorized.toarray()\n",
    "#features.shape\n",
    "target_log.shape"
   ]
  },
  {
   "cell_type": "code",
   "execution_count": 93,
   "metadata": {},
   "outputs": [
    {
     "data": {
      "text/plain": [
       "(10000, 3)"
      ]
     },
     "execution_count": 93,
     "metadata": {},
     "output_type": "execute_result"
    }
   ],
   "source": [
    "feature_log.shape\n"
   ]
  },
  {
   "cell_type": "code",
   "execution_count": 94,
   "metadata": {},
   "outputs": [
    {
     "data": {
      "text/plain": [
       "(10000, 3)"
      ]
     },
     "execution_count": 94,
     "metadata": {},
     "output_type": "execute_result"
    }
   ],
   "source": [
    "target = np.array(target_log).reshape(target_log.shape[0],1)\n",
    "#feature = np.array(feature) \n",
    "\n",
    "feature_log.shape"
   ]
  },
  {
   "cell_type": "code",
   "execution_count": 96,
   "metadata": {},
   "outputs": [],
   "source": [
    "#Splitting into training and test sets\n",
    "from sklearn.model_selection import train_test_split"
   ]
  },
  {
   "cell_type": "code",
   "execution_count": 97,
   "metadata": {},
   "outputs": [],
   "source": [
    "features_train, features_test, target_train, target_test = train_test_split(feature_log,target_log , test_size=0.3, random_state=40)"
   ]
  },
  {
   "cell_type": "code",
   "execution_count": 104,
   "metadata": {},
   "outputs": [
    {
     "data": {
      "text/plain": [
       "(7000, 1)"
      ]
     },
     "execution_count": 104,
     "metadata": {},
     "output_type": "execute_result"
    }
   ],
   "source": [
    "np.array(target_train).reshape((target_train.shape[0],1)).shape\n"
   ]
  },
  {
   "cell_type": "code",
   "execution_count": 105,
   "metadata": {},
   "outputs": [
    {
     "data": {
      "text/plain": [
       "(3000, 1)"
      ]
     },
     "execution_count": 105,
     "metadata": {},
     "output_type": "execute_result"
    }
   ],
   "source": [
    "np.array(target_test).reshape((target_test.shape[0],1)).shape"
   ]
  },
  {
   "cell_type": "code",
   "execution_count": 107,
   "metadata": {},
   "outputs": [
    {
     "name": "stderr",
     "output_type": "stream",
     "text": [
      "C:\\Users\\Manisha\\Anaconda3\\lib\\site-packages\\ipykernel_launcher.py:66: FutureWarning: arrays to stack must be passed as a \"sequence\" type such as list or tuple. Support for non-sequence iterables such as generators is deprecated as of NumPy 1.16 and will raise an error in the future.\n",
      "C:\\Users\\Manisha\\Anaconda3\\lib\\site-packages\\ipykernel_launcher.py:83: RuntimeWarning: overflow encountered in exp\n",
      "C:\\Users\\Manisha\\Anaconda3\\lib\\site-packages\\ipykernel_launcher.py:84: RuntimeWarning: invalid value encountered in true_divide\n"
     ]
    }
   ],
   "source": [
    "nm = NeuralNetLogReg([3, 26, 13, 5, 2])\n",
    "nm.train(features_train, np.array(target_train).reshape((target_train.shape[0],1)), ftracep=True) \n",
    "Ytest, Ztest = nm.use(features_test, retZ=True)\n",
    "Ytrain, Ztrain = nm.use(features_train, retZ=True)"
   ]
  },
  {
   "cell_type": "code",
   "execution_count": 108,
   "metadata": {},
   "outputs": [],
   "source": [
    "Ytest = np.argmax(Ytest,1)\n",
    "Ytest = Ytest.reshape(Ytest.size,1)\n",
    "Ytrain = np.argmax(Ytrain,1)\n",
    "Ytrain = Ytrain.reshape(Ytrain.size,1)"
   ]
  },
  {
   "cell_type": "code",
   "execution_count": 109,
   "metadata": {},
   "outputs": [],
   "source": [
    "Ytest=np.array(Ytest)\n",
    "Ytrain=np.array(Ytrain)"
   ]
  },
  {
   "cell_type": "code",
   "execution_count": 110,
   "metadata": {},
   "outputs": [
    {
     "data": {
      "text/plain": [
       "array([1, 1, 1, ..., 1, 0, 1])"
      ]
     },
     "execution_count": 110,
     "metadata": {},
     "output_type": "execute_result"
    }
   ],
   "source": [
    "np.array(target_test).reshape((target_test.shape[0],1)).shape\n",
    "target_test=np.array(target_test)\n",
    "target_test"
   ]
  },
  {
   "cell_type": "code",
   "execution_count": 111,
   "metadata": {},
   "outputs": [
    {
     "data": {
      "text/plain": [
       "array([1, 1, 0, ..., 1, 1, 1])"
      ]
     },
     "execution_count": 111,
     "metadata": {},
     "output_type": "execute_result"
    }
   ],
   "source": [
    "np.array(target_train).reshape((target_train.shape[0],1)).shape\n",
    "target_train=np.array(target_train)\n",
    "target_train"
   ]
  },
  {
   "cell_type": "code",
   "execution_count": 113,
   "metadata": {},
   "outputs": [],
   "source": [
    "from sklearn.metrics import precision_score,recall_score, confusion_matrix, classification_report, accuracy_score, f1_score\n",
    "conf_matrix_test = confusion_matrix(target_test,Ytest)\n",
    "conf_matrix_train = confusion_matrix(target_train,Ytrain)"
   ]
  },
  {
   "cell_type": "code",
   "execution_count": 114,
   "metadata": {},
   "outputs": [
    {
     "name": "stdout",
     "output_type": "stream",
     "text": [
      "Train Data Accuracy using  Algorithm: 0.5282857142857142\n"
     ]
    }
   ],
   "source": [
    "print('Train Data Accuracy using  Algorithm:', acc(conf_matrix_train))"
   ]
  },
  {
   "cell_type": "code",
   "execution_count": 115,
   "metadata": {},
   "outputs": [
    {
     "name": "stdout",
     "output_type": "stream",
     "text": [
      "Error: 0.4717142857142857\n"
     ]
    }
   ],
   "source": [
    "print('Error:', error(conf_matrix_train))"
   ]
  },
  {
   "cell_type": "code",
   "execution_count": 116,
   "metadata": {},
   "outputs": [
    {
     "name": "stdout",
     "output_type": "stream",
     "text": [
      "Train Data Accuracy using  Algorithm: 0.5226666666666666\n"
     ]
    }
   ],
   "source": [
    "print('Train Data Accuracy using  Algorithm:', acc(conf_matrix_test))"
   ]
  },
  {
   "cell_type": "code",
   "execution_count": 117,
   "metadata": {},
   "outputs": [
    {
     "name": "stdout",
     "output_type": "stream",
     "text": [
      "Error: 0.47733333333333333\n"
     ]
    }
   ],
   "source": [
    "print('Error:', error(conf_matrix_test))"
   ]
  },
  {
   "cell_type": "code",
   "execution_count": 125,
   "metadata": {},
   "outputs": [
    {
     "name": "stdout",
     "output_type": "stream",
     "text": [
      "F1 score: 0.6505612493899463\n"
     ]
    }
   ],
   "source": [
    "print('F1 score for test:', f1_score(target_test,Ytest))"
   ]
  },
  {
   "cell_type": "code",
   "execution_count": 131,
   "metadata": {},
   "outputs": [
    {
     "name": "stdout",
     "output_type": "stream",
     "text": [
      "F1 score for train: 0.6561849229487714\n"
     ]
    }
   ],
   "source": [
    "print('F1 score for train:', f1_score(target_train,Ytrain))"
   ]
  },
  {
   "cell_type": "code",
   "execution_count": 127,
   "metadata": {},
   "outputs": [
    {
     "name": "stdout",
     "output_type": "stream",
     "text": [
      "Precision: 0.7647733792312106\n"
     ]
    }
   ],
   "source": [
    "print('Precision:', precision(conf_matrix_test))"
   ]
  },
  {
   "cell_type": "code",
   "execution_count": 128,
   "metadata": {},
   "outputs": [
    {
     "name": "stdout",
     "output_type": "stream",
     "text": [
      "Recall: 0.5660297239915074\n"
     ]
    }
   ],
   "source": [
    "print('Recall:', recall(conf_matrix_test))"
   ]
  },
  {
   "cell_type": "code",
   "execution_count": 130,
   "metadata": {},
   "outputs": [
    {
     "name": "stdout",
     "output_type": "stream",
     "text": [
      "Specificty: 0.3643410852713178\n"
     ]
    }
   ],
   "source": [
    "print('Specificty:', specificity(conf_matrix_test))"
   ]
  },
  {
   "cell_type": "markdown",
   "metadata": {},
   "source": [
    "## Plots for Logistic Linear Regression"
   ]
  },
  {
   "cell_type": "code",
   "execution_count": 119,
   "metadata": {},
   "outputs": [
    {
     "data": {
      "text/plain": [
       "[<matplotlib.lines.Line2D at 0x25b2490da58>]"
      ]
     },
     "execution_count": 119,
     "metadata": {},
     "output_type": "execute_result"
    },
    {
     "data": {
      "image/png": "[encoded data removed]",
      "text/plain": [
       "<Figure size 432x288 with 1 Axes>"
      ]
     },
     "metadata": {
      "needs_background": "light"
     },
     "output_type": "display_data"
    }
   ],
   "source": [
    "plt.plot(np.sort(Ytest,0))\n",
    "plt.plot(np.sort(target_test,0))"
   ]
  },
  {
   "cell_type": "code",
   "execution_count": 120,
   "metadata": {},
   "outputs": [
    {
     "data": {
      "image/png": "[encoded data removed]",
      "text/plain": [
       "<Figure size 432x288 with 2 Axes>"
      ]
     },
     "metadata": {
      "needs_background": "light"
     },
     "output_type": "display_data"
    }
   ],
   "source": [
    "import seaborn as sb\n",
    "ax= plt.subplot()\n",
    "sb.heatmap(conf_matrix_test, annot=True, ax = ax,cmap=\"YlGnBu\"); #annot=True to annotate cells\n",
    "ax.set_xlabel('Predicted values');\n",
    "ax.set_ylabel('Actual values');"
   ]
  },
  {
   "cell_type": "code",
   "execution_count": 121,
   "metadata": {},
   "outputs": [
    {
     "data": {
      "image/png": "[encoded data removed]",
      "text/plain": [
       "<Figure size 432x288 with 1 Axes>"
      ]
     },
     "metadata": {
      "needs_background": "light"
     },
     "output_type": "display_data"
    }
   ],
   "source": [
    "# AUC Curve \n",
    "from sklearn.metrics import roc_curve, auc\n",
    "fpr, tpr, thresholds = roc_curve(Ytest,target_test)\n",
    "roc_auc = auc(fpr, tpr)\n",
    "\n",
    "plt.figure()\n",
    "plt.plot(fpr, tpr, color='red', lw=1, label='ROC curve (area = %0.2f)' % roc_auc)\n",
    "plt.plot([0, 1], [0, 1], color='blue', linestyle='--')\n",
    "plt.xlim([0.0, 1.0])\n",
    "plt.ylim([0.0, 1.05])\n",
    "plt.xlabel('False Positive Rate')\n",
    "plt.ylabel('True Positive Rate')\n",
    "plt.title('Receiver operating characteristic for Logistic Regression')\n",
    "plt.legend(loc=\"lower right\")\n",
    "plt.show()"
   ]
  },
  {
   "cell_type": "code",
   "execution_count": 123,
   "metadata": {},
   "outputs": [
    {
     "data": {
      "image/png": "[encoded data removed]",
      "text/plain": [
       "<Figure size 432x288 with 1 Axes>"
      ]
     },
     "metadata": {
      "needs_background": "light"
     },
     "output_type": "display_data"
    }
   ],
   "source": [
    "# Precision-Recall Curve for Logistic Regression\n",
    "from sklearn.metrics import precision_recall_curve\n",
    "precision, recall, thresholds = precision_recall_curve(Ytest,target_test)\n",
    "plt.figure()\n",
    "plt.plot(precision, recall, color='darkorange', lw=1, label='PRC curve (area = %0.2f)')\n",
    "plt.xlabel('precision')\n",
    "plt.ylabel('recall')\n",
    "plt.title('Precision-Recall Curve for Logistic Regression')\n",
    "plt.legend(loc=\"upper right\")\n",
    "plt.show()"
   ]
  },
  {
   "cell_type": "markdown",
   "metadata": {},
   "source": [
    "## Discussions about  parameters of model "
   ]
  },
  {
   "cell_type": "markdown",
   "metadata": {},
   "source": [
    "This algorithm is an average linear regression model for identifying the classes.My data is has an aproximate accuracy of 50% for this model.Other algorithms such as Pocket, LDa etc had better performence for my data set. \n",
    "\n",
    "Train Accuracy : 52.8% <br/> \n",
    "Test Accuracy : 52.2 <br/>\n",
    "F1 Score : 0.65 <br/>\n",
    "Precision : 0.76 <br/>\n",
    "Recall : 0.56 <br/>\n",
    "Error : 0.47 <br/>\n",
    "Specificity : 0.36 <br/>"
   ]
  },
  {
   "cell_type": "markdown",
   "metadata": {},
   "source": [
    "## Parameters and Network Structure choice"
   ]
  },
  {
   "cell_type": "markdown",
   "metadata": {},
   "source": [
    "##### rmse:\n",
    "This parameter defines Residuals are a measure of how far from the regression line data points are; RMSE is a measure of how spread out these residuals are.\n",
    "\n",
    "##### Accuracy: \n",
    "This is a regularization coefficient that reduces overfitting. Lesser the value, more accuracy is achieved. \n",
    "\n",
    "### Network Structure:\n",
    "\n",
    "For nonlinear regression model, I have used 5 hidden layers. From Prelimary test, we have identified that Non-Linear Logistic model is implemented correctly. 5 hidden layers are used for having better accuracy."
   ]
  },
  {
   "cell_type": "markdown",
   "metadata": {},
   "source": [
    "### Discussion about the prediction results. Try to analyze what nonlinear regression model learned.\n",
    "\n",
    "* In this assignment, Neural Netwoks has been used to perform regression analysis which is a non linear regression model. Previously, we have used LinearRegress and LMS (Least Mean Square model ) to train the same data.\n",
    "* By comparing the Linear Regression Models and Neural Network Model, I have observed that Neural Netwoks has performed slightly better than both LinearRegress and LMS models. While training the model using Least squares and Lms , i got r2 score of 0.05 and 0.02 respectively.\n",
    "* In this assignment, whenIi built a model using neural network with the following structure, i got r2 score of 0.07 which shows that the neural network model performs better than the linear regression model on the same data.\n",
    "* Forward -processing and backward-propogation also helps to find the best weights of the neural network associated with the data."
   ]
  },
  {
   "cell_type": "markdown",
   "metadata": {},
   "source": [
    "## Conclusion\n",
    "\n",
    "- In this assignment , I have learned how Neural network works to build a regression model and nonlinear logistic regression work. I also learnt the powerfullness of  neural networks in comparision to  other regression models and the reason behind it.I have also got clear understanding of some of the important concepts like Feed forward networks, back propogation , activation functions, optimization measures and their uses in building the neural networks.\n",
    "- I have also learnt how to implement cross validation from scratch and also got a clear idea on the principle involved to implement it. I have used 5 fold cross validation to determine the  best Neural network model for my data.\n",
    "\n",
    "__Challenge__ I faced problems while implementing cross validation for the Neural network. Simce i was unclear on how k - folds work and was also confused on the value we need to take for k.Another challenge I have faced was with respect to the accuracy of the regression model as my data did not fit the previous regression models as well.Hence the r2 value has improved but the imporvement is not verey huge."
   ]
  },
  {
   "cell_type": "markdown",
   "metadata": {},
   "source": [
    "## References\n",
    " - Dataset Information, https://www.kaggle.com/mehdidag/black-friday\n",
    " - Dataset Information, https://www.kaggle.com/snap/amazon-fine-food-reviews/home\n",
    " - Few ideas for visualization from https://www.kaggle.com/mehdidag/black-friday/kernels  \n",
    " - few ideas for visualization from https://www.kaggle.com/gsdeepakkumar/text-analysis-on-fine-foods-review\n",
    " - Basics of python https://www.tutorialspoint.com/python/\n",
    " - Visualizing Https://Matplotlib.org/\n",
    " - Seaborn.pydata.org/tutorial/distributions.html.\n",
    " - https://stackoverflow.com/questions/41494358/spyder-python-object-arrays-are-currently-not-supported\n",
    " - http://scipy-lectures.org/packages/scikit-learn/index.html\n",
    " - “LaTeX/Mathematics.” , en.wikibooks.org/wiki/LaTeX/Mathematics.\n",
    " - AUC Curve: https://qiita.com/bmj0114/items/460424c110a8ce22d945\n",
    " - Cross validation : https://www.youtube.com/watch?v=e0JcXMzhtdY\n",
    " - Gradient descent : https://towardsdatascience.com/types-of-optimization-algorithms-used-in-neural-networks-and-ways-to-optimize-gradient-95ae5d39529f"
   ]
  }
 ],
 "metadata": {
  "kernelspec": {
   "display_name": "Python 3",
   "language": "python",
   "name": "python3"
  },
  "language_info": {
   "codemirror_mode": {
    "name": "ipython",
    "version": 3
   },
   "file_extension": ".py",
   "mimetype": "text/x-python",
   "name": "python",
   "nbconvert_exporter": "python",
   "pygments_lexer": "ipython3",
   "version": "3.7.0"
  }
 },
 "nbformat": 4,
 "nbformat_minor": 2
}
