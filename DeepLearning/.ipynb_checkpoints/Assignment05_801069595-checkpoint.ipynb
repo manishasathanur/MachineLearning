{
 "cells": [
  {
   "cell_type": "markdown",
   "metadata": {},
   "source": [
    "## Assignment 5 - Deep Learning"
   ]
  },
  {
   "cell_type": "markdown",
   "metadata": {},
   "source": [
    "Manisha Sathanur\n",
    "801069595"
   ]
  },
  {
   "cell_type": "markdown",
   "metadata": {},
   "source": [
    "## I. Overview <br>\n",
    "\n",
    "The objective of this assignment is to implement a deep network with more than 5 layers using TensorFlow. I have loaded the classification data, partitioned it based on requiremnets, visualized it, trained it and plotted the results. I have used various network structures with various number of nodes in each hidden layers. The layers are analyzed based on various networks. "
   ]
  },
  {
   "cell_type": "markdown",
   "metadata": {},
   "source": [
    "__The dataset taken is from kaggle .It consists of reviews of food from amazon. \n",
    " Reviews include product and user information, ratings, and text review.\n",
    " Profile names and summary contain null values.\n",
    " The output for this data is classification. as we need to classify the data as to which score the custormer would give raging from 1 to 5 with 5 being the most like and 1 being the least liked.__\n",
    "### Data includes:\n",
    "- Reviews from Oct 1999 - Oct 2012\n",
    "- 568,454 reviews\n",
    "- 256,059 users\n",
    "- 74,258 products\n",
    "- 260 users with > 50 reviews\n",
    "- \n",
    "### The data set contains the following fields\n",
    " __Id, ProductId, UserId, ProfileName, HelpfulnessNumerator, HelpfulnessDenominator, Score, Time, Summary, Text \n",
    " IdRow Id__\n",
    "- ProductId: Unique identifier for the product\n",
    "- UserId: Unqiue identifier for the user\n",
    "- ProfileName: Profile name of the user\n",
    "- HelpfulnessNumerator: Number of users who found the review helpful\n",
    "- HelpfulnessDenominator: Number of users who indicated whether they found the review helpful or not\n",
    "- ScoreRating: between 1 and 5\n",
    "- TimeTimestamp: for the review\n",
    "- Summary: Brief summary of the review\n",
    "- Text:Text of the review"
   ]
  },
  {
   "cell_type": "code",
   "execution_count": 1,
   "metadata": {},
   "outputs": [],
   "source": [
    "import pandas as pd\n",
    "import numpy as np\n",
    "import matplotlib.pyplot as plt\n",
    "import seaborn as sns"
   ]
  },
  {
   "cell_type": "code",
   "execution_count": 2,
   "metadata": {},
   "outputs": [
    {
     "data": {
      "text/html": [
       "<div>\n",
       "<style scoped>\n",
       "    .dataframe tbody tr th:only-of-type {\n",
       "        vertical-align: middle;\n",
       "    }\n",
       "\n",
       "    .dataframe tbody tr th {\n",
       "        vertical-align: top;\n",
       "    }\n",
       "\n",
       "    .dataframe thead th {\n",
       "        text-align: right;\n",
       "    }\n",
       "</style>\n",
       "<table border=\"1\" class=\"dataframe\">\n",
       "  <thead>\n",
       "    <tr style=\"text-align: right;\">\n",
       "      <th></th>\n",
       "      <th>Id</th>\n",
       "      <th>ProductId</th>\n",
       "      <th>UserId</th>\n",
       "      <th>ProfileName</th>\n",
       "      <th>HelpfulnessNumerator</th>\n",
       "      <th>HelpfulnessDenominator</th>\n",
       "      <th>Score</th>\n",
       "      <th>Time</th>\n",
       "      <th>Summary</th>\n",
       "      <th>Text</th>\n",
       "    </tr>\n",
       "  </thead>\n",
       "  <tbody>\n",
       "    <tr>\n",
       "      <th>0</th>\n",
       "      <td>1</td>\n",
       "      <td>B001E4KFG0</td>\n",
       "      <td>A3SGXH7AUHU8GW</td>\n",
       "      <td>delmartian</td>\n",
       "      <td>1</td>\n",
       "      <td>1</td>\n",
       "      <td>5</td>\n",
       "      <td>1303862400</td>\n",
       "      <td>Good Quality Dog Food</td>\n",
       "      <td>I have bought several of the Vitality canned d...</td>\n",
       "    </tr>\n",
       "    <tr>\n",
       "      <th>1</th>\n",
       "      <td>2</td>\n",
       "      <td>B00813GRG4</td>\n",
       "      <td>A1D87F6ZCVE5NK</td>\n",
       "      <td>dll pa</td>\n",
       "      <td>0</td>\n",
       "      <td>0</td>\n",
       "      <td>1</td>\n",
       "      <td>1346976000</td>\n",
       "      <td>Not as Advertised</td>\n",
       "      <td>Product arrived labeled as Jumbo Salted Peanut...</td>\n",
       "    </tr>\n",
       "    <tr>\n",
       "      <th>2</th>\n",
       "      <td>3</td>\n",
       "      <td>B000LQOCH0</td>\n",
       "      <td>ABXLMWJIXXAIN</td>\n",
       "      <td>Natalia Corres \"Natalia Corres\"</td>\n",
       "      <td>1</td>\n",
       "      <td>1</td>\n",
       "      <td>4</td>\n",
       "      <td>1219017600</td>\n",
       "      <td>\"Delight\" says it all</td>\n",
       "      <td>This is a confection that has been around a fe...</td>\n",
       "    </tr>\n",
       "    <tr>\n",
       "      <th>3</th>\n",
       "      <td>4</td>\n",
       "      <td>B000UA0QIQ</td>\n",
       "      <td>A395BORC6FGVXV</td>\n",
       "      <td>Karl</td>\n",
       "      <td>3</td>\n",
       "      <td>3</td>\n",
       "      <td>2</td>\n",
       "      <td>1307923200</td>\n",
       "      <td>Cough Medicine</td>\n",
       "      <td>If you are looking for the secret ingredient i...</td>\n",
       "    </tr>\n",
       "    <tr>\n",
       "      <th>4</th>\n",
       "      <td>5</td>\n",
       "      <td>B006K2ZZ7K</td>\n",
       "      <td>A1UQRSCLF8GW1T</td>\n",
       "      <td>Michael D. Bigham \"M. Wassir\"</td>\n",
       "      <td>0</td>\n",
       "      <td>0</td>\n",
       "      <td>5</td>\n",
       "      <td>1350777600</td>\n",
       "      <td>Great taffy</td>\n",
       "      <td>Great taffy at a great price.  There was a wid...</td>\n",
       "    </tr>\n",
       "  </tbody>\n",
       "</table>\n",
       "</div>"
      ],
      "text/plain": [
       "   Id   ProductId          UserId                      ProfileName  \\\n",
       "0   1  B001E4KFG0  A3SGXH7AUHU8GW                       delmartian   \n",
       "1   2  B00813GRG4  A1D87F6ZCVE5NK                           dll pa   \n",
       "2   3  B000LQOCH0   ABXLMWJIXXAIN  Natalia Corres \"Natalia Corres\"   \n",
       "3   4  B000UA0QIQ  A395BORC6FGVXV                             Karl   \n",
       "4   5  B006K2ZZ7K  A1UQRSCLF8GW1T    Michael D. Bigham \"M. Wassir\"   \n",
       "\n",
       "   HelpfulnessNumerator  HelpfulnessDenominator  Score        Time  \\\n",
       "0                     1                       1      5  1303862400   \n",
       "1                     0                       0      1  1346976000   \n",
       "2                     1                       1      4  1219017600   \n",
       "3                     3                       3      2  1307923200   \n",
       "4                     0                       0      5  1350777600   \n",
       "\n",
       "                 Summary                                               Text  \n",
       "0  Good Quality Dog Food  I have bought several of the Vitality canned d...  \n",
       "1      Not as Advertised  Product arrived labeled as Jumbo Salted Peanut...  \n",
       "2  \"Delight\" says it all  This is a confection that has been around a fe...  \n",
       "3         Cough Medicine  If you are looking for the secret ingredient i...  \n",
       "4            Great taffy  Great taffy at a great price.  There was a wid...  "
      ]
     },
     "execution_count": 2,
     "metadata": {},
     "output_type": "execute_result"
    }
   ],
   "source": [
    "# read data from csv file \n",
    "review=pd.read_csv(\"Reviews.csv\")\n",
    "review.head()"
   ]
  },
  {
   "cell_type": "markdown",
   "metadata": {},
   "source": [
    "## DATA PRE_PROCESSING\n",
    "- __Remove special characters from profile name__\n",
    "- __Remove rows having null for profileName attibute__\n",
    "- __Remove unnecessary punctuations from text__\n",
    "- __Remove unnecessary punctuations from Summary__ "
   ]
  },
  {
   "cell_type": "code",
   "execution_count": 3,
   "metadata": {},
   "outputs": [],
   "source": [
    "#few columns have '\"' in they profilename . replace that with blank space \n",
    "review[\"ProfileName\"] = review['ProfileName'].str.replace('\"','')"
   ]
  },
  {
   "cell_type": "code",
   "execution_count": 4,
   "metadata": {},
   "outputs": [
    {
     "name": "stdout",
     "output_type": "stream",
     "text": [
      "       ProfileName      Id  Score\n",
      "25509          NaN   25510      5\n",
      "38874          NaN   38875      1\n",
      "49800          NaN   49801      2\n",
      "67077          NaN   67078      5\n",
      "106550         NaN  106551      5\n",
      "137613         NaN  137614      5\n",
      "163191         NaN  163192      5\n",
      "172462         NaN  172463      5\n",
      "297275         NaN  297276      1\n",
      "306751         NaN  306752      5\n",
      "431598         NaN  431599      1\n",
      "440825         NaN  440826      5\n",
      "490412         NaN  490413      5\n",
      "491728         NaN  491729      1\n",
      "515436         NaN  515437      5\n",
      "560446         NaN  560447      5\n"
     ]
    }
   ],
   "source": [
    "#print cloumns which have missing profile names\n",
    "null_data = review[review['ProfileName'].isnull()]\n",
    "print(null_data[['ProfileName','Id','Score']])"
   ]
  },
  {
   "cell_type": "code",
   "execution_count": 5,
   "metadata": {},
   "outputs": [],
   "source": [
    "#Remove columns with Nan in profile name\n",
    "review=review.dropna(subset=['ProfileName'])"
   ]
  },
  {
   "cell_type": "code",
   "execution_count": 6,
   "metadata": {},
   "outputs": [
    {
     "data": {
      "text/plain": [
       "Id                         0\n",
       "ProductId                  0\n",
       "UserId                     0\n",
       "ProfileName                0\n",
       "HelpfulnessNumerator       0\n",
       "HelpfulnessDenominator     0\n",
       "Score                      0\n",
       "Time                       0\n",
       "Summary                   27\n",
       "Text                       0\n",
       "dtype: int64"
      ]
     },
     "execution_count": 6,
     "metadata": {},
     "output_type": "execute_result"
    }
   ],
   "source": [
    "review.isna().sum()"
   ]
  },
  {
   "cell_type": "markdown",
   "metadata": {},
   "source": [
    "## Observations:\n",
    "__the number of NA values in profile name are now 0 as we have deleted the rows which did not have profile name.__"
   ]
  },
  {
   "cell_type": "code",
   "execution_count": 7,
   "metadata": {},
   "outputs": [],
   "source": [
    "review[\"Text_new\"] = review['Text'].str.replace('[^\\w\\s]','')\n"
   ]
  },
  {
   "cell_type": "code",
   "execution_count": 8,
   "metadata": {},
   "outputs": [],
   "source": [
    "review[\"Summary\"] = review['Summary'].str.replace('[^\\w\\s]','')"
   ]
  },
  {
   "cell_type": "code",
   "execution_count": 9,
   "metadata": {},
   "outputs": [
    {
     "name": "stdout",
     "output_type": "stream",
     "text": [
      "                 Summary\n",
      "0  Good Quality Dog Food\n",
      "1      Not as Advertised\n",
      "2    Delight says it all\n",
      "3         Cough Medicine\n",
      "4            Great taffy\n"
     ]
    }
   ],
   "source": [
    "#remove puntuations from summary\n",
    "print(review[['Summary']].head(5))"
   ]
  },
  {
   "cell_type": "code",
   "execution_count": 10,
   "metadata": {},
   "outputs": [
    {
     "data": {
      "text/plain": [
       "Id                         0\n",
       "ProductId                  0\n",
       "UserId                     0\n",
       "ProfileName                0\n",
       "HelpfulnessNumerator       0\n",
       "HelpfulnessDenominator     0\n",
       "Score                      0\n",
       "Time                       0\n",
       "Summary                   27\n",
       "Text                       0\n",
       "Text_new                   0\n",
       "dtype: int64"
      ]
     },
     "execution_count": 10,
     "metadata": {},
     "output_type": "execute_result"
    }
   ],
   "source": [
    "review.isna().sum()"
   ]
  },
  {
   "cell_type": "markdown",
   "metadata": {},
   "source": [
    "__The number of rows that have NA is summary is 27. As having null in Summary might not effect the analysis much  so we can continue__"
   ]
  },
  {
   "cell_type": "markdown",
   "metadata": {},
   "source": [
    "## Visualisation"
   ]
  },
  {
   "cell_type": "code",
   "execution_count": 11,
   "metadata": {},
   "outputs": [
    {
     "data": {
      "text/plain": [
       "Text(0.5,1,'Distribution of Review Score')"
      ]
     },
     "execution_count": 11,
     "metadata": {},
     "output_type": "execute_result"
    },
    {
     "data": {
      "image/png": "[encoded data removed]",
      "text/plain": [
       "<Figure size 576x576 with 1 Axes>"
      ]
     },
     "metadata": {
      "needs_background": "light"
     },
     "output_type": "display_data"
    }
   ],
   "source": [
    "plt.figure(figsize=(8,8))\n",
    "ax=sns.countplot(review['Score'],color='skyblue')\n",
    "ax.set_xlabel(\"Score\")\n",
    "ax.set_ylabel('Count')\n",
    "ax.set_title(\"Distribution of Review Score\")"
   ]
  },
  {
   "cell_type": "markdown",
   "metadata": {},
   "source": [
    "## Observations :\n",
    "__maximum number of users have given a rating of 5. This pattern could be because of human tendecy to just rate 5 by default.\n",
    "To know the score along with the usefulness we need to perform more visualisations using Helpfullness along with the score.__"
   ]
  },
  {
   "cell_type": "code",
   "execution_count": 12,
   "metadata": {},
   "outputs": [],
   "source": [
    "# Create a list containing the average usefulness for given ratings\n",
    "use_ls = []\n",
    "\n",
    "for i in range(1, 6):\n",
    "    use_ls.append([i, np.sum(review[review.Score == i].HelpfulnessDenominator) / np.sum([review.Score == i])])\n",
    "    \n",
    "use_arr = np.asarray(use_ls)"
   ]
  },
  {
   "cell_type": "code",
   "execution_count": 13,
   "metadata": {},
   "outputs": [
    {
     "data": {
      "image/png": "[encoded data removed]",
      "text/plain": [
       "<Figure size 432x288 with 1 Axes>"
      ]
     },
     "metadata": {
      "needs_background": "light"
     },
     "output_type": "display_data"
    }
   ],
   "source": [
    "plt.scatter(use_arr[:, 0], use_arr[:, 1], c=use_arr[:, 0], cmap='tab10', s=200)\n",
    "plt.title('Average Useful Count vs Rating')\n",
    "plt.xlabel('Rating')\n",
    "plt.ylabel('Average Useful Count')\n",
    "plt.xticks([i for i in range(1, 6)]);"
   ]
  },
  {
   "cell_type": "markdown",
   "metadata": {},
   "source": [
    "## Observation:\n",
    "__it can be noted that there are many users who found review score 1 more helpful.\n",
    "could be that such reviews might have helped them to avoid a particular food.__"
   ]
  },
  {
   "cell_type": "markdown",
   "metadata": {},
   "source": [
    "### top 5 persons whose reviews people have found most reviews."
   ]
  },
  {
   "cell_type": "code",
   "execution_count": 14,
   "metadata": {},
   "outputs": [],
   "source": [
    "useful=review.groupby('ProfileName')['HelpfulnessDenominator'].mean().reset_index().sort_values('HelpfulnessDenominator',ascending=False)"
   ]
  },
  {
   "cell_type": "code",
   "execution_count": 15,
   "metadata": {},
   "outputs": [
    {
     "data": {
      "text/plain": [
       "[Text(0,0,'BabbChuck BabbChuck'),\n",
       " Text(0,0,'P. Schmidt'),\n",
       " Text(0,0,'Benjamin Chodroff'),\n",
       " Text(0,0,'R. Hiltz'),\n",
       " Text(0,0,'ic ic')]"
      ]
     },
     "execution_count": 15,
     "metadata": {},
     "output_type": "execute_result"
    },
    {
     "data": {
      "image/png": "[encoded data removed]",
      "text/plain": [
       "<Figure size 576x576 with 1 Axes>"
      ]
     },
     "metadata": {
      "needs_background": "light"
     },
     "output_type": "display_data"
    }
   ],
   "source": [
    "plt.figure(figsize=(8,8))\n",
    "ax=sns.barplot(x='ProfileName',y='HelpfulnessDenominator',data=useful[:5],palette=sns.color_palette(palette=\"viridis_r\"))\n",
    "ax.set_title(\"Average Usefulness Rating by Profile-Top 5 Users\")\n",
    "ax.set_xlabel(\"Profile Name\")\n",
    "ax.set_ylabel(\"Average People\")\n",
    "ax.set_xticklabels(ax.get_xticklabels(),rotation=90)\n"
   ]
  },
  {
   "cell_type": "markdown",
   "metadata": {},
   "source": [
    "## Observations\n",
    "__user profile named BabbChunk has given the highest number of usefull ratings followed by P. Schmidt, Benjamin Chodroff, R.Hiitz and ic.__"
   ]
  },
  {
   "cell_type": "markdown",
   "metadata": {},
   "source": [
    "### people who have given the most positive reviews"
   ]
  },
  {
   "cell_type": "code",
   "execution_count": 16,
   "metadata": {},
   "outputs": [
    {
     "data": {
      "text/html": [
       "<div>\n",
       "<style scoped>\n",
       "    .dataframe tbody tr th:only-of-type {\n",
       "        vertical-align: middle;\n",
       "    }\n",
       "\n",
       "    .dataframe tbody tr th {\n",
       "        vertical-align: top;\n",
       "    }\n",
       "\n",
       "    .dataframe thead th {\n",
       "        text-align: right;\n",
       "    }\n",
       "</style>\n",
       "<table border=\"1\" class=\"dataframe\">\n",
       "  <thead>\n",
       "    <tr style=\"text-align: right;\">\n",
       "      <th></th>\n",
       "      <th>ProfileName</th>\n",
       "      <th>Score</th>\n",
       "    </tr>\n",
       "  </thead>\n",
       "  <tbody>\n",
       "    <tr>\n",
       "      <th>109191</th>\n",
       "      <td>M. Field</td>\n",
       "      <td>5.0</td>\n",
       "    </tr>\n",
       "    <tr>\n",
       "      <th>125959</th>\n",
       "      <td>MyMarineRox</td>\n",
       "      <td>5.0</td>\n",
       "    </tr>\n",
       "    <tr>\n",
       "      <th>125946</th>\n",
       "      <td>MyB</td>\n",
       "      <td>5.0</td>\n",
       "    </tr>\n",
       "    <tr>\n",
       "      <th>125947</th>\n",
       "      <td>MyBB</td>\n",
       "      <td>5.0</td>\n",
       "    </tr>\n",
       "    <tr>\n",
       "      <th>125950</th>\n",
       "      <td>MyDogRunsMyLife</td>\n",
       "      <td>5.0</td>\n",
       "    </tr>\n",
       "  </tbody>\n",
       "</table>\n",
       "</div>"
      ],
      "text/plain": [
       "            ProfileName  Score\n",
       "109191         M. Field    5.0\n",
       "125959      MyMarineRox    5.0\n",
       "125946              MyB    5.0\n",
       "125947             MyBB    5.0\n",
       "125950  MyDogRunsMyLife    5.0"
      ]
     },
     "execution_count": 16,
     "metadata": {},
     "output_type": "execute_result"
    }
   ],
   "source": [
    "scores=review.groupby('ProfileName')['Score'].mean().reset_index().sort_values(by='Score',ascending=False)\n",
    "scores.head()"
   ]
  },
  {
   "cell_type": "code",
   "execution_count": 17,
   "metadata": {},
   "outputs": [
    {
     "data": {
      "text/plain": [
       "[Text(0,0,'M. Field'),\n",
       " Text(0,0,'MyMarineRox'),\n",
       " Text(0,0,'MyB'),\n",
       " Text(0,0,'MyBB'),\n",
       " Text(0,0,'MyDogRunsMyLife'),\n",
       " Text(0,0,'MyDogsBestFriend DonnaJean  McWhite'),\n",
       " Text(0,0,'MyGrnEyesF'),\n",
       " Text(0,0,'MyHumbleOpinion'),\n",
       " Text(0,0,'MyLoveIsBlind'),\n",
       " Text(0,0,'MyMelange')]"
      ]
     },
     "execution_count": 17,
     "metadata": {},
     "output_type": "execute_result"
    },
    {
     "data": {
      "image/png": "[encoded data removed]",
      "text/plain": [
       "<Figure size 576x576 with 1 Axes>"
      ]
     },
     "metadata": {
      "needs_background": "light"
     },
     "output_type": "display_data"
    }
   ],
   "source": [
    "plt.figure(figsize=(8,8))\n",
    "ax=sns.barplot(x='ProfileName',y='Score',data=scores[:10],palette=sns.color_palette(palette=\"viridis_r\"))\n",
    "ax.set_title(\"Users with most positive scores-Top 10 Users\")\n",
    "ax.set_xlabel(\"Profile Name\")\n",
    "ax.set_ylabel(\"Average Score\")\n",
    "ax.set_xticklabels(ax.get_xticklabels(),rotation=90) # rotates the names by 90"
   ]
  },
  {
   "cell_type": "markdown",
   "metadata": {},
   "source": [
    "## Observation: \n",
    "__The plot tells us that on an average most of the users have written positive reviews__"
   ]
  },
  {
   "cell_type": "markdown",
   "metadata": {},
   "source": [
    "## __Preparing data with required feilds for classification__"
   ]
  },
  {
   "cell_type": "code",
   "execution_count": 18,
   "metadata": {},
   "outputs": [
    {
     "data": {
      "text/plain": [
       "Id                         int64\n",
       "ProductId                 object\n",
       "UserId                    object\n",
       "ProfileName               object\n",
       "HelpfulnessNumerator       int64\n",
       "HelpfulnessDenominator     int64\n",
       "Score                      int64\n",
       "Time                       int64\n",
       "Summary                   object\n",
       "Text                      object\n",
       "Text_new                  object\n",
       "Helpful                    int32\n",
       "dtype: object"
      ]
     },
     "execution_count": 18,
     "metadata": {},
     "output_type": "execute_result"
    }
   ],
   "source": [
    "df=review\n",
    "df.loc[:, 'Helpful'] = np.where(df.loc[:, 'HelpfulnessNumerator'] / df.loc[:, 'HelpfulnessDenominator'] > 0.50, 1, 0)\n",
    "df.head(10)\n",
    "df.dtypes"
   ]
  },
  {
   "cell_type": "code",
   "execution_count": 19,
   "metadata": {},
   "outputs": [
    {
     "data": {
      "text/html": [
       "<div>\n",
       "<style scoped>\n",
       "    .dataframe tbody tr th:only-of-type {\n",
       "        vertical-align: middle;\n",
       "    }\n",
       "\n",
       "    .dataframe tbody tr th {\n",
       "        vertical-align: top;\n",
       "    }\n",
       "\n",
       "    .dataframe thead th {\n",
       "        text-align: right;\n",
       "    }\n",
       "</style>\n",
       "<table border=\"1\" class=\"dataframe\">\n",
       "  <thead>\n",
       "    <tr style=\"text-align: right;\">\n",
       "      <th></th>\n",
       "      <th>Id</th>\n",
       "      <th>ProductId</th>\n",
       "      <th>UserId</th>\n",
       "      <th>ProfileName</th>\n",
       "      <th>HelpfulnessNumerator</th>\n",
       "      <th>HelpfulnessDenominator</th>\n",
       "      <th>Score</th>\n",
       "      <th>Time</th>\n",
       "      <th>Summary</th>\n",
       "      <th>Text</th>\n",
       "      <th>Text_new</th>\n",
       "      <th>Helpful</th>\n",
       "      <th>review_length</th>\n",
       "      <th>Positivity</th>\n",
       "    </tr>\n",
       "  </thead>\n",
       "  <tbody>\n",
       "    <tr>\n",
       "      <th>0</th>\n",
       "      <td>1</td>\n",
       "      <td>B001E4KFG0</td>\n",
       "      <td>A3SGXH7AUHU8GW</td>\n",
       "      <td>delmartian</td>\n",
       "      <td>1</td>\n",
       "      <td>1</td>\n",
       "      <td>5</td>\n",
       "      <td>1303862400</td>\n",
       "      <td>Good Quality Dog Food</td>\n",
       "      <td>I have bought several of the Vitality canned d...</td>\n",
       "      <td>I have bought several of the Vitality canned d...</td>\n",
       "      <td>1</td>\n",
       "      <td>260</td>\n",
       "      <td>1</td>\n",
       "    </tr>\n",
       "    <tr>\n",
       "      <th>1</th>\n",
       "      <td>2</td>\n",
       "      <td>B00813GRG4</td>\n",
       "      <td>A1D87F6ZCVE5NK</td>\n",
       "      <td>dll pa</td>\n",
       "      <td>0</td>\n",
       "      <td>0</td>\n",
       "      <td>1</td>\n",
       "      <td>1346976000</td>\n",
       "      <td>Not as Advertised</td>\n",
       "      <td>Product arrived labeled as Jumbo Salted Peanut...</td>\n",
       "      <td>Product arrived labeled as Jumbo Salted Peanut...</td>\n",
       "      <td>0</td>\n",
       "      <td>183</td>\n",
       "      <td>-1</td>\n",
       "    </tr>\n",
       "    <tr>\n",
       "      <th>2</th>\n",
       "      <td>3</td>\n",
       "      <td>B000LQOCH0</td>\n",
       "      <td>ABXLMWJIXXAIN</td>\n",
       "      <td>Natalia Corres Natalia Corres</td>\n",
       "      <td>1</td>\n",
       "      <td>1</td>\n",
       "      <td>4</td>\n",
       "      <td>1219017600</td>\n",
       "      <td>Delight says it all</td>\n",
       "      <td>This is a confection that has been around a fe...</td>\n",
       "      <td>This is a confection that has been around a fe...</td>\n",
       "      <td>1</td>\n",
       "      <td>491</td>\n",
       "      <td>1</td>\n",
       "    </tr>\n",
       "    <tr>\n",
       "      <th>3</th>\n",
       "      <td>4</td>\n",
       "      <td>B000UA0QIQ</td>\n",
       "      <td>A395BORC6FGVXV</td>\n",
       "      <td>Karl</td>\n",
       "      <td>3</td>\n",
       "      <td>3</td>\n",
       "      <td>2</td>\n",
       "      <td>1307923200</td>\n",
       "      <td>Cough Medicine</td>\n",
       "      <td>If you are looking for the secret ingredient i...</td>\n",
       "      <td>If you are looking for the secret ingredient i...</td>\n",
       "      <td>1</td>\n",
       "      <td>214</td>\n",
       "      <td>-1</td>\n",
       "    </tr>\n",
       "    <tr>\n",
       "      <th>4</th>\n",
       "      <td>5</td>\n",
       "      <td>B006K2ZZ7K</td>\n",
       "      <td>A1UQRSCLF8GW1T</td>\n",
       "      <td>Michael D. Bigham M. Wassir</td>\n",
       "      <td>0</td>\n",
       "      <td>0</td>\n",
       "      <td>5</td>\n",
       "      <td>1350777600</td>\n",
       "      <td>Great taffy</td>\n",
       "      <td>Great taffy at a great price.  There was a wid...</td>\n",
       "      <td>Great taffy at a great price  There was a wide...</td>\n",
       "      <td>0</td>\n",
       "      <td>135</td>\n",
       "      <td>1</td>\n",
       "    </tr>\n",
       "  </tbody>\n",
       "</table>\n",
       "</div>"
      ],
      "text/plain": [
       "   Id   ProductId          UserId                    ProfileName  \\\n",
       "0   1  B001E4KFG0  A3SGXH7AUHU8GW                     delmartian   \n",
       "1   2  B00813GRG4  A1D87F6ZCVE5NK                         dll pa   \n",
       "2   3  B000LQOCH0   ABXLMWJIXXAIN  Natalia Corres Natalia Corres   \n",
       "3   4  B000UA0QIQ  A395BORC6FGVXV                           Karl   \n",
       "4   5  B006K2ZZ7K  A1UQRSCLF8GW1T    Michael D. Bigham M. Wassir   \n",
       "\n",
       "   HelpfulnessNumerator  HelpfulnessDenominator  Score        Time  \\\n",
       "0                     1                       1      5  1303862400   \n",
       "1                     0                       0      1  1346976000   \n",
       "2                     1                       1      4  1219017600   \n",
       "3                     3                       3      2  1307923200   \n",
       "4                     0                       0      5  1350777600   \n",
       "\n",
       "                 Summary                                               Text  \\\n",
       "0  Good Quality Dog Food  I have bought several of the Vitality canned d...   \n",
       "1      Not as Advertised  Product arrived labeled as Jumbo Salted Peanut...   \n",
       "2    Delight says it all  This is a confection that has been around a fe...   \n",
       "3         Cough Medicine  If you are looking for the secret ingredient i...   \n",
       "4            Great taffy  Great taffy at a great price.  There was a wid...   \n",
       "\n",
       "                                            Text_new  Helpful  review_length  \\\n",
       "0  I have bought several of the Vitality canned d...        1            260   \n",
       "1  Product arrived labeled as Jumbo Salted Peanut...        0            183   \n",
       "2  This is a confection that has been around a fe...        1            491   \n",
       "3  If you are looking for the secret ingredient i...        1            214   \n",
       "4  Great taffy at a great price  There was a wide...        0            135   \n",
       "\n",
       "   Positivity  \n",
       "0           1  \n",
       "1          -1  \n",
       "2           1  \n",
       "3          -1  \n",
       "4           1  "
      ]
     },
     "execution_count": 19,
     "metadata": {},
     "output_type": "execute_result"
    }
   ],
   "source": [
    "df['review_length']=df['Text_new'].str.len()\n",
    "df.dropna(inplace=True)\n",
    "df[df['Score'] != 3]\n",
    "df['Positivity'] = np.where(df['Score'] > 3, 1, -1)\n",
    "df.head()"
   ]
  },
  {
   "cell_type": "markdown",
   "metadata": {},
   "source": [
    "__As the data is very huge . We can take a sample of 10000 from the original data set.__"
   ]
  },
  {
   "cell_type": "code",
   "execution_count": 20,
   "metadata": {},
   "outputs": [],
   "source": [
    "dataset=df.sample(12000)"
   ]
  },
  {
   "cell_type": "code",
   "execution_count": 40,
   "metadata": {},
   "outputs": [
    {
     "data": {
      "text/plain": [
       "(12000,)"
      ]
     },
     "execution_count": 40,
     "metadata": {},
     "output_type": "execute_result"
    }
   ],
   "source": [
    "target=dataset.iloc[:,-1]\n",
    "features=dataset.drop(['Positivity','Text_new','Text','Score','Id','ProductId','Summary','UserId','ProfileName','HelpfulnessNumerator','HelpfulnessDenominator'],axis=1)\n",
    "#features=X_train_vectorized.toarray()\n",
    "#features.shape\n",
    "target.shape"
   ]
  },
  {
   "cell_type": "code",
   "execution_count": 66,
   "metadata": {},
   "outputs": [
    {
     "data": {
      "text/plain": [
       "(12000, 1)"
      ]
     },
     "execution_count": 66,
     "metadata": {},
     "output_type": "execute_result"
    }
   ],
   "source": [
    "target=np.array(target)\n",
    "target=target.reshape(12000,1)\n",
    "target.shape"
   ]
  },
  {
   "cell_type": "code",
   "execution_count": 74,
   "metadata": {},
   "outputs": [
    {
     "data": {
      "text/plain": [
       "pandas.core.frame.DataFrame"
      ]
     },
     "execution_count": 74,
     "metadata": {},
     "output_type": "execute_result"
    }
   ],
   "source": [
    "target = pd.DataFrame(target) \n",
    "type(target)"
   ]
  },
  {
   "cell_type": "code",
   "execution_count": 75,
   "metadata": {},
   "outputs": [],
   "source": [
    "from sklearn.metrics import precision_score,recall_score, confusion_matrix, classification_report, accuracy_score, f1_score\n",
    "from sklearn.model_selection import train_test_split"
   ]
  },
  {
   "cell_type": "code",
   "execution_count": 76,
   "metadata": {},
   "outputs": [],
   "source": [
    "# Testing and Training sets\n",
    "features_train, features_test, target_train, target_test = train_test_split(features, target, test_size=0.3, random_state=40)"
   ]
  },
  {
   "cell_type": "code",
   "execution_count": 77,
   "metadata": {},
   "outputs": [
    {
     "data": {
      "text/plain": [
       "(8400, 1)"
      ]
     },
     "execution_count": 77,
     "metadata": {},
     "output_type": "execute_result"
    }
   ],
   "source": [
    "target_train.shape"
   ]
  },
  {
   "cell_type": "code",
   "execution_count": 78,
   "metadata": {},
   "outputs": [
    {
     "data": {
      "text/plain": [
       "(3600, 1)"
      ]
     },
     "execution_count": 78,
     "metadata": {},
     "output_type": "execute_result"
    }
   ],
   "source": [
    "target_test.shape"
   ]
  },
  {
   "cell_type": "code",
   "execution_count": 87,
   "metadata": {},
   "outputs": [
    {
     "data": {
      "text/plain": [
       "pandas.core.frame.DataFrame"
      ]
     },
     "execution_count": 87,
     "metadata": {},
     "output_type": "execute_result"
    }
   ],
   "source": [
    "type(features_train)"
   ]
  },
  {
   "cell_type": "code",
   "execution_count": 146,
   "metadata": {},
   "outputs": [
    {
     "data": {
      "text/plain": [
       "(8400, 2)"
      ]
     },
     "execution_count": 146,
     "metadata": {},
     "output_type": "execute_result"
    }
   ],
   "source": [
    "nTrain = (target_train+1)%2\n",
    "newTrain = (nTrain.T.append(target_train.T)).T\n",
    "newTrain.shape"
   ]
  },
  {
   "cell_type": "code",
   "execution_count": 147,
   "metadata": {},
   "outputs": [
    {
     "data": {
      "text/plain": [
       "(3600, 2)"
      ]
     },
     "execution_count": 147,
     "metadata": {},
     "output_type": "execute_result"
    }
   ],
   "source": [
    "nTest = (target_test+1)%2\n",
    "newTest = (nTest.T.append(target_test.T)).T\n",
    "newTest.shape"
   ]
  },
  {
   "cell_type": "markdown",
   "metadata": {},
   "source": [
    "## Explanation of the choice for 3 different neural network structures and reason for the selection\n",
    "\n",
    "The input layer consists of various 3 units i.e., number of features . Output layer consists of 2 units i.e -1 or 1..  We will be checking this problem with 5, 6 and 7 hidden layers.The values for the hidden layers are taken as increasing, decreasing and then increasing and the final network is constructed with random values. I have done this in order to understand how my data would behave when under various nymber of hidden layers \n",
    "\n"
   ]
  },
  {
   "cell_type": "markdown",
   "metadata": {},
   "source": [
    "### Network1\n",
    "\n",
    "we construct he first network with 5 hidden layers. We have gradually decreased the  number of nodes in each layer from input to output. The first, second, third, fourth and fifth hidden layers consists of 14, 12, 10, 8, 6 units respectively. . Here, the input features are gradually generalized and each consecutive layer comes up with fewer units. At the end, we will end up with output layer with 2 units."
   ]
  },
  {
   "cell_type": "code",
   "execution_count": 82,
   "metadata": {},
   "outputs": [],
   "source": [
    "import tensorflow as tf"
   ]
  },
  {
   "cell_type": "code",
   "execution_count": 83,
   "metadata": {},
   "outputs": [
    {
     "data": {
      "text/plain": [
       "'1.16.2'"
      ]
     },
     "execution_count": 83,
     "metadata": {},
     "output_type": "execute_result"
    }
   ],
   "source": [
    "import numpy\n",
    "numpy.version.version"
   ]
  },
  {
   "cell_type": "code",
   "execution_count": 84,
   "metadata": {},
   "outputs": [],
   "source": [
    "#Defining network\n",
    "def network1(x, weights, biases, keep_prob):\n",
    "    layer_1 = tf.add(tf.matmul(x, weights['hid1']), biases['bias1'])\n",
    "    layer_1 = tf.nn.relu(layer_1)\n",
    "    layer_1 = tf.nn.dropout(layer_1, keep_prob)\n",
    "    layer_2 = tf.add(tf.matmul(layer_1, weights['hid2']), biases['bias2'])\n",
    "    layer_2 = tf.nn.relu(layer_2)\n",
    "    layer_2 = tf.nn.dropout(layer_2, keep_prob)\n",
    "    layer_3 = tf.add(tf.matmul(layer_2, weights['hid3']), biases['bias3'])\n",
    "    layer_3 = tf.nn.relu(layer_3)\n",
    "    layer_3 = tf.nn.dropout(layer_3, keep_prob)\n",
    "    layer_4 = tf.add(tf.matmul(layer_3, weights['hid4']), biases['bias4'])\n",
    "    layer_4 = tf.nn.relu(layer_4)\n",
    "    layer_4 = tf.nn.dropout(layer_4, keep_prob)\n",
    "    layer_5 = tf.add(tf.matmul(layer_4, weights['hid5']), biases['bias5'])\n",
    "    layer_5 = tf.nn.relu(layer_5)\n",
    "    layer_5 = tf.nn.dropout(layer_5, keep_prob)\n",
    "    output_layer = tf.matmul(layer_5, weights['out']) + biases['out']\n",
    "    return output_layer"
   ]
  },
  {
   "cell_type": "code",
   "execution_count": 85,
   "metadata": {},
   "outputs": [
    {
     "data": {
      "text/plain": [
       "(8400, 3)"
      ]
     },
     "execution_count": 85,
     "metadata": {},
     "output_type": "execute_result"
    }
   ],
   "source": [
    "features_train.shape"
   ]
  },
  {
   "cell_type": "code",
   "execution_count": 123,
   "metadata": {},
   "outputs": [],
   "source": [
    "#Initializing number of units for each layer\n",
    "n_hidden_1 = 14\n",
    "n_hidden_2 = 12\n",
    "n_hidden_3 = 10\n",
    "n_hidden_4 = 8\n",
    "n_hidden_5 = 6\n",
    "n_input =features_train.shape[1]\n",
    "n_classes = newyTrain.shape[1]\n",
    "#Initializing Weights with random values\n",
    "weights = {\n",
    "    'hid1': tf.Variable(tf.random_normal([n_input, n_hidden_1])),\n",
    "    'hid2': tf.Variable(tf.random_normal([n_hidden_1, n_hidden_2])),\n",
    "    'hid3': tf.Variable(tf.random_normal([n_hidden_2, n_hidden_3])),\n",
    "    'hid4': tf.Variable(tf.random_normal([n_hidden_3, n_hidden_4])),\n",
    "    'hid5': tf.Variable(tf.random_normal([n_hidden_4, n_hidden_5])),\n",
    "    'out': tf.Variable(tf.random_normal([n_hidden_5, n_classes]))\n",
    "}\n",
    "#Initializing biases with random values\n",
    "biases = {\n",
    "    'bias1': tf.Variable(tf.random_normal([n_hidden_1])),\n",
    "    'bias2': tf.Variable(tf.random_normal([n_hidden_2])),\n",
    "    'bias3': tf.Variable(tf.random_normal([n_hidden_3])),\n",
    "    'bias4': tf.Variable(tf.random_normal([n_hidden_4])),\n",
    "    'bias5': tf.Variable(tf.random_normal([n_hidden_5])),\n",
    "    'out': tf.Variable(tf.random_normal([n_classes]))\n",
    "}\n",
    "\n",
    "keep_prob = tf.placeholder(\"float\")"
   ]
  },
  {
   "cell_type": "code",
   "execution_count": 124,
   "metadata": {},
   "outputs": [],
   "source": [
    "training_epochs = 50\n",
    "view = 10\n",
    "batch_size = 64\n",
    "\n",
    "x = tf.placeholder(\"float\", [None, n_input])\n",
    "y = tf.placeholder(\"float\", [None, n_classes])"
   ]
  },
  {
   "cell_type": "code",
   "execution_count": 125,
   "metadata": {},
   "outputs": [],
   "source": [
    "predictions = network1(x, weights, biases, keep_prob)"
   ]
  },
  {
   "cell_type": "code",
   "execution_count": 126,
   "metadata": {},
   "outputs": [],
   "source": [
    "cost = tf.reduce_mean(tf.nn.softmax_cross_entropy_with_logits(logits=predictions, labels=y)) "
   ]
  },
  {
   "cell_type": "code",
   "execution_count": 127,
   "metadata": {},
   "outputs": [],
   "source": [
    "optimizer = tf.train.AdamOptimizer(learning_rate=0.0001).minimize(cost) # Using Adamoptimizer"
   ]
  },
  {
   "cell_type": "code",
   "execution_count": 148,
   "metadata": {},
   "outputs": [
    {
     "name": "stdout",
     "output_type": "stream",
     "text": [
      "Epoch:  1 cost= 126410476059.35874939\n",
      "Epoch: 11 cost= 32163457104.12221909\n",
      "Epoch: 21 cost= 101536882419.55986023\n",
      "Epoch: 31 cost= 88082505815.57498169\n",
      "Epoch: 41 cost= 53402346021.62407684\n",
      "Optimization Finished!\n",
      "Accuracy: 0.22055556\n"
     ]
    },
    {
     "data": {
      "image/png": "[encoded data removed]",
      "text/plain": [
       "<Figure size 432x288 with 1 Axes>"
      ]
     },
     "metadata": {
      "needs_background": "light"
     },
     "output_type": "display_data"
    }
   ],
   "source": [
    "# Session block\n",
    "with tf.Session() as sess:\n",
    "    sess.run(tf.global_variables_initializer())\n",
    "    epochcost = np.zeros(training_epochs)\n",
    "    accuracyarray = np.zeros(training_epochs)\n",
    "    for epoch in range(training_epochs):\n",
    "        avg_cost = 0.0\n",
    "        partitions = int(len(features_train) / batch_size)\n",
    "        # Create batches of data\n",
    "        x_batches = np.array_split(features_train, partitions)\n",
    "        y_batches = np.array_split(newTrain, partitions)\n",
    "        for i in range(partitions):\n",
    "            batch_x, batch_y = x_batches[i], y_batches[i]\n",
    "            _, c = sess.run([optimizer, cost], \n",
    "                            feed_dict={\n",
    "                                x: batch_x, \n",
    "                                y: batch_y, \n",
    "                                keep_prob: 0.8\n",
    "                            })\n",
    "            avg_cost += c / partitions\n",
    "        #Displaying for n epochs\n",
    "        if epoch % view == 0:\n",
    "            print(\"Epoch:\", '%2d' % (epoch+1), \"cost=\", \\\n",
    "                \"{:.8f}\".format(avg_cost))\n",
    "        #Store cost value for each epoch\n",
    "        epochcost[epoch] = avg_cost\n",
    "        correct_prediction = tf.equal(tf.argmax(predictions, 1), tf.argmax(y, 1))\n",
    "        #Store cost value for each epoch\n",
    "        accuracy = tf.reduce_mean(tf.cast(correct_prediction, \"float\"))\n",
    "        accuracyarray[epoch] =  accuracy.eval({x: features_test, y: newTest, keep_prob: 1.0})\n",
    "    print(\"Optimization Finished!\")\n",
    "    correct_prediction = tf.equal(tf.argmax(predictions, 1), tf.argmax(y, 1))\n",
    "    accuracy = tf.reduce_mean(tf.cast(correct_prediction, \"float\"))\n",
    "    print(\"Accuracy:\", accuracy.eval({x: features_test, y: newTest, keep_prob: 1.0}))\n",
    "    #Display cost graph\n",
    "    plt.plot(epochcost)\n",
    "    plt.xlabel('No. of epochs')\n",
    "    plt.ylabel('Cost')"
   ]
  },
  {
   "cell_type": "code",
   "execution_count": 139,
   "metadata": {},
   "outputs": [
    {
     "data": {
      "text/plain": [
       "Text(0,0.5,'Accuracy')"
      ]
     },
     "execution_count": 139,
     "metadata": {},
     "output_type": "execute_result"
    },
    {
     "data": {
      "image/png": "[encoded data removed]",
      "text/plain": [
       "<Figure size 432x288 with 1 Axes>"
      ]
     },
     "metadata": {
      "needs_background": "light"
     },
     "output_type": "display_data"
    }
   ],
   "source": [
    "#Display accuracy graph\n",
    "plt.plot(accuracyarray)\n",
    "plt.xlabel('No. of epochs')\n",
    "plt.ylabel('Accuracy')"
   ]
  },
  {
   "cell_type": "markdown",
   "metadata": {},
   "source": [
    "### Network2\n",
    "\n",
    "We construct the second network with the number of nodes are initially increased until the middle of the network and then gradually decreased.\n",
    "The first, second, third, fourth, fifth and sixth hidden layers consists of 24, 26, 24, 20, 16 and 4 units respectively. This is to be done when we have very less features. If we assume the middle layer to be input layer, observe from the middle of the network, it looks similar to the first network with decreasing units in each layer. So, the number of features are increased so that we can have better data which results in a good model."
   ]
  },
  {
   "cell_type": "code",
   "execution_count": 130,
   "metadata": {},
   "outputs": [],
   "source": [
    "def network2(x, weights, biases, keep_prob):\n",
    "    layer_1 = tf.add(tf.matmul(x, weights['hid1']), biases['bias1'])\n",
    "    layer_1 = tf.nn.relu(layer_1)\n",
    "    layer_1 = tf.nn.dropout(layer_1, keep_prob)\n",
    "    layer_2 = tf.add(tf.matmul(layer_1, weights['hid2']), biases['bias2'])\n",
    "    layer_2 = tf.nn.relu(layer_2)\n",
    "    layer_2 = tf.nn.dropout(layer_2, keep_prob)\n",
    "    layer_3 = tf.add(tf.matmul(layer_2, weights['hid3']), biases['bias3'])\n",
    "    layer_3 = tf.nn.relu(layer_3)\n",
    "    layer_3 = tf.nn.dropout(layer_3, keep_prob)\n",
    "    layer_4 = tf.add(tf.matmul(layer_3, weights['hid4']), biases['bias4'])\n",
    "    layer_4 = tf.nn.relu(layer_4)\n",
    "    layer_4 = tf.nn.dropout(layer_4, keep_prob)\n",
    "    layer_5 = tf.add(tf.matmul(layer_4, weights['hid5']), biases['bias5'])\n",
    "    layer_5 = tf.nn.relu(layer_5)\n",
    "    layer_5 = tf.nn.dropout(layer_5, keep_prob)\n",
    "    layer_6 = tf.add(tf.matmul(layer_5, weights['hid6']), biases['bias6'])\n",
    "    layer_6 = tf.nn.relu(layer_6)\n",
    "    layer_6 = tf.nn.dropout(layer_6, keep_prob)\n",
    "    output_layer = tf.matmul(layer_6, weights['out']) + biases['out']\n",
    "    return output_layer"
   ]
  },
  {
   "cell_type": "code",
   "execution_count": 131,
   "metadata": {},
   "outputs": [],
   "source": [
    "n_hidden_1 = 24\n",
    "n_hidden_2 = 26\n",
    "n_hidden_3 = 24\n",
    "n_hidden_4 = 20\n",
    "n_hidden_5 = 16\n",
    "n_hidden_6 = 4\n",
    "n_input = features_train.shape[1]\n",
    "n_classes = newyTrain.shape[1]\n",
    "\n",
    "weights = {\n",
    "    'hid1': tf.Variable(tf.random_normal([n_input, n_hidden_1])),\n",
    "    'hid2': tf.Variable(tf.random_normal([n_hidden_1, n_hidden_2])),\n",
    "    'hid3': tf.Variable(tf.random_normal([n_hidden_2, n_hidden_3])),\n",
    "    'hid4': tf.Variable(tf.random_normal([n_hidden_3, n_hidden_4])),\n",
    "    'hid5': tf.Variable(tf.random_normal([n_hidden_4, n_hidden_5])),\n",
    "    'hid6': tf.Variable(tf.random_normal([n_hidden_5, n_hidden_6])),\n",
    "    'out': tf.Variable(tf.random_normal([n_hidden_6, n_classes]))\n",
    "}\n",
    "\n",
    "biases = {\n",
    "    'bias1': tf.Variable(tf.random_normal([n_hidden_1])),\n",
    "    'bias2': tf.Variable(tf.random_normal([n_hidden_2])),\n",
    "    'bias3': tf.Variable(tf.random_normal([n_hidden_3])),\n",
    "    'bias4': tf.Variable(tf.random_normal([n_hidden_4])),\n",
    "    'bias5': tf.Variable(tf.random_normal([n_hidden_5])),\n",
    "    'bias6': tf.Variable(tf.random_normal([n_hidden_6])),\n",
    "    'out': tf.Variable(tf.random_normal([n_classes]))\n",
    "}\n",
    "\n",
    "keep_prob = tf.placeholder(\"float\")"
   ]
  },
  {
   "cell_type": "code",
   "execution_count": 153,
   "metadata": {},
   "outputs": [],
   "source": [
    "training_epochs = 50\n",
    "view = 10\n",
    "batch_size = 64\n",
    "\n",
    "x = tf.placeholder(\"float\", [None, n_input])\n",
    "y = tf.placeholder(\"float\", [None, n_classes])"
   ]
  },
  {
   "cell_type": "code",
   "execution_count": 154,
   "metadata": {},
   "outputs": [],
   "source": [
    "predictions = network2(x, weights, biases, keep_prob)"
   ]
  },
  {
   "cell_type": "code",
   "execution_count": 155,
   "metadata": {},
   "outputs": [],
   "source": [
    "cost = tf.reduce_mean(tf.nn.softmax_cross_entropy_with_logits(logits=predictions, labels=y))"
   ]
  },
  {
   "cell_type": "code",
   "execution_count": 156,
   "metadata": {},
   "outputs": [],
   "source": [
    "optimizer = tf.train.AdamOptimizer(learning_rate=0.0001).minimize(cost)"
   ]
  },
  {
   "cell_type": "code",
   "execution_count": 157,
   "metadata": {},
   "outputs": [
    {
     "name": "stdout",
     "output_type": "stream",
     "text": [
      "Epoch:  1 cost= 30276385600.48854446\n",
      "Epoch: 11 cost= 2470740191.36166716\n",
      "Epoch: 21 cost= 479841974.06474471\n",
      "Epoch: 31 cost= 329732419.33703578\n",
      "Epoch: 41 cost= 1664310680.94793034\n",
      "Optimization Finished!\n",
      "Accuracy: 0.22055556\n"
     ]
    },
    {
     "data": {
      "image/png": "[encoded data removed]",
      "text/plain": [
       "<Figure size 432x288 with 1 Axes>"
      ]
     },
     "metadata": {
      "needs_background": "light"
     },
     "output_type": "display_data"
    }
   ],
   "source": [
    "# Session block\n",
    "with tf.Session() as sess:\n",
    "    sess.run(tf.global_variables_initializer())\n",
    "    epochcost = np.zeros(training_epochs)\n",
    "    accuracyarray = np.zeros(training_epochs)\n",
    "    for epoch in range(training_epochs):\n",
    "        avg_cost = 0.0\n",
    "        partitions = int(len(features_train) / batch_size)\n",
    "        # Create batches of data\n",
    "        x_batches = np.array_split(features_train, partitions)\n",
    "        y_batches = np.array_split(newTrain, partitions)\n",
    "        for i in range(partitions):\n",
    "            batch_x, batch_y = x_batches[i], y_batches[i]\n",
    "            _, c = sess.run([optimizer, cost], \n",
    "                            feed_dict={\n",
    "                                x: batch_x, \n",
    "                                y: batch_y, \n",
    "                                keep_prob: 0.8\n",
    "                            })\n",
    "            avg_cost += c / partitions\n",
    "        #Displaying for n epochs\n",
    "        if epoch % view == 0:\n",
    "            print(\"Epoch:\", '%2d' % (epoch+1), \"cost=\", \\\n",
    "                \"{:.8f}\".format(avg_cost))\n",
    "        #Store cost value for each epoch\n",
    "        epochcost[epoch] = avg_cost\n",
    "        correct_prediction = tf.equal(tf.argmax(predictions, 1), tf.argmax(y, 1))\n",
    "        #Store cost value for each epoch\n",
    "        accuracy = tf.reduce_mean(tf.cast(correct_prediction, \"float\"))\n",
    "        accuracyarray[epoch] =  accuracy.eval({x: features_test, y: newTest, keep_prob: 1.0})\n",
    "    print(\"Optimization Finished!\")\n",
    "    correct_prediction = tf.equal(tf.argmax(predictions, 1), tf.argmax(y, 1))\n",
    "    accuracy = tf.reduce_mean(tf.cast(correct_prediction, \"float\"))\n",
    "    print(\"Accuracy:\", accuracy.eval({x: features_test, y: newTest, keep_prob: 1.0}))\n",
    "    #Display cost graph\n",
    "    plt.plot(epochcost)\n",
    "    plt.xlabel('No. of epochs')\n",
    "    plt.ylabel('Cost')"
   ]
  },
  {
   "cell_type": "code",
   "execution_count": null,
   "metadata": {},
   "outputs": [],
   "source": [
    "plt.plot(accuracyarray)\n",
    "plt.xlabel('No. of epochs')\n",
    "plt.ylabel('Accuracy')"
   ]
  },
  {
   "cell_type": "markdown",
   "metadata": {},
   "source": [
    "### Network3\n",
    "Here, the number of units in each layer are not gradually decreasing. Instead they are in a zigzag from. One of the reason is that decreasing numbers of hidden units force generalization and reduce the accuracy of the model. The first, second, third, fourth, fifth, sixth and seventh hidden layers consists of 8, 4, 8, 4, 8, 4 and 2 respectively. Here, even we have increased the number of layers to 7 and the average number of units in each layer is 6. This is to check whether the accuracy increases with increase in number of layers."
   ]
  },
  {
   "cell_type": "code",
   "execution_count": 109,
   "metadata": {},
   "outputs": [],
   "source": [
    "def network3(x, weights, biases, keep_prob):\n",
    "    layer_1 = tf.add(tf.matmul(x, weights['hid1']), biases['bias1'])\n",
    "    layer_1 = tf.nn.relu(layer_1)\n",
    "    layer_1 = tf.nn.dropout(layer_1, keep_prob)\n",
    "    layer_2 = tf.add(tf.matmul(layer_1, weights['hid2']), biases['bias2'])\n",
    "    layer_2 = tf.nn.relu(layer_2)\n",
    "    layer_2 = tf.nn.dropout(layer_2, keep_prob)\n",
    "    layer_3 = tf.add(tf.matmul(layer_2, weights['hid3']), biases['bias3'])\n",
    "    layer_3 = tf.nn.relu(layer_3)\n",
    "    layer_3 = tf.nn.dropout(layer_3, keep_prob)\n",
    "    layer_4 = tf.add(tf.matmul(layer_3, weights['hid4']), biases['bias4'])\n",
    "    layer_4 = tf.nn.relu(layer_4)\n",
    "    layer_4 = tf.nn.dropout(layer_4, keep_prob)\n",
    "    layer_5 = tf.add(tf.matmul(layer_4, weights['hid5']), biases['bias5'])\n",
    "    layer_5 = tf.nn.relu(layer_5)\n",
    "    layer_5 = tf.nn.dropout(layer_5, keep_prob)\n",
    "    layer_6 = tf.add(tf.matmul(layer_5, weights['hid6']), biases['bias6'])\n",
    "    layer_6 = tf.nn.relu(layer_6)\n",
    "    layer_6 = tf.nn.dropout(layer_6, keep_prob)\n",
    "    layer_7 = tf.add(tf.matmul(layer_6, weights['hid7']), biases['bias7'])\n",
    "    layer_7 = tf.nn.relu(layer_7)\n",
    "    layer_7 = tf.nn.dropout(layer_7, keep_prob)\n",
    "\n",
    "    output_layer = tf.matmul(layer_7, weights['out']) + biases['out']\n",
    "    return output_layer"
   ]
  },
  {
   "cell_type": "code",
   "execution_count": 111,
   "metadata": {},
   "outputs": [],
   "source": [
    "n_hidden_1 = 8\n",
    "n_hidden_2 = 4\n",
    "n_hidden_3 = 8\n",
    "n_hidden_4 = 4\n",
    "n_hidden_5 = 8\n",
    "n_hidden_6 = 4\n",
    "n_hidden_7 = 2\n",
    "n_input = features_train.shape[1]\n",
    "n_classes = newyTrain.shape[1]\n",
    "\n",
    "weights = {\n",
    "    'hid1': tf.Variable(tf.random_normal([n_input, n_hidden_1])),\n",
    "    'hid2': tf.Variable(tf.random_normal([n_hidden_1, n_hidden_2])),\n",
    "    'hid3': tf.Variable(tf.random_normal([n_hidden_2, n_hidden_3])),\n",
    "    'hid4': tf.Variable(tf.random_normal([n_hidden_3, n_hidden_4])),\n",
    "    'hid5': tf.Variable(tf.random_normal([n_hidden_4, n_hidden_5])),\n",
    "    'hid6': tf.Variable(tf.random_normal([n_hidden_5, n_hidden_6])),\n",
    "    'hid7': tf.Variable(tf.random_normal([n_hidden_6, n_hidden_7])),\n",
    "    'out': tf.Variable(tf.random_normal([n_hidden_7, n_classes]))\n",
    "}\n",
    "\n",
    "biases = {\n",
    "    'bias1': tf.Variable(tf.random_normal([n_hidden_1])),\n",
    "    'bias2': tf.Variable(tf.random_normal([n_hidden_2])),\n",
    "    'bias3': tf.Variable(tf.random_normal([n_hidden_3])),\n",
    "    'bias4': tf.Variable(tf.random_normal([n_hidden_4])),\n",
    "    'bias5': tf.Variable(tf.random_normal([n_hidden_5])),\n",
    "    'bias6': tf.Variable(tf.random_normal([n_hidden_6])),\n",
    "    'bias7': tf.Variable(tf.random_normal([n_hidden_7])),\n",
    "    'out': tf.Variable(tf.random_normal([n_classes]))\n",
    "}\n",
    "\n",
    "keep_prob = tf.placeholder(\"float\")"
   ]
  },
  {
   "cell_type": "code",
   "execution_count": 112,
   "metadata": {},
   "outputs": [],
   "source": [
    "training_epochs = 50\n",
    "view = 10\n",
    "batch_size = 64\n",
    "\n",
    "x = tf.placeholder(\"float\", [None, n_input])\n",
    "y = tf.placeholder(\"float\", [None, n_classes])"
   ]
  },
  {
   "cell_type": "code",
   "execution_count": 113,
   "metadata": {},
   "outputs": [],
   "source": [
    "predictions = network3(x, weights, biases, keep_prob)"
   ]
  },
  {
   "cell_type": "code",
   "execution_count": 114,
   "metadata": {},
   "outputs": [],
   "source": [
    "cost = tf.reduce_mean(tf.nn.softmax_cross_entropy_with_logits(logits=predictions, labels=y))"
   ]
  },
  {
   "cell_type": "code",
   "execution_count": 115,
   "metadata": {},
   "outputs": [],
   "source": [
    "optimizer = tf.train.AdamOptimizer(learning_rate=0.0001).minimize(cost)"
   ]
  },
  {
   "cell_type": "code",
   "execution_count": 150,
   "metadata": {},
   "outputs": [
    {
     "name": "stdout",
     "output_type": "stream",
     "text": [
      "Epoch:  1 cost= 90697386589.80151367\n",
      "Epoch: 11 cost= 24224952761.16031265\n",
      "Epoch: 21 cost= 3555664904.13422298\n",
      "Epoch: 31 cost= 5322153389.00027275\n",
      "Epoch: 41 cost= 7683076553.28040886\n",
      "Optimization Finished!\n",
      "Accuracy: 0.77944446\n"
     ]
    },
    {
     "data": {
      "image/png": "[encoded data removed]",
      "text/plain": [
       "<Figure size 432x288 with 1 Axes>"
      ]
     },
     "metadata": {
      "needs_background": "light"
     },
     "output_type": "display_data"
    }
   ],
   "source": [
    "with tf.Session() as sess:\n",
    "    sess.run(tf.global_variables_initializer())\n",
    "    epochcost = np.zeros(training_epochs)\n",
    "    accuracyarray = np.zeros(training_epochs)\n",
    "    for epoch in range(training_epochs):\n",
    "        avg_cost = 0.0\n",
    "        partitions = int(len(features_train) / batch_size)\n",
    "        x_batches = np.array_split(features_train, partitions)\n",
    "        y_batches = np.array_split(newTrain, partitions)\n",
    "        for i in range(partitions):\n",
    "            batch_x, batch_y = x_batches[i], y_batches[i]\n",
    "            _, c = sess.run([optimizer, cost], \n",
    "                            feed_dict={\n",
    "                                x: batch_x, \n",
    "                                y: batch_y, \n",
    "                                keep_prob: 0.8\n",
    "                            })\n",
    "            avg_cost += c / partitions\n",
    "        if epoch % view == 0:\n",
    "            print(\"Epoch:\", '%2d' % (epoch+1), \"cost=\", \\\n",
    "                \"{:.8f}\".format(avg_cost))\n",
    "        epochcost[epoch] = avg_cost\n",
    "        correct_prediction = tf.equal(tf.argmax(predictions, 1), tf.argmax(y, 1))\n",
    "        accuracy = tf.reduce_mean(tf.cast(correct_prediction, \"float\"))\n",
    "        accuracyarray[epoch] =  accuracy.eval({x: features_test, y: newTest, keep_prob: 1.0})\n",
    "    print(\"Optimization Finished!\")\n",
    "    correct_prediction = tf.equal(tf.argmax(predictions, 1), tf.argmax(y, 1))\n",
    "    accuracy = tf.reduce_mean(tf.cast(correct_prediction, \"float\"))\n",
    "    print(\"Accuracy:\", accuracy.eval({x: features_test, y: newTest, keep_prob: 1.0}))\n",
    "    plt.plot(epochcost)\n",
    "    plt.xlabel('No. of epochs')\n",
    "    plt.ylabel('Cost')"
   ]
  },
  {
   "cell_type": "code",
   "execution_count": 158,
   "metadata": {},
   "outputs": [
    {
     "data": {
      "text/plain": [
       "Text(0,0.5,'Accuracy')"
      ]
     },
     "execution_count": 158,
     "metadata": {},
     "output_type": "execute_result"
    },
    {
     "data": {
      "image/png": "[encoded data removed]",
      "text/plain": [
       "<Figure size 432x288 with 1 Axes>"
      ]
     },
     "metadata": {
      "needs_background": "light"
     },
     "output_type": "display_data"
    }
   ],
   "source": [
    "plt.plot(accuracyarray)\n",
    "plt.xlabel('No. of epochs')\n",
    "plt.ylabel('Accuracy')"
   ]
  },
  {
   "cell_type": "markdown",
   "metadata": {},
   "source": [
    "## Explanation of codes for each structure\n",
    "\n",
    "In three of the cases, at first the network is created with required number of layers. And then weights and biases are randomly initialized. Training epochs and batch size is initialized. At each network, code is explained in comments.\n",
    "\n",
    "### Network1\n",
    "AdamOptimizer is used. The number of units for each hidden layer from 1 to 5 are initiated and the the session is started. Layers are initiated by multiplying the weights with the previous layer.\n",
    "\n",
    "### Network2\n",
    "Learning rate is also initialized. It is same for three of the networks. The number of epochs, optimizer and learning rate is kept constant so that we can examine the results based on just the network. Data is divided based on the batch size. Arrays are initiated to store values of accuracy and cost for each epoch. These are updated during each epoch\n",
    "\n",
    "### Network3\n",
    "Instead of calculating the accuracy at the end, cost and accuracy are calculated for each epoch and plotted. The plots are analysed and a detailed description of them is given. Cost is displayed based on display step. "
   ]
  },
  {
   "cell_type": "markdown",
   "metadata": {},
   "source": [
    "## Explanation of experimental codes\n",
    "\n",
    "\n",
    "\n",
    "Based on the intiated values, some networks are behaviouris slightly different  when executed multiple times. There is a change in the results when we re run the code. Hence, while implementing these codes, the exact results may not be reproduced. The learning is also changing for each network based on this. Data is partitioned based on various conditions and different visualizations are done. Matplotlib is used to plot these visualizations. Xlabel and Ylabel attributes are used to display the axis names."
   ]
  },
  {
   "cell_type": "markdown",
   "metadata": {},
   "source": [
    "## Plots for Results\n",
    "\n",
    "The plot for number of epochs vs cost is plotted for 3 networks while implementing them itself. We can observe that the cost is lesser for the 3rd network with 7 layers with a few epochs itself. In every network, the cost is decreasing with increase in iterations. Similarly, with increase in number of epochs, the accuracy has been increasing to an extent and after some optimum value it is not increasing. We can observe third network is performing very well in No. of epochs vs Accuracy graph also.\n",
    "\n"
   ]
  },
  {
   "cell_type": "markdown",
   "metadata": {},
   "source": [
    "## Discussions about the choice of network structures\n",
    "\n",
    "The number of layers in first, second and third network are 5, 6 and 7 respectively. These are selected to inspect the change in accuracy with increase in number of hidden layers. In the first network, the number of units in each hidden layer from input to output are gradually decreasing. In the second network, the number of nodes are initially increased until the middle of the network and then gradually decreased. In the third network, the number of units in each layer are in zigzag form. Number of nodes are increased, immediately decreased and then again increased. Values are stored using numpy arrays at each iteration and then they are plot using matplotlib libraries.<br>\n",
    "All the 3 networks have performed with a good accuracy of close to 78%. But the model with 7 layers is learning quickly. Though after some epochs, all the models are performing similarly. "
   ]
  },
  {
   "cell_type": "markdown",
   "metadata": {},
   "source": [
    "## Conclusion:\n",
    "\n",
    "The accuracy for the various networks with different number of hidden layers and the pattern of the values is almost the same.\n",
    "The classification shows an acuuracy close to 78%.\n",
    "\n",
    "- I have learnt a lot about the library tensorflow, its functions and implementation.\n",
    "- I learnt about the influence of various parameters and learning rate on predicting results\n",
    "- Working with higher number of levels and choosing nodes for each level has been both challenging and timetaking\n",
    "    "
   ]
  }
 ],
 "metadata": {
  "kernelspec": {
   "display_name": "Python 3",
   "language": "python",
   "name": "python3"
  },
  "language_info": {
   "codemirror_mode": {
    "name": "ipython",
    "version": 3
   },
   "file_extension": ".py",
   "mimetype": "text/x-python",
   "name": "python",
   "nbconvert_exporter": "python",
   "pygments_lexer": "ipython3",
   "version": "3.7.0"
  }
 },
 "nbformat": 4,
 "nbformat_minor": 2
}
