{
 "cells": [
  {
   "cell_type": "code",
   "execution_count": null,
   "metadata": {},
   "outputs": [],
   "source": [
    "import socket\n",
    "import os\n",
    "import subprocess\n",
    "import ast\n",
    "import numpy as np\n",
    "player = 'Tanmay' #enter unique name for your game\n",
    "s = socket.socket()\n",
    "host = '10.216.23.187' # change ip addres to ip adress of your computer or use 'localhost' to practice\n",
    "port = 9999\n",
    "\n",
    "s.connect((host, port))\n",
    "\n",
    "while True:\n",
    "    data = s.recv(1024)\n",
    "    if data.decode(\"utf-8\") == 'send':\n",
    "        s.send(str.encode( player))\n",
    "        client_response = str(s.recv(20480), \"utf-8\")\n",
    "        print(client_response, end=\"\")\n",
    "        break\n",
    "while True:\n",
    "    data = s.recv(1024)\n",
    "    if data.decode(\"utf-8\") == 'sendbet':\n",
    "        ro=str(s.recv(20480), \"utf-8\")\n",
    "        ro=ast.literal_eval(ro)\n",
    "        print(ro)\n",
    "# The above observation are stored in dict format. To access specific variables use syntax as \n",
    "# ro['state']['player_info']['player_total_balance']\n",
    "# send whichever variable information stored in ro to your agent to help make the decision\n",
    "#### Look at the above observations stored in variable ro as dictionary and store bet amount in variable bet#####\n",
    "        bet=2\n",
    "        s.send(str.encode( str(bet)))\n",
    "        \n",
    "    if data.decode(\"utf-8\") == 'sendaction':\n",
    "        ro=str(s.recv(20480), \"utf-8\")\n",
    "        ro=ast.literal_eval(ro)\n",
    "        print(ro)\n",
    "        #follow same procedure as abov to send observations to your agent\n",
    "        ###### Look at the above observations and action in variable action#####\n",
    "        \n",
    "        action = np.random.randint(0, 2)\n",
    "        print(\"action \",action)\n",
    "        s.send(str.encode( str(action)))\n",
    "    if data.decode(\"utf-8\") == 'gameover':\n",
    "        print(\"Game over wait for others to play and wait for results\")\n",
    "        "
   ]
  }
 ],
 "metadata": {
  "kernelspec": {
   "display_name": "Python 3",
   "language": "python",
   "name": "python3"
  },
  "language_info": {
   "codemirror_mode": {
    "name": "ipython",
    "version": 3
   },
   "file_extension": ".py",
   "mimetype": "text/x-python",
   "name": "python",
   "nbconvert_exporter": "python",
   "pygments_lexer": "ipython3",
   "version": "3.7.0"
  }
 },
 "nbformat": 4,
 "nbformat_minor": 2
}
