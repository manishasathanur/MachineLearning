{
 "cells": [
  {
   "cell_type": "code",
   "execution_count": 2,
   "metadata": {},
   "outputs": [
    {
     "name": "stdout",
     "output_type": "stream",
     "text": [
      "Connection established, Names collected{'state': {'player_info': {'player_sum_card': 8, 'player_card': [6, 2], 'player_total_balance': 10, 'usable_ace': False}, 'dealer_info': 10}}\n",
      "{'state': {'player_info': {'player_sum_card': 8, 'player_card': [6, 2], 'player_total_balance': 10, 'usable_ace': False}, 'dealer_info': 10}}\n",
      "action  1\n",
      "{'state': {'player_info': {'player_sum_card': 14, 'player_card': [6, 2, 6], 'player_total_balance': 8, 'usable_ace': False}, 'dealer_info': 10}, 'reward': 0, 'is_round_done': False}\n",
      "action  0\n",
      "{'state': {'player_info': {'player_sum_card': 15, 'player_card': [5, 10], 'player_total_balance': 12, 'usable_ace': False}, 'dealer_info': 6}}\n",
      "{'state': {'player_info': {'player_sum_card': 15, 'player_card': [5, 10], 'player_total_balance': 12, 'usable_ace': False}, 'dealer_info': 6}}\n",
      "action  0\n",
      "{'state': {'player_info': {'player_sum_card': 20, 'player_card': [10, 10], 'player_total_balance': 10, 'usable_ace': False}, 'dealer_info': 6}}\n",
      "{'state': {'player_info': {'player_sum_card': 20, 'player_card': [10, 10], 'player_total_balance': 10, 'usable_ace': False}, 'dealer_info': 6}}\n",
      "action  1\n",
      "{'state': {'player_info': {'player_sum_card': 16, 'player_card': [10, 6], 'player_total_balance': 8, 'usable_ace': False}, 'dealer_info': 10}}\n",
      "{'state': {'player_info': {'player_sum_card': 16, 'player_card': [10, 6], 'player_total_balance': 8, 'usable_ace': False}, 'dealer_info': 10}}\n",
      "action  0\n",
      "{'state': {'player_info': {'player_sum_card': 15, 'player_card': [10, 5], 'player_total_balance': 10, 'usable_ace': False}, 'dealer_info': 1}}\n",
      "{'state': {'player_info': {'player_sum_card': 15, 'player_card': [10, 5], 'player_total_balance': 10, 'usable_ace': False}, 'dealer_info': 1}}\n",
      "action  0\n",
      "{'state': {'player_info': {'player_sum_card': 13, 'player_card': [3, 10], 'player_total_balance': 8, 'usable_ace': False}, 'dealer_info': 8}}\n",
      "{'state': {'player_info': {'player_sum_card': 13, 'player_card': [3, 10], 'player_total_balance': 8, 'usable_ace': False}, 'dealer_info': 8}}\n",
      "action  1\n",
      "{'state': {'player_info': {'player_sum_card': 14, 'player_card': [3, 10, 1], 'player_total_balance': 6, 'usable_ace': False}, 'dealer_info': 8}, 'reward': 0, 'is_round_done': False}\n",
      "action  0\n",
      "{'state': {'player_info': {'player_sum_card': 18, 'player_card': [10, 8], 'player_total_balance': 10, 'usable_ace': False}, 'dealer_info': 4}}\n",
      "{'state': {'player_info': {'player_sum_card': 18, 'player_card': [10, 8], 'player_total_balance': 10, 'usable_ace': False}, 'dealer_info': 4}}\n",
      "action  1\n",
      "{'state': {'player_info': {'player_sum_card': 19, 'player_card': [10, 8, 1], 'player_total_balance': 8, 'usable_ace': False}, 'dealer_info': 4}, 'reward': 0, 'is_round_done': False}\n",
      "action  1\n",
      "{'state': {'player_info': {'player_sum_card': 6, 'player_card': [4, 2], 'player_total_balance': 8, 'usable_ace': False}, 'dealer_info': 3}}\n",
      "{'state': {'player_info': {'player_sum_card': 6, 'player_card': [4, 2], 'player_total_balance': 8, 'usable_ace': False}, 'dealer_info': 3}}\n",
      "action  0\n",
      "{'state': {'player_info': {'player_sum_card': 13, 'player_card': [5, 8], 'player_total_balance': 6, 'usable_ace': False}, 'dealer_info': 4}}\n",
      "{'state': {'player_info': {'player_sum_card': 13, 'player_card': [5, 8], 'player_total_balance': 6, 'usable_ace': False}, 'dealer_info': 4}}\n",
      "action  0\n",
      "{'state': {'player_info': {'player_sum_card': 15, 'player_card': [10, 5], 'player_total_balance': 8, 'usable_ace': False}, 'dealer_info': 10}}\n",
      "{'state': {'player_info': {'player_sum_card': 15, 'player_card': [10, 5], 'player_total_balance': 8, 'usable_ace': False}, 'dealer_info': 10}}\n",
      "action  1\n",
      "{'state': {'player_info': {'player_sum_card': 17, 'player_card': [10, 5, 2], 'player_total_balance': 6, 'usable_ace': False}, 'dealer_info': 10}, 'reward': 0, 'is_round_done': False}\n",
      "action  1\n",
      "{'state': {'player_info': {'player_sum_card': 19, 'player_card': [10, 5, 2, 2], 'player_total_balance': 6, 'usable_ace': False}, 'dealer_info': 10}, 'reward': 0, 'is_round_done': False}\n",
      "action  0\n",
      "Game over wait for others to play and wait for results\n"
     ]
    },
    {
     "ename": "ConnectionResetError",
     "evalue": "[WinError 10054] An existing connection was forcibly closed by the remote host",
     "output_type": "error",
     "traceback": [
      "\u001b[1;31m---------------------------------------------------------------------------\u001b[0m",
      "\u001b[1;31mConnectionResetError\u001b[0m                      Traceback (most recent call last)",
      "\u001b[1;32m<ipython-input-2-0f5ec29b95ab>\u001b[0m in \u001b[0;36m<module>\u001b[1;34m()\u001b[0m\n\u001b[0;32m     19\u001b[0m         \u001b[1;32mbreak\u001b[0m\u001b[1;33m\u001b[0m\u001b[0m\n\u001b[0;32m     20\u001b[0m \u001b[1;32mwhile\u001b[0m \u001b[1;32mTrue\u001b[0m\u001b[1;33m:\u001b[0m\u001b[1;33m\u001b[0m\u001b[0m\n\u001b[1;32m---> 21\u001b[1;33m     \u001b[0mdata\u001b[0m \u001b[1;33m=\u001b[0m \u001b[0ms\u001b[0m\u001b[1;33m.\u001b[0m\u001b[0mrecv\u001b[0m\u001b[1;33m(\u001b[0m\u001b[1;36m1024\u001b[0m\u001b[1;33m)\u001b[0m\u001b[1;33m\u001b[0m\u001b[0m\n\u001b[0m\u001b[0;32m     22\u001b[0m     \u001b[1;32mif\u001b[0m \u001b[0mdata\u001b[0m\u001b[1;33m.\u001b[0m\u001b[0mdecode\u001b[0m\u001b[1;33m(\u001b[0m\u001b[1;34m\"utf-8\"\u001b[0m\u001b[1;33m)\u001b[0m \u001b[1;33m==\u001b[0m \u001b[1;34m'sendbet'\u001b[0m\u001b[1;33m:\u001b[0m\u001b[1;33m\u001b[0m\u001b[0m\n\u001b[0;32m     23\u001b[0m         \u001b[0mro\u001b[0m\u001b[1;33m=\u001b[0m\u001b[0mstr\u001b[0m\u001b[1;33m(\u001b[0m\u001b[0ms\u001b[0m\u001b[1;33m.\u001b[0m\u001b[0mrecv\u001b[0m\u001b[1;33m(\u001b[0m\u001b[1;36m20480\u001b[0m\u001b[1;33m)\u001b[0m\u001b[1;33m,\u001b[0m \u001b[1;34m\"utf-8\"\u001b[0m\u001b[1;33m)\u001b[0m\u001b[1;33m\u001b[0m\u001b[0m\n",
      "\u001b[1;31mConnectionResetError\u001b[0m: [WinError 10054] An existing connection was forcibly closed by the remote host"
     ]
    }
   ],
   "source": [
    "import socket\n",
    "import os\n",
    "import subprocess\n",
    "import ast\n",
    "import numpy as np\n",
    "player = 'Manisha' #enter unique name for your game\n",
    "s = socket.socket()\n",
    "host = '10.216.25.34' # change ip addres to ip adress of your computer or use 'localhost' to practice\n",
    "port = 9999\n",
    "\n",
    "s.connect((host, port))\n",
    "\n",
    "while True:\n",
    "    data = s.recv(1024)\n",
    "    if data.decode(\"utf-8\") == 'send':\n",
    "        s.send(str.encode( player))\n",
    "        client_response = str(s.recv(20480), \"utf-8\")\n",
    "        print(client_response, end=\"\")\n",
    "        break\n",
    "while True:\n",
    "    data = s.recv(1024)\n",
    "    if data.decode(\"utf-8\") == 'sendbet':\n",
    "        ro=str(s.recv(20480), \"utf-8\")\n",
    "        ro=ast.literal_eval(ro)\n",
    "        print(ro)\n",
    "# The above observation are stored in dict format. To access specific variables use syntax as \n",
    "# ro['state']['player_info']['player_total_balance']\n",
    "# send whichever variable information stored in ro to your agent to help make the decision\n",
    "#### Look at the above observations stored in variable ro as dictionary and store bet amount in variable bet#####\n",
    "        bet=2\n",
    "        s.send(str.encode( str(bet)))\n",
    "        \n",
    "    if data.decode(\"utf-8\") == 'sendaction':\n",
    "        ro=str(s.recv(20480), \"utf-8\")\n",
    "        ro=ast.literal_eval(ro)\n",
    "        print(ro)\n",
    "        #follow same procedure as abov to send observations to your agent\n",
    "        ###### Look at the above observations and action in variable action#####\n",
    "        \n",
    "        action = np.random.randint(0, 2)\n",
    "        print(\"action \",action)\n",
    "        s.send(str.encode( str(action)))\n",
    "    if data.decode(\"utf-8\") == 'gameover':\n",
    "        print(\"Game over wait for others to play and wait for results\")\n",
    "        "
   ]
  },
  {
   "cell_type": "code",
   "execution_count": null,
   "metadata": {},
   "outputs": [],
   "source": []
  }
 ],
 "metadata": {
  "kernelspec": {
   "display_name": "Python 3",
   "language": "python",
   "name": "python3"
  },
  "language_info": {
   "codemirror_mode": {
    "name": "ipython",
    "version": 3
   },
   "file_extension": ".py",
   "mimetype": "text/x-python",
   "name": "python",
   "nbconvert_exporter": "python",
   "pygments_lexer": "ipython3",
   "version": "3.7.0"
  }
 },
 "nbformat": 4,
 "nbformat_minor": 2
}
